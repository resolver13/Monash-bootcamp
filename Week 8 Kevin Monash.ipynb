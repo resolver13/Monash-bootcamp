{
 "cells": [
  {
   "cell_type": "markdown",
   "id": "8f140046",
   "metadata": {},
   "source": [
    "# Advanced topic I: Efficiency"
   ]
  },
  {
   "cell_type": "code",
   "execution_count": 7,
   "id": "91529dc5",
   "metadata": {},
   "outputs": [
    {
     "name": "stdout",
     "output_type": "stream",
     "text": [
      "[0, 1, 2, 3, 4, 5, 6, 7, 8, 9, 10, 11, 12, 13, 14, 15, 16, 17, 18, 19, 20, 21, 22, 23, 24, 25, 26, 27, 28, 29, 30, 31, 32, 33, 34, 35, 36, 37, 38, 39, 40, 41, 42, 43, 44, 45, 46, 47, 48, 49, 50, 51, 52, 53, 54, 55, 56, 57, 58, 59, 60, 61, 62, 63, 64, 65, 66, 67, 68, 69, 70, 71, 72, 73, 74, 75, 76, 77, 78, 79, 80, 81, 82, 83, 84, 85, 86, 87, 88, 89, 90, 91, 92, 93, 94, 95, 96, 97, 98, 99]\n"
     ]
    }
   ],
   "source": [
    "# create a list of ten numbers using list comprehension\n",
    "nums = [x for x in range(100)]     # generates a list from 0 up to 100\n",
    "print(nums)\n",
    "# the syntax is the following: result = [transform (x) iteration (x) filter]\n",
    "# normal version\n",
    "# nums = []\n",
    "# for x in range(100):\n",
    "#   nums.append(x)\n",
    "# reduces the 3 lines of code into 1"
   ]
  },
  {
   "cell_type": "code",
   "execution_count": 8,
   "id": "a753adc2",
   "metadata": {},
   "outputs": [
    {
     "name": "stdout",
     "output_type": "stream",
     "text": [
      "[0, 1, 2, 3, 4, 5, 6, 7, 8, 9, 10, 11, 12, 13, 14, 15, 16, 17, 18, 19, 20, 21, 22, 23, 24, 25, 26, 27, 28, 29, 30, 31, 32, 33, 34, 35, 36, 37, 38, 39, 40, 41, 42, 43, 44, 45, 46, 47, 48, 49, 50, 51, 52, 53, 54, 55, 56, 57, 58, 59, 60, 61, 62, 63, 64, 65, 66, 67, 68, 69, 70, 71, 72, 73, 74, 75, 76, 77, 78, 79, 80, 81, 82, 83, 84, 85, 86, 87, 88, 89, 90, 91, 92, 93, 94, 95, 96, 97, 98, 99]\n"
     ]
    }
   ],
   "source": [
    "nums = []\n",
    "for x in range(100):\n",
    "    nums.append(x)       # transform section of the code\n",
    "print(nums)"
   ]
  },
  {
   "cell_type": "markdown",
   "id": "faee462d",
   "metadata": {},
   "source": [
    "### example: name_of_list = [item_to_append if condition else item_to_append for item in list]"
   ]
  },
  {
   "cell_type": "code",
   "execution_count": 10,
   "id": "5cec4452",
   "metadata": {},
   "outputs": [
    {
     "name": "stdout",
     "output_type": "stream",
     "text": [
      "[0, 2, 4, 6, 8]\n"
     ]
    }
   ],
   "source": [
    "# using if statements within list comprehension\n",
    "nums = [x for x in range(10) if x % 2 == 0]    # generates a list of even numbers up to 10\n",
    "print(nums)"
   ]
  },
  {
   "cell_type": "code",
   "execution_count": 11,
   "id": "9f84284f",
   "metadata": {},
   "outputs": [
    {
     "name": "stdout",
     "output_type": "stream",
     "text": [
      "[0, 2, 4, 6, 8]\n"
     ]
    }
   ],
   "source": [
    "# same code but with traditional way\n",
    "nums = []\n",
    "for x in range(10):\n",
    "    if x % 2 == 0:\n",
    "        nums.append(x)\n",
    "print(nums)\n",
    "    "
   ]
  },
  {
   "cell_type": "code",
   "execution_count": 12,
   "id": "e801197e",
   "metadata": {},
   "outputs": [
    {
     "name": "stdout",
     "output_type": "stream",
     "text": [
      "['Even', 'Odd', 'Even', 'Odd', 'Even', 'Odd', 'Even', 'Odd', 'Even', 'Odd']\n"
     ]
    }
   ],
   "source": [
    "# using if/else statements within list comprehension\n",
    "nums = [\"Even\" if x % 2 == 0 else \"Odd\" for x in range(10)]     # generates a list of even/odd strings\n",
    "print(nums)"
   ]
  },
  {
   "cell_type": "code",
   "execution_count": 14,
   "id": "f628ef6a",
   "metadata": {},
   "outputs": [
    {
     "name": "stdout",
     "output_type": "stream",
     "text": [
      "['Even', 'Odd', 'Even', 'Odd', 'Even', 'Odd', 'Even', 'Odd', 'Even', 'Odd']\n"
     ]
    }
   ],
   "source": [
    "# same output with different representation\n",
    "nums = []\n",
    "for x in range(10):\n",
    "    if x % 2 == 0:\n",
    "        nums.append(\"Even\")\n",
    "    else:\n",
    "        nums.append(\"Odd\")   # requires 6 lines instead of 1\n",
    "print(nums)"
   ]
  },
  {
   "cell_type": "code",
   "execution_count": 17,
   "id": "581dbaca",
   "metadata": {},
   "outputs": [
    {
     "name": "stdout",
     "output_type": "stream",
     "text": [
      "[4, 16, 36, 64]\n"
     ]
    }
   ],
   "source": [
    "# creating a list of squared numbers from another list of numbers using list comprehension\n",
    "nums = [2, 4, 6, 8]\n",
    "squared_nums = [num**2 for num in nums]     # creates a new list of squared numbers based on nums\n",
    "print(squared_nums)"
   ]
  },
  {
   "cell_type": "code",
   "execution_count": 18,
   "id": "dc5d9199",
   "metadata": {},
   "outputs": [
    {
     "name": "stdout",
     "output_type": "stream",
     "text": [
      "[4, 16, 36, 64]\n"
     ]
    }
   ],
   "source": [
    "# same output with different representation\n",
    "squared_nums = []\n",
    "for num in nums:\n",
    "    squared_nums.append(num**2)\n",
    "print(squared_nums)"
   ]
  },
  {
   "cell_type": "code",
   "execution_count": 21,
   "id": "31b15b0c",
   "metadata": {},
   "outputs": [
    {
     "name": "stdout",
     "output_type": "stream",
     "text": [
      "{0: 0, 2: 4, 4: 16, 6: 36, 8: 64}\n"
     ]
    }
   ],
   "source": [
    "# creating a dictionary of even numbers and square values using comprehension\n",
    "numbers = [x for x in range(10)]\n",
    "squares = { num : num**2 for num in numbers if num % 2 == 0 }\n",
    "print(squares)"
   ]
  },
  {
   "cell_type": "code",
   "execution_count": 6,
   "id": "79018a24",
   "metadata": {},
   "outputs": [
    {
     "name": "stdout",
     "output_type": "stream",
     "text": [
      "[53.6, 69.8, 59.0, 89.6]\n"
     ]
    }
   ],
   "source": [
    "# Exercise 1\n",
    "celsius = [12, 21, 15, 32]\n",
    "fahrenheit = [round((9/5) * C + 32, 1) for C in celsius]    # the number that comes after comma in round is the decimal unit\n",
    "print(fahrenheit)"
   ]
  },
  {
   "cell_type": "code",
   "execution_count": 7,
   "id": "a7b6f9a5",
   "metadata": {},
   "outputs": [
    {
     "name": "stdout",
     "output_type": "stream",
     "text": [
      "[5, 10, 15, 20, 25, 30, 35, 40, 45, 50, 55, 60, 65, 70, 75, 80, 85, 90, 95, 100]\n"
     ]
    }
   ],
   "source": [
    "# Exercise 2\n",
    "integer = int(input(\"Please put a number up to or including 100: \"))\n",
    "number = [x for x in range(1, 101) if x % integer == 0]\n",
    "print(number)\n"
   ]
  },
  {
   "cell_type": "markdown",
   "id": "3606ca3a",
   "metadata": {},
   "source": [
    "## Lambda functions"
   ]
  },
  {
   "cell_type": "markdown",
   "id": "ffd1743d",
   "metadata": {},
   "source": [
    "#### lambda arguments : expression\n",
    "#### lambda arguments : value_to_return __if__ condition **else** value_to_return"
   ]
  },
  {
   "cell_type": "code",
   "execution_count": 16,
   "id": "5c1d493e",
   "metadata": {},
   "outputs": [
    {
     "data": {
      "text/plain": [
       "16"
      ]
     },
     "execution_count": 16,
     "metadata": {},
     "output_type": "execute_result"
    }
   ],
   "source": [
    "# using a lambda to square a number\n",
    "(lambda x : x**2)(4)      # takes in 4 and returns the number squared\n",
    "# lambda x = def square(x); : x**2 = return x**2; (4) = square(4)"
   ]
  },
  {
   "cell_type": "code",
   "execution_count": 15,
   "id": "b0c1c871",
   "metadata": {},
   "outputs": [
    {
     "data": {
      "text/plain": [
       "16"
      ]
     },
     "execution_count": 15,
     "metadata": {},
     "output_type": "execute_result"
    }
   ],
   "source": [
    "# same thing but with a more conventional coding\n",
    "def square(x):\n",
    "    return x**2\n",
    "square(4)"
   ]
  },
  {
   "cell_type": "code",
   "execution_count": 17,
   "id": "481e9fbb",
   "metadata": {},
   "outputs": [
    {
     "data": {
      "text/plain": [
       "50"
      ]
     },
     "execution_count": 17,
     "metadata": {},
     "output_type": "execute_result"
    }
   ],
   "source": [
    "# passing multiple arguments into a lambda\n",
    "(lambda x, y : x * y)(10, 5)     # x = 10, y = 5 and returns the result of 5 * 10"
   ]
  },
  {
   "cell_type": "code",
   "execution_count": 19,
   "id": "3f7ecc92",
   "metadata": {},
   "outputs": [
    {
     "data": {
      "text/plain": [
       "50"
      ]
     },
     "execution_count": 19,
     "metadata": {},
     "output_type": "execute_result"
    }
   ],
   "source": [
    "# same output with conventional code\n",
    "def multiply(x, y):\n",
    "    return x * y\n",
    "multiply(10, 5)"
   ]
  },
  {
   "cell_type": "code",
   "execution_count": null,
   "id": "a831c811",
   "metadata": {},
   "outputs": [
    {
     "name": "stdout",
     "output_type": "stream",
     "text": [
      "<function <lambda> at 0x0000020A64C61900>\n",
      "50\n"
     ]
    }
   ],
   "source": [
    "# saving a lambda function into a variable\n",
    "square = lambda x, y : x * y # saves lambda function into a variable with an output \"function <lambda> at ...\" when called to print\n",
    "print(square)\n",
    "result = square(10, 5)       # calls the lambda function stored in the square variable and returns 5 * 10\n",
    "print(result)"
   ]
  },
  {
   "cell_type": "code",
   "execution_count": null,
   "id": "102ee746",
   "metadata": {},
   "outputs": [
    {
     "name": "stdout",
     "output_type": "stream",
     "text": [
      "10\n"
     ]
    }
   ],
   "source": [
    "# using if/else statements within a lambda to return the greater number\n",
    "greater = lambda x, y : x if x > y else y    # takes in lambda variables x and y and separates using colon for conditional\n",
    "result = greater(5, 10)\n",
    "print(result)"
   ]
  },
  {
   "cell_type": "code",
   "execution_count": 28,
   "id": "3170e83e",
   "metadata": {},
   "outputs": [
    {
     "name": "stdout",
     "output_type": "stream",
     "text": [
      "10\n"
     ]
    }
   ],
   "source": [
    "# same thing but conventional\n",
    "def greater(x, y):\n",
    "    if x > y:\n",
    "        return x\n",
    "    else:\n",
    "        return y\n",
    "result = greater(5, 10)\n",
    "print(result)"
   ]
  },
  {
   "cell_type": "code",
   "execution_count": 29,
   "id": "f689ac45",
   "metadata": {},
   "outputs": [
    {
     "name": "stdout",
     "output_type": "stream",
     "text": [
      "10\n",
      "15\n"
     ]
    }
   ],
   "source": [
    "# returning a lambda function from another function\n",
    "def my_func(n):\n",
    "    return lambda x : x * n\n",
    "doubler = my_func(2)        # returns equivalent of lambda x : x * 2\n",
    "print( doubler(5) )       # will output 10\n",
    "tripler = my_func(3)        # returns equivalent of lambda x : x * 3\n",
    "print( tripler(5))         # will output 15"
   ]
  },
  {
   "cell_type": "code",
   "execution_count": 30,
   "id": "0f51bbc8",
   "metadata": {},
   "outputs": [
    {
     "data": {
      "text/plain": [
       "<function __main__.<lambda>(x)>"
      ]
     },
     "execution_count": 30,
     "metadata": {},
     "output_type": "execute_result"
    }
   ],
   "source": [
    "# exercise 1 of lambda\n",
    "lambda x : True if x > 50 else False"
   ]
  },
  {
   "cell_type": "code",
   "execution_count": 35,
   "id": "ece378d5",
   "metadata": {},
   "outputs": [
    {
     "name": "stdout",
     "output_type": "stream",
     "text": [
      "86.0\n"
     ]
    }
   ],
   "source": [
    "# exercise 2 of lambda\n",
    "x = int(input(\"Please put a degree in celsius: \"))\n",
    "temp = (lambda x : round((9/5) * x + 32, 1))(x)        # need to output print() because of a variable stated beforehand instead of a number\n",
    "print(temp)"
   ]
  },
  {
   "cell_type": "markdown",
   "id": "58d34e72",
   "metadata": {},
   "source": [
    "### map, filter, and reduce\n"
   ]
  },
  {
   "cell_type": "code",
   "execution_count": 38,
   "id": "71cdf714",
   "metadata": {},
   "outputs": [
    {
     "name": "stdout",
     "output_type": "stream",
     "text": [
      "<map object at 0x0000020A64BF5E10>\n",
      "[54.5, 56.480000000000004, 59.0, 48.56]\n"
     ]
    }
   ],
   "source": [
    "# using the map function without lambdas\n",
    "def convertDeg(C):\n",
    "    return (9/5) * C + 32\n",
    "temps = [ 12.5, 13.6, 15, 9.2 ]\n",
    "converted_temps = map(convertDeg, temps)       #  returns map object, not a converted data collection\n",
    "print(converted_temps)                         \n",
    "converted_temps = list(converted_temps)       # type convert map object into list of converted temps\n",
    "print(converted_temps)"
   ]
  },
  {
   "cell_type": "code",
   "execution_count": 39,
   "id": "9f06fe52",
   "metadata": {},
   "outputs": [
    {
     "name": "stdout",
     "output_type": "stream",
     "text": [
      "[54.5, 56.480000000000004, 59.0, 48.56]\n"
     ]
    }
   ],
   "source": [
    "# same thing with a lambda function\n",
    "temps = [12.5, 13.6, 15, 9.2]\n",
    "converted_temps = list(map(lambda C: (9/5) * C + 32, temps))      # type convert the map object right away. Need to put a variable after a comma\n",
    "print(converted_temps)"
   ]
  },
  {
   "cell_type": "code",
   "execution_count": null,
   "id": "45bb9e56",
   "metadata": {},
   "outputs": [
    {
     "name": "stdout",
     "output_type": "stream",
     "text": [
      "[54.5, 56.480000000000004, 59.0, 48.56]\n"
     ]
    }
   ],
   "source": [
    "# same thing without map and lambda functions     9 lines required instead of 3\n",
    "def convertDeg(degrees):\n",
    "    converted = []\n",
    "    for degree in degrees:\n",
    "        result = (9/5) * degree + 32\n",
    "        converted.append(result)     # adds each item into a list\n",
    "    return converted\n",
    "temps = [12.5, 13.6, 15, 9.2]\n",
    "converted_temps = convertDeg(temps)\n",
    "print(converted_temps)"
   ]
  },
  {
   "cell_type": "code",
   "execution_count": 41,
   "id": "63b24f46",
   "metadata": {},
   "outputs": [
    {
     "name": "stdout",
     "output_type": "stream",
     "text": [
      "[13.6, 15]\n"
     ]
    }
   ],
   "source": [
    "# using the filter function with lambda functions, filter out temps below 55F\n",
    "temps = [12.5 , 13.6, 15, 9.2]\n",
    "filtered_temps = list(filter(lambda C : True if (9/5) * C + 32 > 55 else False, temps))     # type convert the filter\n",
    "print(filtered_temps)"
   ]
  },
  {
   "cell_type": "code",
   "execution_count": 43,
   "id": "4a0a9442",
   "metadata": {},
   "outputs": [
    {
     "name": "stdout",
     "output_type": "stream",
     "text": [
      "[13.6, 15]\n"
     ]
    }
   ],
   "source": [
    "# same thing but without filter and lambda functions\n",
    "def convertDeg(degrees):                  # define a variable first\n",
    "    filtered = []                         # state the empty list that can be added \n",
    "    for degree in degrees:                # loop\n",
    "        result = (9/5) * degree + 32      # formula\n",
    "        if result > 55:                   # conditional\n",
    "            filtered.append(degree)\n",
    "    return filtered                       # leave the formula and give a value into the list\n",
    "temps = [12.5, 13.6, 15, 9.2]\n",
    "filtered_temps = convertDeg(temps)        # temps is the list. Putting degree won't work, because there are no inputs to work with\n",
    "print(filtered_temps)\n"
   ]
  },
  {
   "cell_type": "code",
   "execution_count": 45,
   "id": "664ddeb2",
   "metadata": {},
   "outputs": [
    {
     "name": "stdout",
     "output_type": "stream",
     "text": [
      "24\n"
     ]
    }
   ],
   "source": [
    "# for informational purposes (it's useless)\n",
    "from functools import reduce\n",
    "nums = [1, 2, 3, 4]\n",
    "result = reduce( lambda a, b : a * b, nums )     # result is 24\n",
    "print(result)"
   ]
  },
  {
   "cell_type": "code",
   "execution_count": 47,
   "id": "75712212",
   "metadata": {},
   "outputs": [
    {
     "name": "stdout",
     "output_type": "stream",
     "text": [
      "['Ryan', 'Paul', 'Kevin Connors']\n"
     ]
    }
   ],
   "source": [
    "names = [\" ryan\", \"PAUL\", \"kevin connors \"]\n",
    "corrected_names = list(map(lambda name: name.strip().title(), names))         # .strip removes all leading (beginning) and trailing (ending) white spaces\n",
    "print(corrected_names)"
   ]
  },
  {
   "cell_type": "code",
   "execution_count": 48,
   "id": "d4a58146",
   "metadata": {},
   "outputs": [
    {
     "name": "stdout",
     "output_type": "stream",
     "text": [
      "['Frank', 'Ripal']\n"
     ]
    }
   ],
   "source": [
    "# exercise 2\n",
    "names = [\"Amanda\", \"Frank\", \"abby\", \"Ripal\", \"Adam\"]\n",
    "filtered_names = list(filter(lambda name: True if name[0].lower() != 'a' else False, names))\n",
    "print(filtered_names)"
   ]
  },
  {
   "cell_type": "markdown",
   "id": "95afc53c",
   "metadata": {},
   "source": [
    "### Recursive function: must have a base case, or the loop will be infinite and therefore crash\n",
    "### For example, with base case of 1, if there is a factorial starting from 5 and descend, it stops at 1 with the answer of 120"
   ]
  },
  {
   "cell_type": "code",
   "execution_count": 51,
   "id": "bc39486e",
   "metadata": {},
   "outputs": [
    {
     "name": "stdout",
     "output_type": "stream",
     "text": [
      "120\n"
     ]
    }
   ],
   "source": [
    "# writing a factorial using recursive functions\n",
    "def factorial(n):\n",
    "    # set your base case!\n",
    "    if n <= 1:\n",
    "        return 1                       # exits the loop and inputs the value of n to 1\n",
    "    else:\n",
    "        return factorial(n - 1) * n\n",
    "print(factorial(5))                    # the result is the factorial of 5"
   ]
  },
  {
   "cell_type": "code",
   "execution_count": 55,
   "id": "26dd967c",
   "metadata": {},
   "outputs": [
    {
     "name": "stdout",
     "output_type": "stream",
     "text": [
      "5\n"
     ]
    }
   ],
   "source": [
    "# writing the recursive fibonacci sequence\n",
    "def fib(n):\n",
    "    if n <= 1:\n",
    "        return n\n",
    "    else:\n",
    "        return fib( n - 1 ) + fib( n - 2 )\n",
    "print( fib(5) )"
   ]
  },
  {
   "cell_type": "markdown",
   "id": "35b308c0",
   "metadata": {},
   "source": [
    "### memoization = caching (optimizing by speeding up computer programs)"
   ]
  },
  {
   "cell_type": "code",
   "execution_count": 58,
   "id": "f9834e78",
   "metadata": {},
   "outputs": [
    {
     "name": "stdout",
     "output_type": "stream",
     "text": [
      "12586269025\n"
     ]
    }
   ],
   "source": [
    "# using memoization with the fibonacci sequence\n",
    "\n",
    "cache = {}          # used to cache values to be used later\n",
    "\n",
    "def fib(n):\n",
    "    if n in cache:\n",
    "        return cache[n]       # return value stored in dictionary\n",
    "    result = 0\n",
    "\n",
    "    # base case\n",
    "    if n <= 1:\n",
    "        result = n\n",
    "    else:\n",
    "        result = fib(n - 1) + fib(n - 2)\n",
    "    \n",
    "    cache[n] = result      # this saves result into dictionary with n as the key\n",
    "\n",
    "    return result\n",
    "print(fib(50))\n",
    "# just know that there is a limitation of single cache storage when using memoization"
   ]
  },
  {
   "cell_type": "code",
   "execution_count": 61,
   "id": "17b0dddb",
   "metadata": {},
   "outputs": [
    {
     "data": {
      "text/plain": [
       "12586269025"
      ]
     },
     "execution_count": 61,
     "metadata": {},
     "output_type": "execute_result"
    }
   ],
   "source": [
    "# using @lru_cache, Python's default moization/caching technique\n",
    "from functools import lru_cache\n",
    "@lru_cache()         # python's built-in memoization/caching system\n",
    "def fib(n):\n",
    "    if n <= 1:\n",
    "        return n\n",
    "    else:\n",
    "        return fib(n - 1) + fib(n - 2)\n",
    "fib(50)           # instant calculation\n",
    "# saves lines compared to the previous code. Use @lru_cache instead of memoization"
   ]
  },
  {
   "cell_type": "code",
   "execution_count": 70,
   "id": "ddaaa6da",
   "metadata": {},
   "outputs": [
    {
     "data": {
      "text/plain": [
       "815915283247897734345611269596115894272000000000"
      ]
     },
     "execution_count": 70,
     "metadata": {},
     "output_type": "execute_result"
    }
   ],
   "source": [
    "# Exercise 1\n",
    "from functools import lru_cache\n",
    "def factorial(n):\n",
    "    if n <= 1:\n",
    "        return 1\n",
    "    else:\n",
    "        return factorial(n - 1) * n\n",
    "factorial(40)"
   ]
  },
  {
   "cell_type": "code",
   "execution_count": 77,
   "id": "1ad2f7a7",
   "metadata": {},
   "outputs": [],
   "source": [
    "# exercise 2\n",
    "def searchList(aList, num):\n",
    "    result =  False\n",
    "\n",
    "    for item in aList:\n",
    "        if item == num:\n",
    "            return True\n",
    "        elif isinstance(item, list):\n",
    "            result = searchList(item, num)\n",
    "    \n",
    "    return result\n",
    "\n",
    "searchList = ([2, 3, [18, 22], 6], 22)"
   ]
  },
  {
   "cell_type": "markdown",
   "id": "31333555",
   "metadata": {},
   "source": [
    "### Friday: writing a binary search (for searching a list full of data, like millions)"
   ]
  },
  {
   "cell_type": "markdown",
   "id": "576f0a8a",
   "metadata": {},
   "source": [
    "#### 1. Sort the list\n",
    "#### 2. Find the middle index\n",
    "#### 3. Check the value at the middle index; if it's the value we're looking for, return True\n",
    "#### 4. Check the value at the middle index; if it's greater than the value we're looking for, cut off the right half of the list\n",
    "#### 5. Check the value at the middle index; if it's less than the value we're looking for, cut off the left half of the list\n",
    "#### 6. Repeat steps 2 through 6 until the list is empty\n",
    "#### 7. If the while loop ends, it means there's no items left, so return False"
   ]
  },
  {
   "cell_type": "code",
   "execution_count": 148,
   "id": "eb7c5cc6",
   "metadata": {},
   "outputs": [
    {
     "ename": "SyntaxError",
     "evalue": "'return' outside function (3833437147.py, line 16)",
     "output_type": "error",
     "traceback": [
      "\u001b[1;36m  Cell \u001b[1;32mIn[148], line 16\u001b[1;36m\u001b[0m\n\u001b[1;33m    return True\u001b[0m\n\u001b[1;37m    ^\u001b[0m\n\u001b[1;31mSyntaxError\u001b[0m\u001b[1;31m:\u001b[0m 'return' outside function\n"
     ]
    }
   ],
   "source": [
    "# setting up imports and generating a list of random numberes to work with\n",
    "import random\n",
    "\n",
    "nums = [random.randint(0, 20) for i in range(10)]      # creates a list of ten numbers between 0 and 20\n",
    "\n",
    "def binarySearch(aList, num):\n",
    "    # step 1: sort the list\n",
    "    aList.sort()\n",
    "# step 6: set up a loop to repeat steps 2 through 6 until list is empty \n",
    "while aList:\n",
    "    # step 2: find the middle index\n",
    "    mid = len(aList) // 2      # 2 slashes = floor division - round down to the nearest whole sum\n",
    "\n",
    "    # step 3: check the value at middle index, if it is equal to num return True\n",
    "    if aList[mid] == num:\n",
    "        return True\n",
    "    \n",
    "    # step 4: check if value is greater, if so, cut off right half of list using slicing\n",
    "    elif aList[mid] > num:\n",
    "        aList = aList[:mid]\n",
    "    elif aList[mid] < num:\n",
    "        aList = aList[mid + 1 :]\n",
    "\n",
    "        print(aList)\n",
    "print(sorted(nums))     # again for debugging"
   ]
  },
  {
   "cell_type": "code",
   "execution_count": 157,
   "id": "d5367bc9",
   "metadata": {},
   "outputs": [
    {
     "name": "stdout",
     "output_type": "stream",
     "text": [
      "[1624, 4827, 6182, 6201, 6400, 7577, 13633, 14359, 14988, 17030, 17845, 18388, 23510, 26505, 26684, 30282, 31564, 32282, 33541, 34011, 35453, 35461, 36085, 37551, 39125, 41493, 41723, 42748, 43510, 43536, 48649, 49161, 49808, 50263, 56927, 57161, 58151, 60080, 61711, 62813, 68254, 70706, 71117, 72098, 74412, 76614, 80182, 80727, 82214, 84304, 85933, 86437, 87299, 88325, 89228, 90574, 91406, 91583, 94760, 94918, 97903, 98182, 99019, 100186, 101769, 103213, 105154, 112672, 114065, 123916, 126199, 127284, 128859, 131396, 132470, 132885, 135119, 139845, 140529, 147982, 153068, 156629, 159742, 163807, 165102, 166040, 170451, 170926, 173930, 174512, 174546, 175014, 176938, 179004, 182081, 182541, 183533, 185487, 190515, 191171, 192386, 192804, 196389, 200951, 201243, 201313, 203137, 204177, 206184, 207314, 209584, 213874, 214079, 215574, 223700, 225077, 225093, 228136, 230030, 230136, 231375, 232779, 232883, 238912, 239127, 248013, 248206, 248806, 254254, 254437, 258077, 259513, 261974, 263817, 269652, 270764, 272653, 273098, 273675, 280625, 282581, 286957, 291865, 292665, 295067, 298308, 298790, 299514, 303545, 303725, 304302, 305752, 306612, 307663, 308930, 316298, 319271, 319654, 321978, 331641, 333024, 333167, 334103, 337700, 339176, 339365, 340019, 341111, 341425, 344376, 345660, 347383, 347896, 352315, 360927, 363299, 363581, 364393, 364730, 369918, 371582, 371742, 376150, 378157, 380498, 381144, 383299, 384623, 386361, 386825, 391293, 393490, 397038, 400884, 407900, 410875, 412185, 415451, 416971, 419701, 421545, 425504, 426657, 429065, 429976, 430860, 431798, 435730, 436630, 444426, 448295, 450396, 450435, 453348, 455729, 456336, 459983, 460251, 466436, 470490, 471186, 472337, 474407, 475021, 475322, 484217, 484638, 485132, 487316, 488430, 488439, 490320, 493604, 497225, 497246, 497603, 499278, 503175, 504630, 505341, 506262, 506742, 514506, 518517, 520143, 520613, 520814, 524783, 525723, 529024, 530699, 532803, 533018, 533226, 534124, 542339, 544108, 550976, 552350, 558277, 559155, 561484, 561507, 561783, 562497, 562886, 563544, 566942, 568115, 568127, 570518, 570912, 572383, 573535, 573642, 574170, 575707, 577772, 578221, 578797, 582611, 582998, 583612, 587047, 589558, 592823, 593132, 594801, 596290, 596358, 597515, 600581, 606071, 606905, 609720, 610677, 612091, 615417, 615571, 622393, 623412, 624291, 625286, 626384, 626659, 626758, 629299, 632743, 636875, 637516, 643271, 643527, 647210, 648668, 649753, 649853, 654566, 656701, 658980, 659886, 659894, 661653, 662540, 664498, 664793, 665579, 666707, 669369, 672633, 673101, 673258, 676070, 676417, 676794, 680193, 681270, 682194, 683032, 685889, 686136, 688958, 693421, 695388, 695391, 697908, 700552, 706748, 710427, 714765, 715003, 717930, 718143, 718306, 720667, 724334, 724409, 726260, 731662, 733934, 734169, 735321, 737557, 744095, 744397, 746038, 746502, 748436, 750352, 751365, 751638, 752037, 754969, 756703, 764078, 767003, 767040, 767314, 767513, 768456, 770348, 776301, 777180, 777829, 779304, 779524, 780557, 782733, 783234, 790026, 790648, 791623, 796259, 796373, 802173, 803451, 806012, 806416, 806557, 807271, 809151, 812492, 813247, 816651, 817743, 819867, 821635, 822781, 825350, 825385, 825710, 828662, 832547, 832782, 832866, 835092, 838624, 843044, 843802, 848098, 849130, 853374, 855672, 857823, 857884, 860239, 862219, 865803, 867774, 868553, 869809, 870441, 874024, 874415, 877335, 885413, 885780, 885920, 889707, 890240, 890309, 891317, 891664, 892885, 894004, 902180, 903470, 904116, 905619, 909119, 922257, 922550, 922854, 924127, 925868, 928725, 928770, 934030, 934634, 935392, 938946, 941150, 950652, 954936, 955894, 959339, 960987, 962125, 962288, 963067, 963285, 963287, 966466, 966843, 967823, 969212, 969603, 971771, 975385, 976251, 978032, 987885, 988793, 988861, 991431, 991474, 993801, 996305, 997074, 997219, 998698]\n",
      "False\n"
     ]
    }
   ],
   "source": [
    "# setting up imports and generating a list of random numberes to work with\n",
    "import random\n",
    "\n",
    "nums = [random.randint(0, 1000000) for i in range(490)]      # creates a list of ten numbers between 0 and 20\n",
    "\n",
    "def binarySearch(aList, num):\n",
    "    aList.sort()\n",
    "    while aList:\n",
    "        mid = len(aList) // 2      \n",
    "    \n",
    "        if aList[mid] == num:\n",
    "            return True\n",
    "        elif aList[mid] > num:\n",
    "            aList = aList[:mid]\n",
    "        elif aList[mid] < num:\n",
    "            aList = aList[mid + 1 :]\n",
    "\n",
    "    return False\n",
    "\n",
    "print(sorted(nums))\n",
    "print(binarySearch(nums, 3))"
   ]
  }
 ],
 "metadata": {
  "kernelspec": {
   "display_name": "bootcamp",
   "language": "python",
   "name": "python3"
  },
  "language_info": {
   "codemirror_mode": {
    "name": "ipython",
    "version": 3
   },
   "file_extension": ".py",
   "mimetype": "text/x-python",
   "name": "python",
   "nbconvert_exporter": "python",
   "pygments_lexer": "ipython3",
   "version": "3.10.16"
  }
 },
 "nbformat": 4,
 "nbformat_minor": 5
}
