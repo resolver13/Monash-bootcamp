{
 "cells": [
  {
   "cell_type": "markdown",
   "metadata": {},
   "source": [
    "# Python_bootcamp Week 03\n"
   ]
  },
  {
   "cell_type": "markdown",
   "metadata": {},
   "source": [
    "## User Input & Type Converting"
   ]
  },
  {
   "cell_type": "code",
   "execution_count": 7,
   "metadata": {},
   "outputs": [
    {
     "name": "stdout",
     "output_type": "stream",
     "text": [
      "Kevin\n"
     ]
    }
   ],
   "source": [
    "# accepting and outputting user input\n",
    "print( input(\"What is your name? \") )"
   ]
  },
  {
   "cell_type": "markdown",
   "metadata": {},
   "source": [
    "## You would need to type in the answer when prompted to get a coding"
   ]
  },
  {
   "cell_type": "code",
   "execution_count": 6,
   "metadata": {},
   "outputs": [
    {
     "name": "stdout",
     "output_type": "stream",
     "text": [
      "Hello Kevin!\n"
     ]
    }
   ],
   "source": [
    "# saving what the user inputs\n",
    "ans = input(\"What is your name?\")\n",
    "print(\"Hello {}!\".format(ans) )"
   ]
  },
  {
   "cell_type": "code",
   "execution_count": 8,
   "metadata": {},
   "outputs": [
    {
     "name": "stdout",
     "output_type": "stream",
     "text": [
      "<class 'int'>\n"
     ]
    }
   ],
   "source": [
    "# how to check the data type of a variable\n",
    "num = 5\n",
    "print( type(num) )"
   ]
  },
  {
   "cell_type": "code",
   "execution_count": 10,
   "metadata": {},
   "outputs": [
    {
     "name": "stdout",
     "output_type": "stream",
     "text": [
      "<class 'int'>\n"
     ]
    }
   ],
   "source": [
    "# converting a variable from one data type to another\n",
    "num = \"9\"\n",
    "num = int(num)   # re-declaring num to store an integer\n",
    "print( type(num) )"
   ]
  },
  {
   "cell_type": "code",
   "execution_count": 12,
   "metadata": {},
   "outputs": [
    {
     "name": "stdout",
     "output_type": "stream",
     "text": [
      "<class 'str'>\n",
      "9\n"
     ]
    }
   ],
   "source": [
    "# Practice\n",
    "num = 9\n",
    "num = str(num)\n",
    "print( type(num) )\n",
    "print(num)"
   ]
  },
  {
   "cell_type": "code",
   "execution_count": 13,
   "metadata": {},
   "outputs": [
    {
     "name": "stdout",
     "output_type": "stream",
     "text": [
      "1\n"
     ]
    }
   ],
   "source": [
    "x = True\n",
    "num = int(x)\n",
    "print(num)"
   ]
  },
  {
   "cell_type": "code",
   "execution_count": 14,
   "metadata": {},
   "outputs": [
    {
     "name": "stdout",
     "output_type": "stream",
     "text": [
      "0\n"
     ]
    }
   ],
   "source": [
    "x = False\n",
    "num = int(x)\n",
    "print(num)"
   ]
  },
  {
   "cell_type": "code",
   "execution_count": 15,
   "metadata": {},
   "outputs": [
    {
     "name": "stdout",
     "output_type": "stream",
     "text": [
      "<class 'str'>\n",
      "100 + 50 = 150\n"
     ]
    }
   ],
   "source": [
    "# working with user input to perform calculations\n",
    "ans = input(\"Type a number to add: \")\n",
    "print ( type(ans) )     # default type is string, must convert\n",
    "result = 100 + int(ans)\n",
    "print( \"100 + {} = {}\".format(ans, result) )"
   ]
  },
  {
   "cell_type": "code",
   "execution_count": 18,
   "metadata": {},
   "outputs": [
    {
     "name": "stdout",
     "output_type": "stream",
     "text": [
      "100 + 9.2 = 109.2\n"
     ]
    }
   ],
   "source": [
    "# using the try and except blocks, use tab to indent where necessary\n",
    "try:\n",
    "        ans = float( input(\"Type a number to add: \") )\n",
    "        print( \"100 + {} = {}\".format(ans, 100 + ans) )\n",
    "except:\n",
    "        print(\"You did not put in a valid number!\")\n",
    "# without try/except print statement would not get hit if error occurs print(\"The program did not break!\")"
   ]
  },
  {
   "cell_type": "markdown",
   "metadata": {},
   "source": [
    "### Monday exercise"
   ]
  },
  {
   "cell_type": "code",
   "execution_count": 20,
   "metadata": {},
   "outputs": [
    {
     "name": "stdout",
     "output_type": "stream",
     "text": [
      "<class 'bool'>\n"
     ]
    }
   ],
   "source": [
    "x = \"True\"\n",
    "y = bool(x)\n",
    "print( type(y) )"
   ]
  },
  {
   "cell_type": "code",
   "execution_count": 24,
   "metadata": {},
   "outputs": [
    {
     "name": "stdout",
     "output_type": "stream",
     "text": [
      "1 + 2 = 3\n"
     ]
    }
   ],
   "source": [
    "x = input(\"Please add a first number\")\n",
    "y = input(\"Please add a second number\")\n",
    "result = int(x) + int(y)\n",
    "print( \"{} + {} = {}\".format(x, y, result) )"
   ]
  },
  {
   "cell_type": "code",
   "execution_count": 26,
   "metadata": {},
   "outputs": [
    {
     "name": "stdout",
     "output_type": "stream",
     "text": [
      "2018 Blue Chevrolet Silverado\n"
     ]
    }
   ],
   "source": [
    "a = input(\"Please write the year\")\n",
    "b = input(\"Please write the color\")\n",
    "c = input(\"Please write the maker\")\n",
    "d = input(\"Please write the model of the car\")\n",
    "print( \"{} {} {} {}\".format(a, b, c, d) )"
   ]
  },
  {
   "cell_type": "markdown",
   "metadata": {},
   "source": [
    "## If Statements"
   ]
  },
  {
   "cell_type": "code",
   "execution_count": 29,
   "metadata": {},
   "outputs": [
    {
     "name": "stdout",
     "output_type": "stream",
     "text": [
      "x is less than y\n"
     ]
    }
   ],
   "source": [
    "# using an if statement to only run code if the condition is met\n",
    "x, y = 5, 10\n",
    "if x < y:\n",
    "        print(\"x is less than y\")"
   ]
  },
  {
   "cell_type": "code",
   "execution_count": 31,
   "metadata": {},
   "outputs": [
    {
     "name": "stdout",
     "output_type": "stream",
     "text": [
      "You are incorrect!\n"
     ]
    }
   ],
   "source": [
    "# checking user input\n",
    "ans = int( input(\"What is 5 + 5? \") )\n",
    "if ans == 10:\n",
    "        print(\"You got it right!\")\n",
    "if ans != 10:\n",
    "        print(\"You are incorrect!\")"
   ]
  },
  {
   "cell_type": "code",
   "execution_count": 35,
   "metadata": {},
   "outputs": [
    {
     "name": "stdout",
     "output_type": "stream",
     "text": [
      "Both statements were true\n"
     ]
    }
   ],
   "source": [
    "# using the keyword 'and' in an 'if statement'\n",
    "x, y, z = 5, 10, 5\n",
    "if x < y and x == z:\n",
    "        print(\"Both statements were true\")"
   ]
  },
  {
   "cell_type": "code",
   "execution_count": 6,
   "metadata": {},
   "outputs": [
    {
     "name": "stdout",
     "output_type": "stream",
     "text": [
      "One or both statements were true\n"
     ]
    }
   ],
   "source": [
    "# using the keyword 'or' in an 'if statement'\n",
    "x, y, z = 15, 10, 5\n",
    "if x < y or x != z:\n",
    "        print(\"One or both statements were true\")"
   ]
  },
  {
   "cell_type": "code",
   "execution_count": null,
   "metadata": {},
   "outputs": [
    {
     "name": "stdout",
     "output_type": "stream",
     "text": [
      "Flag is False\n"
     ]
    }
   ],
   "source": [
    "# using the keyword 'not' within an 'if statement'\n",
    "flag = False\n",
    "if not flag:                    # same as saying if not true\n",
    "        print(\"Flag is False\")  # because False is Boolean, so must put not"
   ]
  },
  {
   "cell_type": "code",
   "execution_count": 17,
   "metadata": {},
   "outputs": [
    {
     "name": "stdout",
     "output_type": "stream",
     "text": [
      "Baseball contains the character b\n"
     ]
    }
   ],
   "source": [
    "# using the keyword 'in' within an 'if statement' \n",
    "word = \"Baseball\"\n",
    "if \"b\" in word:\n",
    "        print( \"{} contains the character b\".format(word) )"
   ]
  },
  {
   "cell_type": "code",
   "execution_count": 18,
   "metadata": {},
   "outputs": [
    {
     "name": "stdout",
     "output_type": "stream",
     "text": [
      "Baseball does not contain the character x.\n"
     ]
    }
   ],
   "source": [
    "# using the keyword 'not in' within an 'if statement'\n",
    "word = \"Baseball\" \n",
    "if \"x\" not in word:\n",
    "        print( \"{} does not contain the character x.\".format(word) )"
   ]
  },
  {
   "cell_type": "markdown",
   "metadata": {},
   "source": [
    "## 2nd Exercise"
   ]
  },
  {
   "cell_type": "code",
   "execution_count": 24,
   "metadata": {},
   "outputs": [
    {
     "name": "stdout",
     "output_type": "stream",
     "text": [
      "monday doesn't have them. Try again.\n"
     ]
    }
   ],
   "source": [
    "word = input(\"Please enter a word\")\n",
    "if \"es\" in word:\n",
    "        print( \"{} has the following characters es.\".format(word))\n",
    "if not \"es\" in word:\n",
    "        print( \"{} doesn't have them. Try again.\".format(word))"
   ]
  },
  {
   "cell_type": "code",
   "execution_count": 44,
   "metadata": {},
   "outputs": [
    {
     "name": "stdout",
     "output_type": "stream",
     "text": [
      "potash and potash are same.\n"
     ]
    }
   ],
   "source": [
    "x = input(\"Please enter a first word\").lower()\n",
    "y = input(\"Please enter a second word\").lower()\n",
    "if x == y:\n",
    "        print( \"{} and {} are same.\".format(x, y))"
   ]
  },
  {
   "cell_type": "code",
   "execution_count": 61,
   "metadata": {},
   "outputs": [
    {
     "name": "stdout",
     "output_type": "stream",
     "text": [
      "25\n"
     ]
    }
   ],
   "source": [
    "x, y = int(input(\"Please add a number\")), 10\n",
    "z = int(x) ** 2\n",
    "if x < y:\n",
    "        print( \"{}\".format(z))"
   ]
  },
  {
   "cell_type": "markdown",
   "metadata": {},
   "source": [
    "### Elif Statement"
   ]
  },
  {
   "cell_type": "code",
   "execution_count": 64,
   "metadata": {},
   "outputs": [
    {
     "name": "stdout",
     "output_type": "stream",
     "text": [
      "x is greater\n"
     ]
    }
   ],
   "source": [
    "# Elif statement is for handling multiple decisions\n",
    "# using the elif conditional statement\n",
    "x, y = 15, 10\n",
    "if x > y:\n",
    "        print(\"x is greater\")\n",
    "elif x < y:\n",
    "        print(\"x is less\")"
   ]
  },
  {
   "cell_type": "code",
   "execution_count": 65,
   "metadata": {},
   "outputs": [
    {
     "name": "stdout",
     "output_type": "stream",
     "text": [
      "equal\n"
     ]
    }
   ],
   "source": [
    "# checking more than one elif conditional statement\n",
    "x, y = 5, 10\n",
    "if x > y:\n",
    "        print(\"x is greater\")\n",
    "elif (x + 10) < y:              # checking if 15 is less than 10\n",
    "        print(\"x is less\")\n",
    "elif (x + 5) == y:\n",
    "        print(\"equal\")"
   ]
  },
  {
   "cell_type": "code",
   "execution_count": 2,
   "metadata": {},
   "outputs": [
    {
     "name": "stdout",
     "output_type": "stream",
     "text": [
      "x is equal to z\n"
     ]
    }
   ],
   "source": [
    "# writing multiple conditionals within each other - multiple block levels\n",
    "x, y, z = 5, 10, 5\n",
    "if x > y:\n",
    "        print('greater')\n",
    "elif x <= y:\n",
    "    if x == z:\n",
    "            print('x is equal to z')            # resulting output\n",
    "    elif x != z:\n",
    "            print('x is not equal to z')        # won't get hit"
   ]
  },
  {
   "cell_type": "markdown",
   "metadata": {},
   "source": [
    "# major different between elif statements and if statements => all elif statements are connected to one original if statement."
   ]
  },
  {
   "cell_type": "code",
   "execution_count": 5,
   "metadata": {},
   "outputs": [
    {
     "name": "stdout",
     "output_type": "stream",
     "text": [
      "x is less\n",
      "x is equal\n"
     ]
    }
   ],
   "source": [
    "# testing output of two if statements in a row that are both true\n",
    "x, y, z = 5, 10, 5\n",
    "if x < y:\n",
    "        print('x is less')\n",
    "if x == z:\n",
    "        print('x is equal')     # Both statements are run because both \"if\"s are not related to each other"
   ]
  },
  {
   "cell_type": "code",
   "execution_count": 8,
   "metadata": {},
   "outputs": [
    {
     "name": "stdout",
     "output_type": "stream",
     "text": [
      "x is less\n"
     ]
    }
   ],
   "source": [
    "# testing output of an if and elif statement that are both true\n",
    "x, y, z = 5, 10, 5\n",
    "if x < y:\n",
    "        print('x is less')\n",
    "elif x == z:\n",
    "        print('x is equal to z')        # the second one won't show because it'll stop at the first statement since that is true. \n",
    "                                        # elif statements are dependent on the original if statement."
   ]
  },
  {
   "cell_type": "markdown",
   "metadata": {},
   "source": [
    "## 3rd exercise"
   ]
  },
  {
   "cell_type": "code",
   "execution_count": 11,
   "metadata": {},
   "outputs": [
    {
     "name": "stdout",
     "output_type": "stream",
     "text": [
      "92 is lower than 100.\n"
     ]
    }
   ],
   "source": [
    "x = input(\"Please enter a number.\")\n",
    "ans = int(x)\n",
    "if ans > 100:\n",
    "        print(\"{} is higher than 100.\".format(ans) )\n",
    "elif ans < 100:\n",
    "        print(\"{} is lower than 100.\".format(ans) )"
   ]
  },
  {
   "cell_type": "code",
   "execution_count": 13,
   "metadata": {},
   "outputs": [
    {
     "name": "stdout",
     "output_type": "stream",
     "text": [
      "lower\n"
     ]
    }
   ],
   "source": [
    "x, y = 5, 10\n",
    "if x > y:\n",
    "        print(\"greater\")\n",
    "elif x < y:\n",
    "        print(\"lower\")"
   ]
  },
  {
   "cell_type": "markdown",
   "metadata": {},
   "source": [
    "### Else Statements = end all be all of the if statement"
   ]
  },
  {
   "cell_type": "code",
   "execution_count": 16,
   "metadata": {},
   "outputs": [
    {
     "name": "stdout",
     "output_type": "stream",
     "text": [
      "Hello John!\n"
     ]
    }
   ],
   "source": [
    "# using an else statement\n",
    "name = 'John'\n",
    "if name == 'Jacob':\n",
    "        print('Hello Jacob!')\n",
    "else:\n",
    "        print('Hello {}!'.format(name) )        # else statement is also linked to the if statement. \n",
    "                                                # The else statement covers all if statement for true before printing its text."
   ]
  },
  {
   "cell_type": "code",
   "execution_count": null,
   "metadata": {},
   "outputs": [
    {
     "name": "stdout",
     "output_type": "stream",
     "text": [
      "Name starts with a J\n"
     ]
    }
   ],
   "source": [
    "# writing a full conditional statement with if, elif, else\n",
    "name = 'John'\n",
    "if name[0] == 'A':                          # a bracket and 0 represents the first letter of the \"name\", as indexing starts at 0.\n",
    "        print('Name starts with an A')\n",
    "elif name[0] == 'B':\n",
    "        print('Name starts with a B')\n",
    "elif name[0] == 'J':\n",
    "        print('Name starts with a J')\n",
    "else:\n",
    "        print( 'Name starts with a {}'.format( name[0] ) )"
   ]
  },
  {
   "cell_type": "markdown",
   "metadata": {},
   "source": [
    "## 4th Exercise"
   ]
  },
  {
   "cell_type": "code",
   "execution_count": 22,
   "metadata": {},
   "outputs": [
    {
     "name": "stdout",
     "output_type": "stream",
     "text": [
      "Hello John\n"
     ]
    }
   ],
   "source": [
    "name = 'John'\n",
    "if name == 'Jack':\n",
    "        print('Hello Jack')\n",
    "elif name == 'John':\n",
    "        print('Hello John')"
   ]
  },
  {
   "cell_type": "code",
   "execution_count": 26,
   "metadata": {},
   "outputs": [],
   "source": [
    "x = input(\"Please enter the time in a format of hhmm\")\n",
    "time = int(x)\n",
    "if time < 1200:\n",
    "        print('Good Morning')\n",
    "elif time >= 1200 and time < 1700:\n",
    "        print('Good Afternoon')\n",
    "elif time >= 1700 and time < 2400:\n",
    "        print('Good Evening') "
   ]
  },
  {
   "cell_type": "markdown",
   "metadata": {},
   "source": [
    "## Creating a Calculator: Project"
   ]
  },
  {
   "cell_type": "code",
   "execution_count": 43,
   "metadata": {},
   "outputs": [
    {
     "name": "stdout",
     "output_type": "stream",
     "text": [
      "You chose multiply.\n"
     ]
    }
   ],
   "source": [
    "# step 1: ask user for calculation to be performed\n",
    "operation = input(\"Would you like to add/subtract/multiply/divide?\").lower()\n",
    "print( 'You chose {}.'.format(operation) )       # for testing purposes"
   ]
  },
  {
   "cell_type": "code",
   "execution_count": 45,
   "metadata": {},
   "outputs": [
    {
     "name": "stdout",
     "output_type": "stream",
     "text": [
      "First Number: k\n",
      "Second Number: 3\n"
     ]
    }
   ],
   "source": [
    "# step 2: ask for numbers, alert order matters for subtracting and dividing\n",
    "if operation == 'subtract' or operation == 'divide':\n",
    "        print( \"You chose {}.\".format(operation) )\n",
    "        print('Please keep in mind that the order of your numbers matter.')\n",
    "num1 = input('What is the first number? ')\n",
    "num2 = input('What is the second number? ')\n",
    "print( \"First Number: {}\".format(num1) )    # for testing purposes\n",
    "print( \"Second Number: {}\".format(num2) )   # for testing purposes"
   ]
  },
  {
   "cell_type": "code",
   "execution_count": 46,
   "metadata": {},
   "outputs": [
    {
     "name": "stdout",
     "output_type": "stream",
     "text": [
      "Error: Improper numbers used. Please try again.\n"
     ]
    }
   ],
   "source": [
    "# step 3: setup try/except for mathematical operation\n",
    "try:\n",
    "        # step 3a: immediately try to convert numbers input to floats\n",
    "        num1, num2 = float(num1), float(num2)\n",
    "        # step 3b: perform operation and print result\n",
    "        if operation == \"add\":\n",
    "                result = num1 + num2\n",
    "                print( \"{} + {} = {}\".format(num1, num2, result) )\n",
    "        elif operation == 'subtract':\n",
    "                result = num1 - num2\n",
    "                print( \"{} - {} = {}\".format(num1, num2, result) )\n",
    "        elif operation == 'multiply':\n",
    "                result = num1 * num2\n",
    "                print( \"{} * {} = {}\".format(num1, num2, result) )\n",
    "        elif operation == 'divide':\n",
    "                result = num1 / num2\n",
    "                print( \"{} / {} = {}\".format(num1, num2, result) )\n",
    "        else:\n",
    "                # else will be hit if they didn't chose an option correctly\n",
    "                print(\"Sorry, but '{}' is not an option.\".format(operation) )\n",
    "except:\n",
    "        # step 3c: print error\n",
    "        print(\"Error: Improper numbers used. Please try again.\")"
   ]
  },
  {
   "cell_type": "code",
   "execution_count": 47,
   "metadata": {},
   "outputs": [
    {
     "name": "stdout",
     "output_type": "stream",
     "text": [
      "You chose subtract.\n",
      "Please keep in mind that the order of your numbers matter.\n",
      "3.0 - -5.0 = 8.0\n"
     ]
    }
   ],
   "source": [
    "# step 1: ask user for calculation to be performed\n",
    "operation = input(\"Would you like to add/subtract/multiply/divide?\").lower()\n",
    "# step 2: ask for numbers, alert order matters for subtracting and dividing\n",
    "if operation == 'subtract' or operation == 'divide':\n",
    "        print( \"You chose {}.\".format(operation) )\n",
    "        print('Please keep in mind that the order of your numbers matter.')\n",
    "num1 = input('What is the first number? ')\n",
    "num2 = input('What is the second number? ')\n",
    "# step 3: setup try/except for mathematical operation\n",
    "try:\n",
    "        # step 3a: immediately try to convert numbers input to floats\n",
    "        num1, num2 = float(num1), float(num2)\n",
    "        # step 3b: perform operation and print result\n",
    "        if operation == \"add\":\n",
    "                result = num1 + num2\n",
    "                print( \"{} + {} = {}\".format(num1, num2, result) )\n",
    "        elif operation == 'subtract':\n",
    "                result = num1 - num2\n",
    "                print( \"{} - {} = {}\".format(num1, num2, result) )\n",
    "        elif operation == 'multiply':\n",
    "                result = num1 * num2\n",
    "                print( \"{} * {} = {}\".format(num1, num2, result) )\n",
    "        elif operation == 'divide':\n",
    "                result = num1 / num2\n",
    "                print( \"{} / {} = {}\".format(num1, num2, result) )\n",
    "        else:\n",
    "                # else will be hit if they didn't chose an option correctly\n",
    "                print(\"Sorry, but '{}' is not an option.\".format(operation) )\n",
    "except:\n",
    "        # step 3c: print error\n",
    "        print(\"Error: Improper numbers used. Please try again.\")"
   ]
  },
  {
   "cell_type": "code",
   "execution_count": 57,
   "metadata": {},
   "outputs": [
    {
     "name": "stdout",
     "output_type": "stream",
     "text": [
      "You chose subtract.\n",
      "Please keep in mind that the order of your numbers matter.\n",
      "4.0, 2.0\n",
      "2.0 - 4.0 = -2.0\n"
     ]
    }
   ],
   "source": [
    "operation = input(\"Would you like to add/subtract/multiply/divide?\").lower()\n",
    "if operation == 'subtract' or operation == 'divide':\n",
    "        print( \"You chose {}.\".format(operation) )\n",
    "        print('Please keep in mind that the order of your numbers matter.')\n",
    "num1 = input('What is the first number? ')\n",
    "num2 = input('What is the second number? ')\n",
    "try:\n",
    "        num1, num2 = float(num1), float(num2)\n",
    "        if operation == 'subtract' or operation == 'divide':\n",
    "                if num1 < num2:\n",
    "                        x = input(\"Would you like to reverse the placement?\")\n",
    "                        if x == 'yes':\n",
    "                                print( \"{}, {}\".format(num2, num1) )\n",
    "                        else:\n",
    "                                print( \"{}, {}\".format(num1, num2) )\n",
    "        if operation == \"add\":\n",
    "                result = num1 + num2\n",
    "                print( \"{} + {} = {}\".format(num1, num2, result) )\n",
    "        elif operation == 'subtract':\n",
    "                result = num1 - num2\n",
    "                print( \"{} - {} = {}\".format(num1, num2, result) )\n",
    "        elif x == 'yes':\n",
    "                result = num2 - num1\n",
    "                print( \"{} - {} = {}\".format(num2, num1, result) )\n",
    "        elif operation == 'multiply':\n",
    "                result = num1 * num2\n",
    "                print( \"{} * {} = {}\".format(num1, num2, result) )\n",
    "        elif operation == 'divide':\n",
    "                result = num1 / num2\n",
    "                print( \"{} / {} = {}\".format(num1, num2, result) )\n",
    "        else:\n",
    "                print(\"Sorry, but '{}' is not an option.\".format(operation) )\n",
    "except:\n",
    "        print(\"Error: Improper numbers used. Please try again.\")"
   ]
  }
 ],
 "metadata": {
  "kernelspec": {
   "display_name": "bootcamp",
   "language": "python",
   "name": "python3"
  },
  "language_info": {
   "codemirror_mode": {
    "name": "ipython",
    "version": 3
   },
   "file_extension": ".py",
   "mimetype": "text/x-python",
   "name": "python",
   "nbconvert_exporter": "python",
   "pygments_lexer": "ipython3",
   "version": "3.10.16"
  }
 },
 "nbformat": 4,
 "nbformat_minor": 2
}
