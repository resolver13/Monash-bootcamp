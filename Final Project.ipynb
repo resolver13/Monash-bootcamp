{
 "cells": [
  {
   "cell_type": "code",
   "execution_count": 7,
   "id": "9c507c55",
   "metadata": {},
   "outputs": [
    {
     "name": "stdout",
     "output_type": "stream",
     "text": [
      "Mode of the converted image:  L\n",
      "Original Image: \n",
      "Converted Image: \n"
     ]
    }
   ],
   "source": [
    "# Converting a photo from 24-bit to 8-bit\n",
    "# Import image from the pillow library\n",
    "from PIL import Image\n",
    "\n",
    "# Load an image file\n",
    "im = Image.open('Picture for Final Project.jpg')\n",
    "\n",
    "# Convert the image to grayscale\n",
    "converted_image = im.convert(\"L\")\n",
    "\n",
    "# Save the grayscale image\n",
    "converted_image.save(\"Picture for Final Project.jpg\")\n",
    "\n",
    "# Display the image mode\n",
    "print(\"Mode of the converted image: \", converted_image.mode)\n",
    "\n",
    "# Display the image\n",
    "print(\"Original Image: \")\n",
    "im.show()\n",
    "\n",
    "print(\"Converted Image: \")\n",
    "converted_image.show()"
   ]
  }
 ],
 "metadata": {
  "kernelspec": {
   "display_name": "bootcamp",
   "language": "python",
   "name": "python3"
  },
  "language_info": {
   "codemirror_mode": {
    "name": "ipython",
    "version": 3
   },
   "file_extension": ".py",
   "mimetype": "text/x-python",
   "name": "python",
   "nbconvert_exporter": "python",
   "pygments_lexer": "ipython3",
   "version": "3.10.16"
  }
 },
 "nbformat": 4,
 "nbformat_minor": 5
}
