{
 "cells": [
  {
   "cell_type": "markdown",
   "id": "59c64b5b-58a5-4765-8a90-c579dd48b687",
   "metadata": {},
   "source": [
    "# Week 1"
   ]
  },
  {
   "cell_type": "code",
   "execution_count": 4,
   "id": "7f6257d2-0af8-445d-99f6-d709284b339e",
   "metadata": {},
   "outputs": [
    {
     "name": "stdout",
     "output_type": "stream",
     "text": [
      "Hellow world!\n"
     ]
    }
   ],
   "source": [
    "# This is python\n",
    "print(\"Hellow world!\")"
   ]
  },
  {
   "cell_type": "markdown",
   "id": "fa3e1800-3ec1-4b27-8e52-6e8c016ceecc",
   "metadata": {},
   "source": [
    "# this is the first line in the cell\n",
    "\n",
    "\n",
    "\n",
    "# this is the fifth line in the cell"
   ]
  },
  {
   "cell_type": "markdown",
   "id": "132e3945-ab5a-4ec1-8f66-5b57f66eb3d2",
   "metadata": {},
   "source": [
    "# Guessing Game"
   ]
  },
  {
   "cell_type": "code",
   "execution_count": 5,
   "id": "8ed89dde-e3b7-43ba-b261-96550d0d7767",
   "metadata": {},
   "outputs": [
    {
     "ename": "NameError",
     "evalue": "name 'guessed' is not defined",
     "output_type": "error",
     "traceback": [
      "\u001b[1;31m---------------------------------------------------------------------------\u001b[0m",
      "\u001b[1;31mNameError\u001b[0m                                 Traceback (most recent call last)",
      "Cell \u001b[1;32mIn[5], line 7\u001b[0m\n\u001b[0;32m      5\u001b[0m number \u001b[38;5;241m=\u001b[39m randint(\u001b[38;5;241m0\u001b[39m, \u001b[38;5;241m100\u001b[39m)\n\u001b[0;32m      6\u001b[0m guesses \u001b[38;5;241m=\u001b[39m \u001b[38;5;241m0\u001b[39m\n\u001b[1;32m----> 7\u001b[0m \u001b[38;5;28;01mwhile\u001b[39;00m \u001b[38;5;129;01mnot\u001b[39;00m guessed:\n\u001b[0;32m      8\u001b[0m     ans \u001b[38;5;241m=\u001b[39m \u001b[38;5;28minput\u001b[39m(\u001b[38;5;124m\"\u001b[39m\u001b[38;5;124mTry to guess the number I am thinking of!\u001b[39m\u001b[38;5;124m\"\u001b[39m)\n\u001b[0;32m      9\u001b[0m         \u001b[38;5;66;03m# use tab to indent\u001b[39;00m\n",
      "\u001b[1;31mNameError\u001b[0m: name 'guessed' is not defined"
     ]
    }
   ],
   "source": [
    "# guessing game\n",
    "from random import randint\n",
    "from IPython.display import clear_output\n",
    "guess = False\n",
    "number = randint(0, 100)\n",
    "guesses = 0\n",
    "while not guessed:\n",
    "    ans = input(\"Try to guess the number I am thinking of!\")\n",
    "        # use tab to indent\n",
    "    guesses +=1\n",
    "    clear_output( )\n",
    "    if int(ans) == number:\n",
    "        print(\"Congrats! You guessed it correctly.\")\n",
    "        # use tab twice to indent twice\n",
    "        print ( \"It took you { } guesses!\".format(guesses) )\n",
    "        break\n",
    "    elif int(ans) > number:\n",
    "        print(\"The number is lower than what you guessed.\")\n",
    "    elif int(ans) < number:\n",
    "        print(\"The number is greater than what you guessed.\")"
   ]
  },
  {
   "cell_type": "code",
   "execution_count": 6,
   "id": "4af11881-de70-48f0-aa04-1ac041c44dcd",
   "metadata": {},
   "outputs": [],
   "source": [
    "exit( )"
   ]
  },
  {
   "cell_type": "code",
   "execution_count": 1,
   "id": "8533d025-4af0-4fdd-b8b6-92273292f2d1",
   "metadata": {},
   "outputs": [
    {
     "name": "stdout",
     "output_type": "stream",
     "text": [
      "Hellow buddy\n"
     ]
    }
   ],
   "source": [
    "print(\"Hellow buddy\")"
   ]
  },
  {
   "cell_type": "code",
   "execution_count": 2,
   "id": "0a339b77-84a8-4f87-a0fe-68c6edb99bb4",
   "metadata": {},
   "outputs": [],
   "source": [
    "exit( )"
   ]
  },
  {
   "cell_type": "code",
   "execution_count": null,
   "id": "e2c1802b-6543-4c72-8311-d929ecab005a",
   "metadata": {},
   "outputs": [],
   "source": []
  }
 ],
 "metadata": {
  "kernelspec": {
   "display_name": "Python 3 (ipykernel)",
   "language": "python",
   "name": "python3"
  },
  "language_info": {
   "codemirror_mode": {
    "name": "ipython",
    "version": 3
   },
   "file_extension": ".py",
   "mimetype": "text/x-python",
   "name": "python",
   "nbconvert_exporter": "python",
   "pygments_lexer": "ipython3",
   "version": "3.12.7"
  }
 },
 "nbformat": 4,
 "nbformat_minor": 5
}
