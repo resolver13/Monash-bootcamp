{
 "cells": [
  {
   "cell_type": "markdown",
   "id": "256ff583",
   "metadata": {},
   "source": [
    "# Virtual Environments and Requests Module"
   ]
  },
  {
   "cell_type": "code",
   "execution_count": 4,
   "id": "1bee3355",
   "metadata": {},
   "outputs": [
    {
     "name": "stdout",
     "output_type": "stream",
     "text": [
      "<Response [200]>\n",
      "<class 'requests.models.Response'>\n"
     ]
    }
   ],
   "source": [
    "# sending a request and logging the response code\n",
    "\n",
    "import requests\n",
    "\n",
    "r = requests.get(\"https://api.github.com/users/Connor-SM\")\n",
    "\n",
    "print(r)\n",
    "print(type(r))"
   ]
  },
  {
   "cell_type": "code",
   "execution_count": 5,
   "id": "ce56c00e",
   "metadata": {},
   "outputs": [
    {
     "name": "stdout",
     "output_type": "stream",
     "text": [
      "b'{\"login\":\"Connor-SM\",\"id\":20958711,\"node_id\":\"MDQ6VXNlcjIwOTU4NzEx\",\"avatar_url\":\"https://avatars.githubusercontent.com/u/20958711?v=4\",\"gravatar_id\":\"\",\"url\":\"https://api.github.com/users/Connor-SM\",\"html_url\":\"https://github.com/Connor-SM\",\"followers_url\":\"https://api.github.com/users/Connor-SM/followers\",\"following_url\":\"https://api.github.com/users/Connor-SM/following{/other_user}\",\"gists_url\":\"https://api.github.com/users/Connor-SM/gists{/gist_id}\",\"starred_url\":\"https://api.github.com/users/Connor-SM/starred{/owner}{/repo}\",\"subscriptions_url\":\"https://api.github.com/users/Connor-SM/subscriptions\",\"organizations_url\":\"https://api.github.com/users/Connor-SM/orgs\",\"repos_url\":\"https://api.github.com/users/Connor-SM/repos\",\"events_url\":\"https://api.github.com/users/Connor-SM/events{/privacy}\",\"received_events_url\":\"https://api.github.com/users/Connor-SM/received_events\",\"type\":\"User\",\"user_view_type\":\"public\",\"site_admin\":false,\"name\":\"Connor Milliken\",\"company\":\"HubSpot, Inc.\",\"blog\":\"www.connormilliken.com\",\"location\":\"Boston, MA\",\"email\":null,\"hireable\":null,\"bio\":\"- Author of Python Projects for Beginners\\\\r\\\\n\\\\r\\\\n- Python Instructor\\\\r\\\\n\\\\r\\\\n- Adventurer/Traveler\",\"twitter_username\":null,\"public_repos\":51,\"public_gists\":0,\"followers\":136,\"following\":36,\"created_at\":\"2016-08-10T22:39:46Z\",\"updated_at\":\"2022-02-03T01:35:00Z\"}'\n"
     ]
    }
   ],
   "source": [
    "# accessing the content that we requested from the URL\n",
    "data = r.content\n",
    "print(data)"
   ]
  },
  {
   "cell_type": "code",
   "execution_count": 6,
   "id": "f8101506",
   "metadata": {},
   "outputs": [
    {
     "name": "stdout",
     "output_type": "stream",
     "text": [
      "Key: login \t Value: Connor-SM\n",
      "Key: id \t Value: 20958711\n",
      "Key: node_id \t Value: MDQ6VXNlcjIwOTU4NzEx\n",
      "Key: avatar_url \t Value: https://avatars.githubusercontent.com/u/20958711?v=4\n",
      "Key: gravatar_id \t Value: \n",
      "Key: url \t Value: https://api.github.com/users/Connor-SM\n",
      "Key: html_url \t Value: https://github.com/Connor-SM\n",
      "Key: followers_url \t Value: https://api.github.com/users/Connor-SM/followers\n",
      "Key: following_url \t Value: https://api.github.com/users/Connor-SM/following{/other_user}\n",
      "Key: gists_url \t Value: https://api.github.com/users/Connor-SM/gists{/gist_id}\n",
      "Key: starred_url \t Value: https://api.github.com/users/Connor-SM/starred{/owner}{/repo}\n",
      "Key: subscriptions_url \t Value: https://api.github.com/users/Connor-SM/subscriptions\n",
      "Key: organizations_url \t Value: https://api.github.com/users/Connor-SM/orgs\n",
      "Key: repos_url \t Value: https://api.github.com/users/Connor-SM/repos\n",
      "Key: events_url \t Value: https://api.github.com/users/Connor-SM/events{/privacy}\n",
      "Key: received_events_url \t Value: https://api.github.com/users/Connor-SM/received_events\n",
      "Key: type \t Value: User\n",
      "Key: user_view_type \t Value: public\n",
      "Key: site_admin \t Value: False\n",
      "Key: name \t Value: Connor Milliken\n",
      "Key: company \t Value: HubSpot, Inc.\n",
      "Key: blog \t Value: www.connormilliken.com\n",
      "Key: location \t Value: Boston, MA\n",
      "Key: email \t Value: None\n",
      "Key: hireable \t Value: None\n",
      "Key: bio \t Value: - Author of Python Projects for Beginners\n",
      "\n",
      "- Python Instructor\n",
      "\n",
      "- Adventurer/Traveler\n",
      "Key: twitter_username \t Value: None\n",
      "Key: public_repos \t Value: 51\n",
      "Key: public_gists \t Value: 0\n",
      "Key: followers \t Value: 136\n",
      "Key: following \t Value: 36\n",
      "Key: created_at \t Value: 2016-08-10T22:39:46Z\n",
      "Key: updated_at \t Value: 2022-02-03T01:35:00Z\n",
      "Connor Milliken\n"
     ]
    }
   ],
   "source": [
    "# converting data from JSON into a Python dictionary and outputting all key-value pairs\n",
    "data = r.json()       # converting the data from a string to a dictionary\n",
    "for k, v in data.items():\n",
    "    print(\"Key: {} \\t Value: {}\".format(k, v))\n",
    "print(data[\"name\"])         # accessing data directly\n"
   ]
  },
  {
   "cell_type": "code",
   "execution_count": 7,
   "id": "5bcbb165",
   "metadata": {},
   "outputs": [
    {
     "name": "stdout",
     "output_type": "stream",
     "text": [
      "4973227\n"
     ]
    }
   ],
   "source": [
    "# outputting specific key-value pairs from data\n",
    "r = requests.get(\"https://api.github.com/search/repositories?q=language: python\")\n",
    "data = r.json()\n",
    "print(data[\"total_count\"])       # output the total number of repositories that use python"
   ]
  },
  {
   "cell_type": "markdown",
   "id": "14afe0c8",
   "metadata": {},
   "source": [
    "### Pandas"
   ]
  },
  {
   "cell_type": "code",
   "execution_count": 10,
   "id": "60342e51",
   "metadata": {},
   "outputs": [
    {
     "ename": "ModuleNotFoundError",
     "evalue": "No module named 'pandas'",
     "output_type": "error",
     "traceback": [
      "\u001b[1;31m---------------------------------------------------------------------------\u001b[0m",
      "\u001b[1;31mModuleNotFoundError\u001b[0m                       Traceback (most recent call last)",
      "Cell \u001b[1;32mIn[10], line 2\u001b[0m\n\u001b[0;32m      1\u001b[0m \u001b[38;5;66;03m# import pandas\u001b[39;00m\n\u001b[1;32m----> 2\u001b[0m \u001b[38;5;28;01mimport\u001b[39;00m \u001b[38;5;21;01mpandas\u001b[39;00m \u001b[38;5;28;01mas\u001b[39;00m \u001b[38;5;21;01mpd\u001b[39;00m\n",
      "\u001b[1;31mModuleNotFoundError\u001b[0m: No module named 'pandas'"
     ]
    }
   ],
   "source": [
    "# import pandas\n",
    "import pandas as pd       # industry standard"
   ]
  }
 ],
 "metadata": {
  "kernelspec": {
   "display_name": "bootcamp",
   "language": "python",
   "name": "python3"
  },
  "language_info": {
   "codemirror_mode": {
    "name": "ipython",
    "version": 3
   },
   "file_extension": ".py",
   "mimetype": "text/x-python",
   "name": "python",
   "nbconvert_exporter": "python",
   "pygments_lexer": "ipython3",
   "version": "3.10.16"
  }
 },
 "nbformat": 4,
 "nbformat_minor": 5
}
