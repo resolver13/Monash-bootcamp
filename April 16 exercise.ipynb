{
 "cells": [
  {
   "cell_type": "code",
   "execution_count": null,
   "id": "fcaffdbb",
   "metadata": {},
   "outputs": [
    {
     "name": "stdout",
     "output_type": "stream",
     "text": [
      "Going supernatural?\n"
     ]
    }
   ],
   "source": [
    "try:\n",
    "    grades = float(input(\"Please enter your grade.\"))                      # to make into a number value, put float\n",
    "    if grades >= 90 and grades <= 100:                                     # try should be at the first line to encompass everything\n",
    "        print(\"Ace\")\n",
    "    elif grades >= 80 and grades <= 89:\n",
    "        print(\"Not the best, but better\")\n",
    "    elif grades >= 70 and grades <= 79:\n",
    "        print(\"That's conciliatory\")\n",
    "    elif grades >= 60 and grades <= 69:\n",
    "        print(\"Deplorable!\")\n",
    "    elif grades >= 0 and grades <= 59:\n",
    "        print(\"EPIC FAIL!\")\n",
    "    else:\n",
    "        print(\"Going supernatural?\")\n",
    "except:                                            # rely on try and except\n",
    "    print(\"Letters are not numbers\")"
   ]
  },
  {
   "cell_type": "code",
   "execution_count": 6,
   "id": "bea6c07c",
   "metadata": {},
   "outputs": [
    {
     "name": "stdout",
     "output_type": "stream",
     "text": [
      "You belong to a kiddie pool.\n"
     ]
    }
   ],
   "source": [
    "# Question 1\n",
    "age = float(input(\"Please enter your age.\"))\n",
    "if age >= 18:\n",
    "    print(\"Congratulations! You can now get a driver's license.\")\n",
    "else:\n",
    "    print(\"You belong to a kiddie pool.\")"
   ]
  },
  {
   "cell_type": "code",
   "execution_count": null,
   "id": "84c81230",
   "metadata": {},
   "outputs": [
    {
     "name": "stdout",
     "output_type": "stream",
     "text": [
      "ami\n",
      "Invalid password.\n"
     ]
    }
   ],
   "source": [
    "# Question 3\n",
    "username = input('Please enter your username').lower()\n",
    "user = \"admin\"\n",
    "phrase = \"password123\"\n",
    "\n",
    "if user == 'admin':\n",
    "    print(\"{}\".format(username))\n",
    "    phrase = input('Please enter your password').lower()\n",
    "    if phrase == \"password123\":\n",
    "        print(\"Login successful.\")\n",
    "    else:\n",
    "        print(\"Invalid password.\")\n",
    "\n",
    "if user != \"admin\":\n",
    "    print(\"Invalid username\")"
   ]
  },
  {
   "cell_type": "code",
   "execution_count": null,
   "id": "4ebf4d58",
   "metadata": {},
   "outputs": [],
   "source": []
  }
 ],
 "metadata": {
  "kernelspec": {
   "display_name": "Python 3",
   "language": "python",
   "name": "python3"
  },
  "language_info": {
   "codemirror_mode": {
    "name": "ipython",
    "version": 3
   },
   "file_extension": ".py",
   "mimetype": "text/x-python",
   "name": "python",
   "nbconvert_exporter": "python",
   "pygments_lexer": "ipython3",
   "version": "3.10.16"
  }
 },
 "nbformat": 4,
 "nbformat_minor": 5
}
