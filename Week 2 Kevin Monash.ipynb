{
 "cells": [
  {
   "cell_type": "markdown",
   "id": "be1c7fce-543d-410d-a05e-82de091d2921",
   "metadata": {},
   "source": [
    "# Comments & Basic Data Types"
   ]
  },
  {
   "cell_type": "code",
   "execution_count": 1,
   "id": "949336b0-a0b3-412f-a798-e9c5ffaa99db",
   "metadata": {},
   "outputs": [],
   "source": [
    "# this is a comment 1"
   ]
  },
  {
   "cell_type": "code",
   "execution_count": 2,
   "id": "fb6a4e75-0dd3-4088-8971-465180eebfd4",
   "metadata": {},
   "outputs": [
    {
     "name": "stdout",
     "output_type": "stream",
     "text": [
      "Hello\n"
     ]
    }
   ],
   "source": [
    "print(\"Hello\")   # this is also a comment"
   ]
  },
  {
   "cell_type": "code",
   "execution_count": 3,
   "id": "c419a29d-31fe-48f5-8a1c-8832e0e1d0cb",
   "metadata": {},
   "outputs": [
    {
     "name": "stdout",
     "output_type": "stream",
     "text": [
      "Hello\n"
     ]
    }
   ],
   "source": [
    "\"\"\"\n",
    "        This is a multi-Line comment\n",
    "\"\"\"\n",
    "print(\"Hello\")    # this is also a comment"
   ]
  },
  {
   "cell_type": "code",
   "execution_count": 4,
   "id": "a52d4557-013e-43d3-8b64-75f76b0dbcf5",
   "metadata": {},
   "outputs": [
    {
     "name": "stdout",
     "output_type": "stream",
     "text": [
      "2\n",
      "10\n"
     ]
    }
   ],
   "source": [
    "# the following are all integers\n",
    "print(2)\n",
    "print(10)"
   ]
  },
  {
   "cell_type": "code",
   "execution_count": 5,
   "id": "07388dc0-592d-4f7b-9afc-4f65978f0f05",
   "metadata": {},
   "outputs": [
    {
     "name": "stdout",
     "output_type": "stream",
     "text": [
      "10.953\n",
      "8.0\n"
     ]
    }
   ],
   "source": [
    "# the following are all floats\n",
    "print(10.953)\n",
    "print(8.0)           # even this number is a float"
   ]
  },
  {
   "cell_type": "code",
   "execution_count": 6,
   "id": "b659104d-3497-48f4-a949-3ce8a542eb2c",
   "metadata": {},
   "outputs": [
    {
     "name": "stdout",
     "output_type": "stream",
     "text": [
      "True\n",
      "False\n"
     ]
    }
   ],
   "source": [
    "# the following are booleans\n",
    "print(True)\n",
    "print(False)"
   ]
  },
  {
   "cell_type": "code",
   "execution_count": 7,
   "id": "603af099-bd99-4342-abc8-beef57c4b6d1",
   "metadata": {},
   "outputs": [
    {
     "ename": "NameError",
     "evalue": "name 'true' is not defined",
     "output_type": "error",
     "traceback": [
      "\u001b[1;31m---------------------------------------------------------------------------\u001b[0m",
      "\u001b[1;31mNameError\u001b[0m                                 Traceback (most recent call last)",
      "Cell \u001b[1;32mIn[7], line 1\u001b[0m\n\u001b[1;32m----> 1\u001b[0m \u001b[38;5;28mprint\u001b[39m(true)\n\u001b[0;32m      2\u001b[0m \u001b[38;5;28mprint\u001b[39m(false)\n",
      "\u001b[1;31mNameError\u001b[0m: name 'true' is not defined"
     ]
    }
   ],
   "source": [
    "print(true)\n",
    "print(false)"
   ]
  },
  {
   "cell_type": "code",
   "execution_count": 8,
   "id": "92624f18-c4a2-4bbd-b1fa-574ab57696a7",
   "metadata": {},
   "outputs": [
    {
     "name": "stdout",
     "output_type": "stream",
     "text": [
      " \n",
      "There's a snake in my boot!\n",
      "True\n"
     ]
    }
   ],
   "source": [
    "# the following are strings\n",
    "print(\" \")\n",
    "print(\"There's a snake in my boot!\")\n",
    "print('True')"
   ]
  },
  {
   "cell_type": "code",
   "execution_count": 9,
   "id": "51d3fa10-2201-40d2-9ea7-4f3fc0c87b7a",
   "metadata": {},
   "outputs": [
    {
     "name": "stdout",
     "output_type": "stream",
     "text": [
      "True\n"
     ]
    }
   ],
   "source": [
    "print(\"True\")"
   ]
  },
  {
   "cell_type": "code",
   "execution_count": 10,
   "id": "9d6677b3-7b28-4029-bf25-433413ec2d45",
   "metadata": {},
   "outputs": [
    {
     "name": "stdout",
     "output_type": "stream",
     "text": [
      "true\n"
     ]
    }
   ],
   "source": [
    "print('true')"
   ]
  },
  {
   "cell_type": "code",
   "execution_count": 11,
   "id": "b29e08cc-3627-4299-b2b8-d07dacb26767",
   "metadata": {},
   "outputs": [
    {
     "name": "stdout",
     "output_type": "stream",
     "text": [
      "Kevin Kim\n"
     ]
    }
   ],
   "source": [
    "print('Kevin Kim')"
   ]
  },
  {
   "cell_type": "code",
   "execution_count": 12,
   "id": "654b8afe-2e26-4dcf-8387-e19d0efa9c49",
   "metadata": {},
   "outputs": [
    {
     "data": {
      "text/plain": [
       "type"
      ]
     },
     "execution_count": 12,
     "metadata": {},
     "output_type": "execute_result"
    }
   ],
   "source": [
    "type(int) # will output <class 'int'>"
   ]
  },
  {
   "cell_type": "code",
   "execution_count": 1,
   "id": "807e3eaa-6a62-42a5-82a2-28a6e5381f1a",
   "metadata": {
    "scrolled": true
   },
   "outputs": [
    {
     "ename": "NameError",
     "evalue": "name 'sport' is not defined",
     "output_type": "error",
     "traceback": [
      "\u001b[1;31m---------------------------------------------------------------------------\u001b[0m",
      "\u001b[1;31mNameError\u001b[0m                                 Traceback (most recent call last)",
      "Cell \u001b[1;32mIn[1], line 2\u001b[0m\n\u001b[0;32m      1\u001b[0m Sport \u001b[38;5;241m=\u001b[39m \u001b[38;5;124m'\u001b[39m\u001b[38;5;124mbaseball\u001b[39m\u001b[38;5;124m'\u001b[39m\n\u001b[1;32m----> 2\u001b[0m \u001b[38;5;28mprint\u001b[39m(sport)\n",
      "\u001b[1;31mNameError\u001b[0m: name 'sport' is not defined"
     ]
    }
   ],
   "source": [
    "Sport = 'baseball'\n",
    "print(sport)"
   ]
  },
  {
   "cell_type": "code",
   "execution_count": 2,
   "id": "9162419b-e367-435f-8018-bca7cda85e05",
   "metadata": {},
   "outputs": [
    {
     "name": "stdout",
     "output_type": "stream",
     "text": [
      "baseball\n"
     ]
    }
   ],
   "source": [
    "sport = 'baseball'\n",
    "print(sport)"
   ]
  },
  {
   "cell_type": "code",
   "execution_count": 3,
   "id": "d06ec1d9-76b8-4717-b383-128988011fc8",
   "metadata": {},
   "outputs": [
    {
     "name": "stdout",
     "output_type": "stream",
     "text": [
      "5 8.5\n"
     ]
    }
   ],
   "source": [
    "num1 = 5\n",
    "num2 = 8.5\n",
    "print(num1,num2)"
   ]
  },
  {
   "cell_type": "code",
   "execution_count": 4,
   "id": "0130129a-d6d7-4776-aacd-6ee4494f30df",
   "metadata": {},
   "outputs": [
    {
     "name": "stdout",
     "output_type": "stream",
     "text": [
      "True\n"
     ]
    }
   ],
   "source": [
    "# storing a boolean into a variable\n",
    "switch = True\n",
    "print(switch)"
   ]
  },
  {
   "cell_type": "code",
   "execution_count": 5,
   "id": "c64b3bd8-743e-4c54-ac0a-060efdd5823b",
   "metadata": {},
   "outputs": [
    {
     "name": "stdout",
     "output_type": "stream",
     "text": [
      "John Smith 9\n"
     ]
    }
   ],
   "source": [
    "# storing strings into a variable\n",
    "name = 'John Smith'\n",
    "fav_number = '9' \n",
    "print(name, fav_number)"
   ]
  },
  {
   "cell_type": "code",
   "execution_count": 6,
   "id": "70ed9dc1-4a66-4646-8b38-77ccd5cf994a",
   "metadata": {},
   "outputs": [
    {
     "name": "stdout",
     "output_type": "stream",
     "text": [
      "13.5\n"
     ]
    }
   ],
   "source": [
    "# using two variables to create another variable (previously stored)\n",
    "result = num1 + num2\n",
    "print(result)"
   ]
  },
  {
   "cell_type": "code",
   "execution_count": 7,
   "id": "8c7bb01e-6a48-4cdf-9242-aa4acca23845",
   "metadata": {},
   "outputs": [
    {
     "name": "stdout",
     "output_type": "stream",
     "text": [
      "14.5\n",
      "72.5\n"
     ]
    }
   ],
   "source": [
    "# adding, deleting, multiplying, dividing from a variable\n",
    "result += 1\n",
    "print(result)\n",
    "result *= num1\n",
    "print(result)"
   ]
  },
  {
   "cell_type": "code",
   "execution_count": 8,
   "id": "f0992c16-fbee-42b2-b3c3-4c1dab00e5fd",
   "metadata": {},
   "outputs": [
    {
     "name": "stdout",
     "output_type": "stream",
     "text": [
      "John\n"
     ]
    }
   ],
   "source": [
    "# defining a vatiable and overwriting its value\n",
    "name = 'John'\n",
    "print(name)"
   ]
  },
  {
   "cell_type": "code",
   "execution_count": 9,
   "id": "66153233-5f0d-406b-aac5-c41e1c320716",
   "metadata": {},
   "outputs": [
    {
     "name": "stdout",
     "output_type": "stream",
     "text": [
      "Sam\n"
     ]
    }
   ],
   "source": [
    "name = 'Sam'\n",
    "print(name)"
   ]
  },
  {
   "cell_type": "code",
   "execution_count": 10,
   "id": "07d55827-23f2-4f05-a897-77fccc0f850b",
   "metadata": {},
   "outputs": [
    {
     "name": "stdout",
     "output_type": "stream",
     "text": [
      "John\n",
      "Sam\n"
     ]
    }
   ],
   "source": [
    "name = 'John'\n",
    "print(name)\n",
    "name = 'Sam'\n",
    "print(name)"
   ]
  },
  {
   "cell_type": "code",
   "execution_count": 11,
   "id": "cc08e58b-63e9-4feb-bb3b-b6967781aeac",
   "metadata": {},
   "outputs": [
    {
     "ename": "SyntaxError",
     "evalue": "invalid syntax (144535080.py, line 3)",
     "output_type": "error",
     "traceback": [
      "\u001b[1;36m  Cell \u001b[1;32mIn[11], line 3\u001b[1;36m\u001b[0m\n\u001b[1;33m    result = x *= y\u001b[0m\n\u001b[1;37m               ^\u001b[0m\n\u001b[1;31mSyntaxError\u001b[0m\u001b[1;31m:\u001b[0m invalid syntax\n"
     ]
    }
   ],
   "source": [
    "x = 3\n",
    "y = 10\n",
    "result = x *= y\n",
    "print(result)"
   ]
  },
  {
   "cell_type": "code",
   "execution_count": 12,
   "id": "cfee08be-1f21-431b-ae95-56430448e475",
   "metadata": {},
   "outputs": [
    {
     "name": "stdout",
     "output_type": "stream",
     "text": [
      "30\n"
     ]
    }
   ],
   "source": [
    "x = 3\n",
    "y = 10\n",
    "result = x * y\n",
    "print(result)"
   ]
  },
  {
   "cell_type": "code",
   "execution_count": 13,
   "id": "66428896-bb84-4f62-93b2-f4ce0719a05c",
   "metadata": {},
   "outputs": [
    {
     "name": "stdout",
     "output_type": "stream",
     "text": [
      "13\n"
     ]
    }
   ],
   "source": [
    "result2 = x + y\n",
    "print(result2)"
   ]
  },
  {
   "cell_type": "code",
   "execution_count": 14,
   "id": "95a13cf2-69c2-472d-a696-a1f3bd6a3b3e",
   "metadata": {},
   "outputs": [
    {
     "name": "stdout",
     "output_type": "stream",
     "text": [
      "3354.0764\n"
     ]
    }
   ],
   "source": [
    "x = 245.54\n",
    "y = 13.66\n",
    "result = x * y\n",
    "print(result)"
   ]
  },
  {
   "cell_type": "markdown",
   "id": "31a8e88c-d822-4fb3-af59-a8fc65fc1d24",
   "metadata": {},
   "source": [
    "# Working with Strings"
   ]
  },
  {
   "cell_type": "code",
   "execution_count": 15,
   "id": "d86e8975-88fa-46fa-a78a-d50a25719779",
   "metadata": {},
   "outputs": [
    {
     "name": "stdout",
     "output_type": "stream",
     "text": [
      "John Smith\n"
     ]
    }
   ],
   "source": [
    "# using the addition operator without variables\n",
    "name = 'John' + ' ' + 'Smith'\n",
    "print(name)"
   ]
  },
  {
   "cell_type": "code",
   "execution_count": 16,
   "id": "80f3a52e-02df-4d49-a58b-1c3b5830a674",
   "metadata": {},
   "outputs": [
    {
     "name": "stdout",
     "output_type": "stream",
     "text": [
      "John Smith\n"
     ]
    }
   ],
   "source": [
    "# using the addition operator with variables\n",
    "first_name = 'John'\n",
    "last_name = 'Smith'\n",
    "full_name = first_name + ' ' + last_name\n",
    "print(full_name)"
   ]
  },
  {
   "cell_type": "code",
   "execution_count": 17,
   "id": "3ab78c04-a67f-4942-813f-e1b086063f45",
   "metadata": {},
   "outputs": [
    {
     "ename": "KeyError",
     "evalue": "' '",
     "output_type": "error",
     "traceback": [
      "\u001b[1;31m---------------------------------------------------------------------------\u001b[0m",
      "\u001b[1;31mKeyError\u001b[0m                                  Traceback (most recent call last)",
      "Cell \u001b[1;32mIn[17], line 3\u001b[0m\n\u001b[0;32m      1\u001b[0m \u001b[38;5;66;03m# injecting variables using the format method\u001b[39;00m\n\u001b[0;32m      2\u001b[0m name \u001b[38;5;241m=\u001b[39m \u001b[38;5;124m'\u001b[39m\u001b[38;5;124mJohn\u001b[39m\u001b[38;5;124m'\u001b[39m\n\u001b[1;32m----> 3\u001b[0m \u001b[38;5;28mprint\u001b[39m( \u001b[38;5;124m'\u001b[39m\u001b[38;5;124mHello \u001b[39m\u001b[38;5;124m{\u001b[39m\u001b[38;5;124m }\u001b[39m\u001b[38;5;124m'\u001b[39m\u001b[38;5;241m.\u001b[39mformat(name) )\n\u001b[0;32m      4\u001b[0m \u001b[38;5;28mprint\u001b[39m( \u001b[38;5;124m'\u001b[39m\u001b[38;5;124mHello \u001b[39m\u001b[38;5;124m{\u001b[39m\u001b[38;5;124m }, you are \u001b[39m\u001b[38;5;124m{\u001b[39m\u001b[38;5;124m } years old!\u001b[39m\u001b[38;5;124m'\u001b[39m\u001b[38;5;241m.\u001b[39mformat(name,\u001b[38;5;241m28\u001b[39m) )\n",
      "\u001b[1;31mKeyError\u001b[0m: ' '"
     ]
    }
   ],
   "source": [
    "# injecting variables using the format method\n",
    "name = 'John'\n",
    "print( 'Hello { }'.format(name) )\n",
    "print( 'Hello { }, you are { } years old!'.format(name,28) )"
   ]
  },
  {
   "cell_type": "code",
   "execution_count": 18,
   "id": "42ad77fd-409b-4310-966c-9c66c1244cb4",
   "metadata": {},
   "outputs": [
    {
     "ename": "KeyError",
     "evalue": "' '",
     "output_type": "error",
     "traceback": [
      "\u001b[1;31m---------------------------------------------------------------------------\u001b[0m",
      "\u001b[1;31mKeyError\u001b[0m                                  Traceback (most recent call last)",
      "Cell \u001b[1;32mIn[18], line 3\u001b[0m\n\u001b[0;32m      1\u001b[0m \u001b[38;5;66;03m# 2nd attempt\u001b[39;00m\n\u001b[0;32m      2\u001b[0m name \u001b[38;5;241m=\u001b[39m \u001b[38;5;124m'\u001b[39m\u001b[38;5;124mJohn\u001b[39m\u001b[38;5;124m'\u001b[39m\n\u001b[1;32m----> 3\u001b[0m \u001b[38;5;28mprint\u001b[39m( \u001b[38;5;124m'\u001b[39m\u001b[38;5;124mHello \u001b[39m\u001b[38;5;124m{\u001b[39m\u001b[38;5;124m }\u001b[39m\u001b[38;5;124m'\u001b[39m\u001b[38;5;241m.\u001b[39mformat(name) )\n\u001b[0;32m      4\u001b[0m \u001b[38;5;28mprint\u001b[39m( \u001b[38;5;124m'\u001b[39m\u001b[38;5;124mHello \u001b[39m\u001b[38;5;124m{\u001b[39m\u001b[38;5;124m }, you are \u001b[39m\u001b[38;5;124m{\u001b[39m\u001b[38;5;124m } years old!\u001b[39m\u001b[38;5;124m'\u001b[39m\u001b[38;5;241m.\u001b[39mformat(name,\u001b[38;5;241m28\u001b[39m) )\n",
      "\u001b[1;31mKeyError\u001b[0m: ' '"
     ]
    }
   ],
   "source": [
    "# 2nd attempt\n",
    "name = 'John'\n",
    "print( 'Hello { }'.format(name) )\n",
    "print( 'Hello { }, you are { } years old!'.format(name,28) )"
   ]
  },
  {
   "cell_type": "code",
   "execution_count": 19,
   "id": "31c94f37-d4e8-482e-879c-cd9aae9821ac",
   "metadata": {},
   "outputs": [
    {
     "ename": "KeyError",
     "evalue": "' '",
     "output_type": "error",
     "traceback": [
      "\u001b[1;31m---------------------------------------------------------------------------\u001b[0m",
      "\u001b[1;31mKeyError\u001b[0m                                  Traceback (most recent call last)",
      "Cell \u001b[1;32mIn[19], line 3\u001b[0m\n\u001b[0;32m      1\u001b[0m \u001b[38;5;66;03m# 3rd attempt\u001b[39;00m\n\u001b[0;32m      2\u001b[0m name \u001b[38;5;241m=\u001b[39m \u001b[38;5;124m'\u001b[39m\u001b[38;5;124mJohn\u001b[39m\u001b[38;5;124m'\u001b[39m\n\u001b[1;32m----> 3\u001b[0m \u001b[38;5;28mprint\u001b[39m( \u001b[38;5;124m\"\u001b[39m\u001b[38;5;124mHello \u001b[39m\u001b[38;5;124m{\u001b[39m\u001b[38;5;124m }\u001b[39m\u001b[38;5;124m\"\u001b[39m\u001b[38;5;241m.\u001b[39mformat(name) )\n\u001b[0;32m      4\u001b[0m \u001b[38;5;28mprint\u001b[39m( \u001b[38;5;124m\"\u001b[39m\u001b[38;5;124mHello \u001b[39m\u001b[38;5;124m{\u001b[39m\u001b[38;5;124m }, you are \u001b[39m\u001b[38;5;124m{\u001b[39m\u001b[38;5;124m } years old!\u001b[39m\u001b[38;5;124m\"\u001b[39m\u001b[38;5;241m.\u001b[39mformat(name,\u001b[38;5;241m28\u001b[39m) )\n",
      "\u001b[1;31mKeyError\u001b[0m: ' '"
     ]
    }
   ],
   "source": [
    "# 3rd attempt\n",
    "name = 'John'\n",
    "print( \"Hello { }\".format(name) )\n",
    "print( \"Hello { }, you are { } years old!\".format(name,28) )"
   ]
  },
  {
   "cell_type": "code",
   "execution_count": 20,
   "id": "5dd4c7f2-a42b-48d0-9188-9611352a98c7",
   "metadata": {},
   "outputs": [
    {
     "ename": "KeyError",
     "evalue": "' '",
     "output_type": "error",
     "traceback": [
      "\u001b[1;31m---------------------------------------------------------------------------\u001b[0m",
      "\u001b[1;31mKeyError\u001b[0m                                  Traceback (most recent call last)",
      "Cell \u001b[1;32mIn[20], line 3\u001b[0m\n\u001b[0;32m      1\u001b[0m \u001b[38;5;66;03m# 4th attempt\u001b[39;00m\n\u001b[0;32m      2\u001b[0m name \u001b[38;5;241m=\u001b[39m \u001b[38;5;124m\"\u001b[39m\u001b[38;5;124mJohn\u001b[39m\u001b[38;5;124m\"\u001b[39m\n\u001b[1;32m----> 3\u001b[0m \u001b[38;5;28mprint\u001b[39m( \u001b[38;5;124m\"\u001b[39m\u001b[38;5;124mHello \u001b[39m\u001b[38;5;124m{\u001b[39m\u001b[38;5;124m }\u001b[39m\u001b[38;5;124m\"\u001b[39m\u001b[38;5;241m.\u001b[39mformat(name) )\n\u001b[0;32m      4\u001b[0m \u001b[38;5;28mprint\u001b[39m( \u001b[38;5;124m\"\u001b[39m\u001b[38;5;124mHello \u001b[39m\u001b[38;5;124m{\u001b[39m\u001b[38;5;124m }, you are \u001b[39m\u001b[38;5;124m{\u001b[39m\u001b[38;5;124m } years old!\u001b[39m\u001b[38;5;124m\"\u001b[39m\u001b[38;5;241m.\u001b[39mformat(name,\u001b[38;5;241m28\u001b[39m) )\n",
      "\u001b[1;31mKeyError\u001b[0m: ' '"
     ]
    }
   ],
   "source": [
    "# 4th attempt\n",
    "name = \"John\"\n",
    "print( \"Hello { }\".format(name) )\n",
    "print( \"Hello { }, you are { } years old!\".format(name,28) )"
   ]
  },
  {
   "cell_type": "code",
   "execution_count": 21,
   "id": "8db307ea-29d4-4031-9d0a-617312680310",
   "metadata": {},
   "outputs": [
    {
     "ename": "KeyError",
     "evalue": "' '",
     "output_type": "error",
     "traceback": [
      "\u001b[1;31m---------------------------------------------------------------------------\u001b[0m",
      "\u001b[1;31mKeyError\u001b[0m                                  Traceback (most recent call last)",
      "Cell \u001b[1;32mIn[21], line 3\u001b[0m\n\u001b[0;32m      1\u001b[0m \u001b[38;5;66;03m# 5th attempt\u001b[39;00m\n\u001b[0;32m      2\u001b[0m name \u001b[38;5;241m=\u001b[39m \u001b[38;5;124m'\u001b[39m\u001b[38;5;124mJohn\u001b[39m\u001b[38;5;124m'\u001b[39m\n\u001b[1;32m----> 3\u001b[0m \u001b[38;5;28mprint\u001b[39m( \u001b[38;5;124m'\u001b[39m\u001b[38;5;124mHello \u001b[39m\u001b[38;5;124m{\u001b[39m\u001b[38;5;124m }\u001b[39m\u001b[38;5;124m'\u001b[39m\u001b[38;5;241m.\u001b[39mformat(name) )\n\u001b[0;32m      4\u001b[0m \u001b[38;5;28mprint\u001b[39m( \u001b[38;5;124m'\u001b[39m\u001b[38;5;124mHello \u001b[39m\u001b[38;5;124m{\u001b[39m\u001b[38;5;124m }, you are \u001b[39m\u001b[38;5;124m{\u001b[39m\u001b[38;5;124m } years old!\u001b[39m\u001b[38;5;124m'\u001b[39m\u001b[38;5;241m.\u001b[39mformat(name, \u001b[38;5;241m28\u001b[39m) )\n",
      "\u001b[1;31mKeyError\u001b[0m: ' '"
     ]
    }
   ],
   "source": [
    "# 5th attempt\n",
    "name = 'John'\n",
    "print( 'Hello { }'.format(name) )\n",
    "print( 'Hello { }, you are { } years old!'.format(name, 28) )"
   ]
  },
  {
   "cell_type": "code",
   "execution_count": 22,
   "id": "7802124e-e17d-4d83-b538-ea686e682568",
   "metadata": {},
   "outputs": [
    {
     "ename": "KeyError",
     "evalue": "' '",
     "output_type": "error",
     "traceback": [
      "\u001b[1;31m---------------------------------------------------------------------------\u001b[0m",
      "\u001b[1;31mKeyError\u001b[0m                                  Traceback (most recent call last)",
      "Cell \u001b[1;32mIn[22], line 3\u001b[0m\n\u001b[0;32m      1\u001b[0m \u001b[38;5;66;03m# 6th attempt\u001b[39;00m\n\u001b[0;32m      2\u001b[0m name \u001b[38;5;241m=\u001b[39m \u001b[38;5;124m'\u001b[39m\u001b[38;5;124mJohn\u001b[39m\u001b[38;5;124m'\u001b[39m\n\u001b[1;32m----> 3\u001b[0m \u001b[38;5;28mprint\u001b[39m(\u001b[38;5;124m'\u001b[39m\u001b[38;5;124mHello \u001b[39m\u001b[38;5;124m{\u001b[39m\u001b[38;5;124m }\u001b[39m\u001b[38;5;124m'\u001b[39m\u001b[38;5;241m.\u001b[39mformat(name))\n\u001b[0;32m      4\u001b[0m \u001b[38;5;28mprint\u001b[39m(\u001b[38;5;124m'\u001b[39m\u001b[38;5;124mHello \u001b[39m\u001b[38;5;124m{\u001b[39m\u001b[38;5;124m }, you are \u001b[39m\u001b[38;5;124m{\u001b[39m\u001b[38;5;124m } years old!\u001b[39m\u001b[38;5;124m'\u001b[39m\u001b[38;5;241m.\u001b[39mformat(name, \u001b[38;5;241m28\u001b[39m))\n",
      "\u001b[1;31mKeyError\u001b[0m: ' '"
     ]
    }
   ],
   "source": [
    "# 6th attempt\n",
    "name = 'John'\n",
    "print('Hello { }'.format(name))\n",
    "print('Hello { }, you are { } years old!'.format(name, 28))"
   ]
  },
  {
   "cell_type": "code",
   "execution_count": 23,
   "id": "23055636-1505-4e0c-a0dd-5772314ac829",
   "metadata": {},
   "outputs": [
    {
     "ename": "KeyError",
     "evalue": "' '",
     "output_type": "error",
     "traceback": [
      "\u001b[1;31m---------------------------------------------------------------------------\u001b[0m",
      "\u001b[1;31mKeyError\u001b[0m                                  Traceback (most recent call last)",
      "Cell \u001b[1;32mIn[23], line 3\u001b[0m\n\u001b[0;32m      1\u001b[0m \u001b[38;5;66;03m# 7th attempt\u001b[39;00m\n\u001b[0;32m      2\u001b[0m name \u001b[38;5;241m=\u001b[39m \u001b[38;5;124m'\u001b[39m\u001b[38;5;124mJohn\u001b[39m\u001b[38;5;124m'\u001b[39m\n\u001b[1;32m----> 3\u001b[0m \u001b[38;5;28mprint\u001b[39m( \u001b[38;5;124m'\u001b[39m\u001b[38;5;124mHello \u001b[39m\u001b[38;5;124m{\u001b[39m\u001b[38;5;124m }\u001b[39m\u001b[38;5;124m'\u001b[39m \u001b[38;5;241m.\u001b[39mformat(name) )\n\u001b[0;32m      4\u001b[0m \u001b[38;5;28mprint\u001b[39m( \u001b[38;5;124m'\u001b[39m\u001b[38;5;124mHello \u001b[39m\u001b[38;5;124m{\u001b[39m\u001b[38;5;124m }, you are \u001b[39m\u001b[38;5;124m{\u001b[39m\u001b[38;5;124m } years old!\u001b[39m\u001b[38;5;124m'\u001b[39m \u001b[38;5;241m.\u001b[39mformat(name, \u001b[38;5;241m28\u001b[39m) )\n",
      "\u001b[1;31mKeyError\u001b[0m: ' '"
     ]
    }
   ],
   "source": [
    "# 7th attempt\n",
    "name = 'John'\n",
    "print( 'Hello { }' .format(name) )\n",
    "print( 'Hello { }, you are { } years old!' .format(name, 28) )"
   ]
  },
  {
   "cell_type": "code",
   "execution_count": 24,
   "id": "06e7b105-11c0-4468-863b-6bc3dfbe3acf",
   "metadata": {},
   "outputs": [
    {
     "ename": "KeyError",
     "evalue": "' '",
     "output_type": "error",
     "traceback": [
      "\u001b[1;31m---------------------------------------------------------------------------\u001b[0m",
      "\u001b[1;31mKeyError\u001b[0m                                  Traceback (most recent call last)",
      "Cell \u001b[1;32mIn[24], line 3\u001b[0m\n\u001b[0;32m      1\u001b[0m \u001b[38;5;66;03m# 8th attempt\u001b[39;00m\n\u001b[0;32m      2\u001b[0m name \u001b[38;5;241m=\u001b[39m \u001b[38;5;124m\"\u001b[39m\u001b[38;5;124mJohn\u001b[39m\u001b[38;5;124m\"\u001b[39m\n\u001b[1;32m----> 3\u001b[0m \u001b[38;5;28mprint\u001b[39m( \u001b[38;5;124m\"\u001b[39m\u001b[38;5;124mHello \u001b[39m\u001b[38;5;124m{\u001b[39m\u001b[38;5;124m }\u001b[39m\u001b[38;5;124m\"\u001b[39m\u001b[38;5;241m.\u001b[39mformat(name) )\n\u001b[0;32m      4\u001b[0m \u001b[38;5;28mprint\u001b[39m( \u001b[38;5;124m\"\u001b[39m\u001b[38;5;124mHello \u001b[39m\u001b[38;5;124m{\u001b[39m\u001b[38;5;124m }, you are \u001b[39m\u001b[38;5;124m{\u001b[39m\u001b[38;5;124m } years old!\u001b[39m\u001b[38;5;124m\"\u001b[39m\u001b[38;5;241m.\u001b[39mformat(name, \u001b[38;5;241m28\u001b[39m) )\n",
      "\u001b[1;31mKeyError\u001b[0m: ' '"
     ]
    }
   ],
   "source": [
    "# 8th attempt\n",
    "name = \"John\"\n",
    "print( \"Hello { }\".format(name) )\n",
    "print( \"Hello { }, you are { } years old!\".format(name, 28) )"
   ]
  },
  {
   "cell_type": "code",
   "execution_count": 25,
   "id": "a6abf119-da0b-4dbf-bb15-87ce9e7dece9",
   "metadata": {},
   "outputs": [
    {
     "ename": "KeyError",
     "evalue": "' '",
     "output_type": "error",
     "traceback": [
      "\u001b[1;31m---------------------------------------------------------------------------\u001b[0m",
      "\u001b[1;31mKeyError\u001b[0m                                  Traceback (most recent call last)",
      "Cell \u001b[1;32mIn[25], line 3\u001b[0m\n\u001b[0;32m      1\u001b[0m \u001b[38;5;66;03m# 9th attempt\u001b[39;00m\n\u001b[0;32m      2\u001b[0m name \u001b[38;5;241m=\u001b[39m \u001b[38;5;124m\"\u001b[39m\u001b[38;5;124mJohn\u001b[39m\u001b[38;5;124m\"\u001b[39m\n\u001b[1;32m----> 3\u001b[0m \u001b[38;5;28mprint\u001b[39m( \u001b[38;5;124m\"\u001b[39m\u001b[38;5;124mHello \u001b[39m\u001b[38;5;124m{\u001b[39m\u001b[38;5;124m }\u001b[39m\u001b[38;5;124m\"\u001b[39m\u001b[38;5;241m.\u001b[39mformat(name) )\n",
      "\u001b[1;31mKeyError\u001b[0m: ' '"
     ]
    }
   ],
   "source": [
    " # 9th attempt\n",
    "name = \"John\"\n",
    "print( \"Hello { }\".format(name) )"
   ]
  },
  {
   "cell_type": "code",
   "execution_count": 26,
   "id": "6e23047a-77c2-4257-a45c-abf65f490918",
   "metadata": {},
   "outputs": [
    {
     "ename": "KeyError",
     "evalue": "' '",
     "output_type": "error",
     "traceback": [
      "\u001b[1;31m---------------------------------------------------------------------------\u001b[0m",
      "\u001b[1;31mKeyError\u001b[0m                                  Traceback (most recent call last)",
      "Cell \u001b[1;32mIn[26], line 3\u001b[0m\n\u001b[0;32m      1\u001b[0m \u001b[38;5;66;03m# 10th attempt\u001b[39;00m\n\u001b[0;32m      2\u001b[0m name \u001b[38;5;241m=\u001b[39m \u001b[38;5;124m\"\u001b[39m\u001b[38;5;124mJohn\u001b[39m\u001b[38;5;124m\"\u001b[39m\n\u001b[1;32m----> 3\u001b[0m \u001b[38;5;28mprint\u001b[39m(\u001b[38;5;124m\"\u001b[39m\u001b[38;5;124mHello \u001b[39m\u001b[38;5;124m{\u001b[39m\u001b[38;5;124m }, you are \u001b[39m\u001b[38;5;124m{\u001b[39m\u001b[38;5;124m } years old!\u001b[39m\u001b[38;5;124m\"\u001b[39m\u001b[38;5;241m.\u001b[39mformat(name, \u001b[38;5;241m28\u001b[39m))\n",
      "\u001b[1;31mKeyError\u001b[0m: ' '"
     ]
    }
   ],
   "source": [
    "# 10th attempt\n",
    "name = \"John\"\n",
    "print(\"Hello { }, you are { } years old!\".format(name, 28))"
   ]
  },
  {
   "cell_type": "code",
   "execution_count": 27,
   "id": "8cbde89f-20f1-4800-b9ef-72f24e700736",
   "metadata": {},
   "outputs": [
    {
     "name": "stdout",
     "output_type": "stream",
     "text": [
      "Hello John\n"
     ]
    }
   ],
   "source": [
    "# using the new f strings\n",
    "name = \"John\"\n",
    "print( f\"Hello {name}\" )"
   ]
  },
  {
   "cell_type": "code",
   "execution_count": 28,
   "id": "686af4a0-2b4f-4c26-a6f1-34b258279aba",
   "metadata": {},
   "outputs": [
    {
     "ename": "SyntaxError",
     "evalue": "invalid syntax. Perhaps you forgot a comma? (3786182509.py, line 2)",
     "output_type": "error",
     "traceback": [
      "\u001b[1;36m  Cell \u001b[1;32mIn[28], line 2\u001b[1;36m\u001b[0m\n\u001b[1;33m    print( \"Hello { }\".format{name} )\u001b[0m\n\u001b[1;37m           ^\u001b[0m\n\u001b[1;31mSyntaxError\u001b[0m\u001b[1;31m:\u001b[0m invalid syntax. Perhaps you forgot a comma?\n"
     ]
    }
   ],
   "source": [
    "name = \"John\"\n",
    "print( \"Hello { }\".format{name} )"
   ]
  },
  {
   "cell_type": "code",
   "execution_count": 29,
   "id": "e54fde2c-c635-43ce-8e08-a5957fa022b3",
   "metadata": {},
   "outputs": [
    {
     "ename": "KeyError",
     "evalue": "' '",
     "output_type": "error",
     "traceback": [
      "\u001b[1;31m---------------------------------------------------------------------------\u001b[0m",
      "\u001b[1;31mKeyError\u001b[0m                                  Traceback (most recent call last)",
      "Cell \u001b[1;32mIn[29], line 2\u001b[0m\n\u001b[0;32m      1\u001b[0m name \u001b[38;5;241m=\u001b[39m \u001b[38;5;124m\"\u001b[39m\u001b[38;5;124mJohn\u001b[39m\u001b[38;5;124m\"\u001b[39m\n\u001b[1;32m----> 2\u001b[0m \u001b[38;5;28mprint\u001b[39m( \u001b[38;5;124m\"\u001b[39m\u001b[38;5;124mHello \u001b[39m\u001b[38;5;124m{\u001b[39m\u001b[38;5;124m }\u001b[39m\u001b[38;5;124m\"\u001b[39m\u001b[38;5;241m.\u001b[39mformat(name) )\n",
      "\u001b[1;31mKeyError\u001b[0m: ' '"
     ]
    }
   ],
   "source": [
    "name = \"John\"\n",
    "print( \"Hello { }\".format(name) )"
   ]
  },
  {
   "cell_type": "code",
   "execution_count": 30,
   "id": "39b040fc-06db-45f1-bb4b-cc7c17c76940",
   "metadata": {},
   "outputs": [
    {
     "ename": "KeyError",
     "evalue": "' '",
     "output_type": "error",
     "traceback": [
      "\u001b[1;31m---------------------------------------------------------------------------\u001b[0m",
      "\u001b[1;31mKeyError\u001b[0m                                  Traceback (most recent call last)",
      "Cell \u001b[1;32mIn[30], line 2\u001b[0m\n\u001b[0;32m      1\u001b[0m name \u001b[38;5;241m=\u001b[39m \u001b[38;5;124m\"\u001b[39m\u001b[38;5;124mJohn\u001b[39m\u001b[38;5;124m\"\u001b[39m\n\u001b[1;32m----> 2\u001b[0m \u001b[38;5;28mprint\u001b[39m( \u001b[38;5;124m\"\u001b[39m\u001b[38;5;124mHello \u001b[39m\u001b[38;5;124m{\u001b[39m\u001b[38;5;124m }\u001b[39m\u001b[38;5;124m\"\u001b[39m\u001b[38;5;241m.\u001b[39mformat(name) )\u001b[38;5;241m.\u001b[39mget()\n",
      "\u001b[1;31mKeyError\u001b[0m: ' '"
     ]
    }
   ],
   "source": [
    "name = \"John\"\n",
    "print( \"Hello { }\".format(name) ).get()"
   ]
  },
  {
   "cell_type": "code",
   "execution_count": 31,
   "id": "0cb20dd1-f368-4e5f-b710-723a0151d734",
   "metadata": {},
   "outputs": [
    {
     "name": "stdout",
     "output_type": "stream",
     "text": [
      "Hello John\n"
     ]
    }
   ],
   "source": [
    "name = \"John\"\n",
    "print( \"Hello {}\".format(name) )"
   ]
  },
  {
   "cell_type": "markdown",
   "id": "76610e39-591e-41be-b551-5b9e3b8d1d32",
   "metadata": {},
   "source": [
    "## do not put a space in curly brackets when using .format()"
   ]
  },
  {
   "cell_type": "code",
   "execution_count": 32,
   "id": "d9ddc297-df7e-4c66-9f7c-7378151f9b9a",
   "metadata": {},
   "outputs": [
    {
     "name": "stdout",
     "output_type": "stream",
     "text": [
      "Hello John\n",
      "Hello John, you are 28 yrs old\n"
     ]
    }
   ],
   "source": [
    "name = \"John\"\n",
    "print( \"Hello {}\".format(name) )\n",
    "print( \"Hello {}, you are {} yrs old\".format(name, 28) )"
   ]
  },
  {
   "cell_type": "code",
   "execution_count": 33,
   "id": "94d7b35d-42ef-48d8-877f-bad0b2c55c95",
   "metadata": {},
   "outputs": [
    {
     "name": "stdout",
     "output_type": "stream",
     "text": [
      "H\n",
      "e\n",
      "o\n"
     ]
    }
   ],
   "source": [
    "# using indexes to print each element\n",
    "word = 'Hello'\n",
    "print( word[ 0 ] )\n",
    "print( word[ 1 ] )\n",
    "print( word[ -1 ] )"
   ]
  },
  {
   "cell_type": "code",
   "execution_count": 34,
   "id": "ba1eb928-3909-4a78-a5b9-a5414ba5feac",
   "metadata": {},
   "outputs": [
    {
     "name": "stdout",
     "output_type": "stream",
     "text": [
      "K\n",
      "e\n",
      "m\n"
     ]
    }
   ],
   "source": [
    "word = 'Kevin Kim'\n",
    "print( word[ 0 ] )\n",
    "print( word[ 1 ] )\n",
    "print( word[ -1 ] )"
   ]
  },
  {
   "cell_type": "code",
   "execution_count": 35,
   "id": "308a9727-124d-4aea-b139-a24df30ef1c5",
   "metadata": {},
   "outputs": [
    {
     "name": "stdout",
     "output_type": "stream",
     "text": [
      "K\n",
      "e\n",
      "i\n"
     ]
    }
   ],
   "source": [
    "word = 'Kevin Kim'\n",
    "print( word[ 0 ] )\n",
    "print( word[ 1 ] )\n",
    "print( word[ -2 ] )"
   ]
  },
  {
   "cell_type": "code",
   "execution_count": 36,
   "id": "3a6ed6c0-c189-4efb-acd6-2d7e2edfa6ac",
   "metadata": {},
   "outputs": [
    {
     "name": "stdout",
     "output_type": "stream",
     "text": [
      "K\n",
      "e\n",
      "K\n"
     ]
    }
   ],
   "source": [
    "word = 'Kevin Kim'\n",
    "print( word[ 0 ] )\n",
    "print( word[ 1 ] )\n",
    "print( word[ -9 ] )"
   ]
  },
  {
   "cell_type": "markdown",
   "id": "1b571d27-6620-405e-b828-438f9b6b0da7",
   "metadata": {},
   "source": [
    "### When using the negative number, the start is from the back of the word with the first alphabet, in which case it is \"m\" from \"Kevin Kim\"."
   ]
  },
  {
   "cell_type": "markdown",
   "id": "a8360309-113c-4470-9c71-c0ea7162398b",
   "metadata": {},
   "source": [
    "# Slicing"
   ]
  },
  {
   "cell_type": "code",
   "execution_count": 37,
   "id": "545ac1b6-7b86-41ad-93a7-07e9591984eb",
   "metadata": {},
   "outputs": [
    {
     "name": "stdout",
     "output_type": "stream",
     "text": [
      "He\n"
     ]
    }
   ],
   "source": [
    "word = 'Hello'\n",
    "print( word[ 0 : 2 ] )"
   ]
  },
  {
   "cell_type": "code",
   "execution_count": 38,
   "id": "14732179-b4ef-4d1e-b9c5-cc0bcabed781",
   "metadata": {},
   "outputs": [
    {
     "name": "stdout",
     "output_type": "stream",
     "text": [
      "Hlo\n"
     ]
    }
   ],
   "source": [
    "print( word[ 0 : 5 : 2 ] )"
   ]
  },
  {
   "cell_type": "code",
   "execution_count": 39,
   "id": "83a7d957-7c73-4a8e-b575-fb8293e4db45",
   "metadata": {},
   "outputs": [
    {
     "name": "stdout",
     "output_type": "stream",
     "text": [
      "Hl\n"
     ]
    }
   ],
   "source": [
    "print( word[ 0 : 4 : 2 ] )"
   ]
  },
  {
   "cell_type": "markdown",
   "id": "2cffda1f-fbb7-400b-843b-ba8ce8532be3",
   "metadata": {},
   "source": [
    "### For a quickie: variable_name[ start : stop : step ]. Will go over in detail."
   ]
  },
  {
   "cell_type": "code",
   "execution_count": 40,
   "id": "cf5037d6-15cb-48e7-82c9-6eb867efc67d",
   "metadata": {},
   "outputs": [
    {
     "ename": "NameError",
     "evalue": "name 'John' is not defined",
     "output_type": "error",
     "traceback": [
      "\u001b[1;31m---------------------------------------------------------------------------\u001b[0m",
      "\u001b[1;31mNameError\u001b[0m                                 Traceback (most recent call last)",
      "Cell \u001b[1;32mIn[40], line 1\u001b[0m\n\u001b[1;32m----> 1\u001b[0m \u001b[38;5;28mprint\u001b[39m( \u001b[38;5;124m\"\u001b[39m\u001b[38;5;132;01m{}\u001b[39;00m\u001b[38;5;132;01m{}\u001b[39;00m\u001b[38;5;132;01m{}\u001b[39;00m\u001b[38;5;132;01m{}\u001b[39;00m\u001b[38;5;124m\"\u001b[39m\u001b[38;5;241m.\u001b[39mformat(\u001b[38;5;241m23\u001b[39m, \u001b[38;5;241m4.5\u001b[39m, \u001b[38;5;28;01mFalse\u001b[39;00m, John) )\n",
      "\u001b[1;31mNameError\u001b[0m: name 'John' is not defined"
     ]
    }
   ],
   "source": [
    "print( \"{}{}{}{}\".format(23, 4.5, False, John) )"
   ]
  },
  {
   "cell_type": "code",
   "execution_count": 41,
   "id": "86462cdd-0854-4d82-b3fa-6ebaf21bdd98",
   "metadata": {},
   "outputs": [
    {
     "name": "stdout",
     "output_type": "stream",
     "text": [
      "234.5FalseJohn\n"
     ]
    }
   ],
   "source": [
    "name = 'John'\n",
    "print( \"{}{}{}{}\".format(23, 4.5, False, name) )"
   ]
  },
  {
   "cell_type": "code",
   "execution_count": 42,
   "id": "82acaa60-f7b4-4883-ac97-c9064f027f04",
   "metadata": {},
   "outputs": [
    {
     "name": "stdout",
     "output_type": "stream",
     "text": [
      "23 4.5 False John\n"
     ]
    }
   ],
   "source": [
    "name = 'John'\n",
    "print( \"{} {} {} {}\".format(23, 4.5, False, name) )"
   ]
  },
  {
   "cell_type": "code",
   "execution_count": 43,
   "id": "55464f05-b1e5-4511-a11e-810014323314",
   "metadata": {},
   "outputs": [
    {
     "name": "stdout",
     "output_type": "stream",
     "text": [
      "23 4.5 False John\n"
     ]
    }
   ],
   "source": [
    "name = 'John'\n",
    "print( f\"{23} {4.5} {False} {name}\" )"
   ]
  },
  {
   "cell_type": "code",
   "execution_count": 44,
   "id": "37de71b2-c242-4d8a-a00b-02e7f84a24f4",
   "metadata": {},
   "outputs": [
    {
     "name": "stdout",
     "output_type": "stream",
     "text": [
      "Kevin's favorite sport is swimming.\n",
      "Kevin is working on C++ programming.\n"
     ]
    }
   ],
   "source": [
    "name1 = 'Kevin'\n",
    "name2 = 'swimming'\n",
    "name3 = 'C++'\n",
    "print( \"{}'s favorite sport is {}.\".format(name1, name2) )\n",
    "print( \"{} is working on {} programming.\".format(name1, name3) )"
   ]
  },
  {
   "cell_type": "markdown",
   "id": "8bcac64c-5ba7-47ff-8354-7f6c4a33c102",
   "metadata": {},
   "source": [
    "## String Manipulation"
   ]
  },
  {
   "cell_type": "code",
   "execution_count": 1,
   "id": "2d72b168-f312-400b-af73-556a5ec237e9",
   "metadata": {},
   "outputs": [
    {
     "name": "stdout",
     "output_type": "stream",
     "text": [
      "John Smith\n"
     ]
    }
   ],
   "source": [
    "# using the title method to capitalize a string\n",
    "name = 'john smith'\n",
    "print( name.title() )"
   ]
  },
  {
   "cell_type": "code",
   "execution_count": 2,
   "id": "b1be2979-b434-4679-b16f-60169d94130c",
   "metadata": {},
   "outputs": [
    {
     "name": "stdout",
     "output_type": "stream",
     "text": [
      "JOHN SMITH\n"
     ]
    }
   ],
   "source": [
    "name = 'john smith'\n",
    "print( name.upper() )"
   ]
  },
  {
   "cell_type": "code",
   "execution_count": 3,
   "id": "bfa863d9-b095-42ad-a8e6-2af1d054abfc",
   "metadata": {},
   "outputs": [
    {
     "name": "stdout",
     "output_type": "stream",
     "text": [
      "john smith\n"
     ]
    }
   ],
   "source": [
    "name = 'John smith'\n",
    "print( name.lower() )"
   ]
  },
  {
   "cell_type": "code",
   "execution_count": 4,
   "id": "8185dce7-cced-42c3-9842-225c7c73d897",
   "metadata": {},
   "outputs": [
    {
     "name": "stdout",
     "output_type": "stream",
     "text": [
      "Hello there.\n"
     ]
    }
   ],
   "source": [
    "# replacing an exclamation point with a period\n",
    "words = 'Hello there!'\n",
    "print( words.replace( \"!\", \".\" ) )"
   ]
  },
  {
   "cell_type": "code",
   "execution_count": 7,
   "id": "d1fd8781-543b-49af-bfaa-63e5a97013ea",
   "metadata": {},
   "outputs": [],
   "source": [
    "words = 'Hello there!'\n",
    "words = words.replace('!','.')"
   ]
  },
  {
   "cell_type": "code",
   "execution_count": 8,
   "id": "b795f754-1563-4d41-ad8e-1fab05d7cf90",
   "metadata": {},
   "outputs": [
    {
     "name": "stdout",
     "output_type": "stream",
     "text": [
      "5\n"
     ]
    }
   ],
   "source": [
    "# finding the starting index of our searched term\n",
    "s = 'Look over that way'\n",
    "print( s.find('over') )"
   ]
  },
  {
   "cell_type": "code",
   "execution_count": 9,
   "id": "90529068-7a47-4d5e-857d-2526e2dc7207",
   "metadata": {},
   "outputs": [
    {
     "name": "stdout",
     "output_type": "stream",
     "text": [
      "John\n"
     ]
    }
   ],
   "source": [
    "# removing white space with strip\n",
    "name = \"   John   \"\n",
    "print( name.strip() )"
   ]
  },
  {
   "cell_type": "code",
   "execution_count": 10,
   "id": "3f641bdd-8949-447e-a20b-ba8f715e50b6",
   "metadata": {},
   "outputs": [
    {
     "name": "stdout",
     "output_type": "stream",
     "text": [
      "John   \n"
     ]
    }
   ],
   "source": [
    "name = \"   John   \"\n",
    "print( name.lstrip() )"
   ]
  },
  {
   "cell_type": "code",
   "execution_count": 11,
   "id": "be3be76f-a993-4dd1-94b8-a453511228f1",
   "metadata": {},
   "outputs": [
    {
     "name": "stdout",
     "output_type": "stream",
     "text": [
      "   John\n"
     ]
    }
   ],
   "source": [
    "name = \"   John   \"\n",
    "print( name.rstrip() )"
   ]
  },
  {
   "cell_type": "code",
   "execution_count": 12,
   "id": "dfd9ce8a-b31f-4df8-998c-07422f4fc029",
   "metadata": {},
   "outputs": [
    {
     "name": "stdout",
     "output_type": "stream",
     "text": [
      "   John   the boy\n"
     ]
    }
   ],
   "source": [
    "name = \"   John   the boy\"\n",
    "print( name.rstrip() )"
   ]
  },
  {
   "cell_type": "code",
   "execution_count": 13,
   "id": "74abc3d8-820a-439e-bf12-50683365de0b",
   "metadata": {},
   "outputs": [
    {
     "name": "stdout",
     "output_type": "stream",
     "text": [
      "John   the boy\n"
     ]
    }
   ],
   "source": [
    "name = \"   John   the boy\"\n",
    "print( name.lstrip() )"
   ]
  },
  {
   "cell_type": "code",
   "execution_count": 14,
   "id": "c189500a-4296-454c-a29d-526ddc99da11",
   "metadata": {},
   "outputs": [
    {
     "name": "stdout",
     "output_type": "stream",
     "text": [
      "John   the boy\n"
     ]
    }
   ],
   "source": [
    "name = \"   John   the boy\"\n",
    "print( name.strip() )"
   ]
  },
  {
   "cell_type": "code",
   "execution_count": 15,
   "id": "7244aa45-f8df-421b-94b8-11ee73c264a3",
   "metadata": {},
   "outputs": [
    {
     "name": "stdout",
     "output_type": "stream",
     "text": [
      "['These', 'words', 'are', 'separated', 'by', 'spaces']\n"
     ]
    }
   ],
   "source": [
    "# converting a string into a list of words\n",
    "s = 'These words are separated by spaces'\n",
    "print( s.split(' ') )"
   ]
  },
  {
   "cell_type": "markdown",
   "id": "de9a573e-3f23-402c-b01e-6b9d85ff4977",
   "metadata": {},
   "source": [
    "### Exercise"
   ]
  },
  {
   "cell_type": "code",
   "execution_count": 16,
   "id": "6d24e01d-297a-4b72-9d50-7d50cca93840",
   "metadata": {},
   "outputs": [
    {
     "name": "stdout",
     "output_type": "stream",
     "text": [
      "UPPERCASE\n"
     ]
    }
   ],
   "source": [
    "word = \"uppercase\"\n",
    "print( word.upper() )"
   ]
  },
  {
   "cell_type": "code",
   "execution_count": 17,
   "id": "d2adcfcc-b2de-41f9-86da-2b0edfecffde",
   "metadata": {},
   "outputs": [
    {
     "ename": "SyntaxError",
     "evalue": "unterminated string literal (detected at line 1) (3939259284.py, line 1)",
     "output_type": "error",
     "traceback": [
      "\u001b[1;36m  Cell \u001b[1;32mIn[17], line 1\u001b[1;36m\u001b[0m\n\u001b[1;33m    word = '$$John Smith\"\u001b[0m\n\u001b[1;37m           ^\u001b[0m\n\u001b[1;31mSyntaxError\u001b[0m\u001b[1;31m:\u001b[0m unterminated string literal (detected at line 1)\n"
     ]
    }
   ],
   "source": [
    "word = '$$John Smith\"\n",
    "print( word.strip($$) )"
   ]
  },
  {
   "cell_type": "code",
   "execution_count": 18,
   "id": "c4e694c4-9d24-49c2-bcb7-b672dbe4175f",
   "metadata": {},
   "outputs": [
    {
     "ename": "SyntaxError",
     "evalue": "invalid syntax (981322411.py, line 2)",
     "output_type": "error",
     "traceback": [
      "\u001b[1;36m  Cell \u001b[1;32mIn[18], line 2\u001b[1;36m\u001b[0m\n\u001b[1;33m    print( word.strip($$) )\u001b[0m\n\u001b[1;37m                      ^\u001b[0m\n\u001b[1;31mSyntaxError\u001b[0m\u001b[1;31m:\u001b[0m invalid syntax\n"
     ]
    }
   ],
   "source": [
    "word = '$$John Smith'\n",
    "print( word.strip($$) )"
   ]
  },
  {
   "cell_type": "code",
   "execution_count": 19,
   "id": "5677dbec-d8c7-4f84-b5cf-0f19781b4984",
   "metadata": {},
   "outputs": [
    {
     "ename": "SyntaxError",
     "evalue": "invalid syntax (68193794.py, line 2)",
     "output_type": "error",
     "traceback": [
      "\u001b[1;36m  Cell \u001b[1;32mIn[19], line 2\u001b[1;36m\u001b[0m\n\u001b[1;33m    print( word.lstrip($$) )\u001b[0m\n\u001b[1;37m                       ^\u001b[0m\n\u001b[1;31mSyntaxError\u001b[0m\u001b[1;31m:\u001b[0m invalid syntax\n"
     ]
    }
   ],
   "source": [
    "word = '$$John Smith'\n",
    "print( word.lstrip($$) )"
   ]
  },
  {
   "cell_type": "code",
   "execution_count": 20,
   "id": "43aaeb77-c3e9-4280-a992-fd218d604e61",
   "metadata": {},
   "outputs": [
    {
     "name": "stdout",
     "output_type": "stream",
     "text": [
      "$$John Smith\n"
     ]
    }
   ],
   "source": [
    "word = '$$John Smith'\n",
    "print( word.lstrip( ) )"
   ]
  },
  {
   "cell_type": "code",
   "execution_count": 21,
   "id": "57c4e749-b692-4e64-8c89-9ca5ac2ac03f",
   "metadata": {},
   "outputs": [
    {
     "name": "stdout",
     "output_type": "stream",
     "text": [
      "$$John Smith\n"
     ]
    }
   ],
   "source": [
    "word = '$$John Smith'\n",
    "print( word.rstrip( ) )"
   ]
  },
  {
   "cell_type": "code",
   "execution_count": 22,
   "id": "3920342c-12f8-4473-ba75-12998ce13d17",
   "metadata": {},
   "outputs": [
    {
     "ename": "SyntaxError",
     "evalue": "invalid syntax (1156764585.py, line 2)",
     "output_type": "error",
     "traceback": [
      "\u001b[1;36m  Cell \u001b[1;32mIn[22], line 2\u001b[1;36m\u001b[0m\n\u001b[1;33m    print( word.lstrip($) )\u001b[0m\n\u001b[1;37m                       ^\u001b[0m\n\u001b[1;31mSyntaxError\u001b[0m\u001b[1;31m:\u001b[0m invalid syntax\n"
     ]
    }
   ],
   "source": [
    "word = '$$John Smith'\n",
    "print( word.lstrip($) )"
   ]
  },
  {
   "cell_type": "code",
   "execution_count": 23,
   "id": "af88790d-ae3c-40b1-b4b2-5d176ae4f122",
   "metadata": {},
   "outputs": [
    {
     "name": "stdout",
     "output_type": "stream",
     "text": [
      "Help on built-in function strip:\n",
      "\n",
      "strip(chars=None, /) method of builtins.str instance\n",
      "    Return a copy of the string with leading and trailing whitespace removed.\n",
      "\n",
      "    If chars is given and not None, remove characters in chars instead.\n",
      "\n"
     ]
    }
   ],
   "source": [
    "help(\" \".strip)"
   ]
  },
  {
   "cell_type": "code",
   "execution_count": 24,
   "id": "79c0e6b6-d380-4d01-9fbf-950cdfef3cb9",
   "metadata": {},
   "outputs": [
    {
     "ename": "SyntaxError",
     "evalue": "invalid syntax (68193794.py, line 2)",
     "output_type": "error",
     "traceback": [
      "\u001b[1;36m  Cell \u001b[1;32mIn[24], line 2\u001b[1;36m\u001b[0m\n\u001b[1;33m    print( word.lstrip($$) )\u001b[0m\n\u001b[1;37m                       ^\u001b[0m\n\u001b[1;31mSyntaxError\u001b[0m\u001b[1;31m:\u001b[0m invalid syntax\n"
     ]
    }
   ],
   "source": [
    "word = '$$John Smith'\n",
    "print( word.lstrip($$) )"
   ]
  },
  {
   "cell_type": "code",
   "execution_count": 25,
   "id": "f2a5479c-64a6-4176-a2bc-521259d444af",
   "metadata": {},
   "outputs": [
    {
     "name": "stdout",
     "output_type": "stream",
     "text": [
      "John Smith\n"
     ]
    }
   ],
   "source": [
    "word = '$$John Smith'\n",
    "print( word.lstrip('$$') )"
   ]
  },
  {
   "cell_type": "code",
   "execution_count": 26,
   "id": "f55bd787-3493-499e-9fc3-04bb03161190",
   "metadata": {},
   "outputs": [
    {
     "name": "stdout",
     "output_type": "stream",
     "text": [
      "John Smith\n"
     ]
    }
   ],
   "source": [
    "word = '$$John Smith'\n",
    "print( word.lstrip('$') )"
   ]
  },
  {
   "cell_type": "code",
   "execution_count": 27,
   "id": "90988abd-c5a1-40f1-9d98-457ff5c90049",
   "metadata": {},
   "outputs": [
    {
     "name": "stdout",
     "output_type": "stream",
     "text": [
      "$$John Smith\n"
     ]
    }
   ],
   "source": [
    "word = '$$John Smith'\n",
    "print( word.rstrip('$$') )"
   ]
  },
  {
   "cell_type": "markdown",
   "id": "d554f8ca-a218-44f7-b812-aef3a3cd4f4d",
   "metadata": {},
   "source": [
    "# Friday Project: Printing Receipts"
   ]
  },
  {
   "cell_type": "code",
   "execution_count": 30,
   "id": "7b321261-6a91-4635-b5ed-504fd9236adf",
   "metadata": {},
   "outputs": [],
   "source": [
    "# create a product and price for three items\n",
    "p1_name, p1_price = 'Books', 49.95\n",
    "p2_name, p2_price = 'Computer', 579.99\n",
    "p3_name, p3_price = 'Monitor', 124.89\n",
    "\n",
    "# create a company name and information\n",
    "company_name = 'coding temple, inc.'\n",
    "company_address = '283 Franklin St.'\n",
    "company_city = 'Boston, MA'\n",
    "\n",
    "# declare ending message\n",
    "message = 'Thanks for shopping with us today!'"
   ]
  },
  {
   "cell_type": "code",
   "execution_count": 31,
   "id": "f358ec86-107d-4285-b865-fa95b0894a99",
   "metadata": {},
   "outputs": [
    {
     "name": "stdout",
     "output_type": "stream",
     "text": [
      "**************************************************\n"
     ]
    }
   ],
   "source": [
    "# create a product and price for three items\n",
    "p1_name, p1_price = 'Books', 49.95\n",
    "p2_name, p2_price = 'Computer', 579.99\n",
    "p3_name, p3_price = 'Monitor', 124.89\n",
    "\n",
    "# create a company name and information\n",
    "company_name = 'coding temple, inc.'\n",
    "company_address = '283 Franklin St.'\n",
    "company_city = 'Boston, MA'\n",
    "\n",
    "# declare ending message\n",
    "message = 'Thanks for shopping with us today!'\n",
    "\n",
    "# create a top border\n",
    "print('*' * 50)"
   ]
  },
  {
   "cell_type": "code",
   "execution_count": 33,
   "id": "1499164d-f3f9-4c08-a481-7f7ea701e98f",
   "metadata": {},
   "outputs": [
    {
     "name": "stdout",
     "output_type": "stream",
     "text": [
      "**************************************************\n",
      "\t\tCoding Temple, Inc.\n",
      "\t\t283 Franklin St.\n",
      "\t\tBoston, MA\n"
     ]
    }
   ],
   "source": [
    "# create a product and price for three items\n",
    "p1_name, p1_price = 'Books', 49.95\n",
    "p2_name, p2_price = 'Computer', 579.99\n",
    "p3_name, p3_price = 'Monitor', 124.89\n",
    "\n",
    "# create a company name and information\n",
    "company_name = 'coding temple, inc.'\n",
    "company_address = '283 Franklin St.'\n",
    "company_city = 'Boston, MA'\n",
    "\n",
    "# declare ending message\n",
    "message = 'Thanks for shopping with us today!'\n",
    "\n",
    "# create a top border\n",
    "print('*' * 50)\n",
    "\n",
    "# print company information first, using format\n",
    "print( '\\t\\t{}'.format( company_name.title() ) )\n",
    "print( '\\t\\t{}'.format(company_address) )\n",
    "print( '\\t\\t{}'.format(company_city) )"
   ]
  },
  {
   "cell_type": "code",
   "execution_count": 34,
   "id": "42de059f-46c7-4a5d-a939-76504e64384f",
   "metadata": {},
   "outputs": [
    {
     "name": "stdout",
     "output_type": "stream",
     "text": [
      "**************************************************\n",
      "\t\tCoding Temple, Inc.\n",
      "\t\t283 Franklin St.\n",
      "\t\tBoston, MA\n",
      "==================================================\n"
     ]
    }
   ],
   "source": [
    "# create a product and price for three items\n",
    "p1_name, p1_price = 'Books', 49.95\n",
    "p2_name, p2_price = 'Computer', 579.99\n",
    "p3_name, p3_price = 'Monitor', 124.89\n",
    "\n",
    "# create a company name and information\n",
    "company_name = 'coding temple, inc.'\n",
    "company_address = '283 Franklin St.'\n",
    "company_city = 'Boston, MA'\n",
    "\n",
    "# declare ending message\n",
    "message = 'Thanks for shopping with us today!'\n",
    "\n",
    "# create a top border\n",
    "print('*' * 50)\n",
    "\n",
    "# print company information first, using format\n",
    "print( '\\t\\t{}'.format( company_name.title() ) )\n",
    "print( '\\t\\t{}'.format(company_address) )\n",
    "print( '\\t\\t{}'.format(company_city) )\n",
    "\n",
    "# print a line between sections\n",
    "print( '=' * 50 )"
   ]
  },
  {
   "cell_type": "code",
   "execution_count": 35,
   "id": "6591526c-135a-43c3-9f28-7680a79e3373",
   "metadata": {},
   "outputs": [
    {
     "name": "stdout",
     "output_type": "stream",
     "text": [
      "**************************************************\n",
      "\t\tCoding Temple, Inc.\n",
      "\t\t283 Franklin St.\n",
      "\t\tBoston, MA\n",
      "==================================================\n",
      "\tProduct Name\tProduct Price\n"
     ]
    }
   ],
   "source": [
    "# create a product and price for three items\n",
    "p1_name, p1_price = 'Books', 49.95\n",
    "p2_name, p2_price = 'Computer', 579.99\n",
    "p3_name, p3_price = 'Monitor', 124.89\n",
    "\n",
    "# create a company name and information\n",
    "company_name = 'coding temple, inc.'\n",
    "company_address = '283 Franklin St.'\n",
    "company_city = 'Boston, MA'\n",
    "\n",
    "# declare ending message\n",
    "message = 'Thanks for shopping with us today!'\n",
    "\n",
    "# create a top border\n",
    "print('*' * 50)\n",
    "\n",
    "# print company information first, using format\n",
    "print( '\\t\\t{}'.format( company_name.title() ) )\n",
    "print( '\\t\\t{}'.format(company_address) )\n",
    "print( '\\t\\t{}'.format(company_city) )\n",
    "\n",
    "# print a line between sections\n",
    "print( '=' * 50 )\n",
    "\n",
    "# print out header for section of items\n",
    "print('\\tProduct Name\\tProduct Price')"
   ]
  },
  {
   "cell_type": "code",
   "execution_count": 36,
   "id": "6fb52b21-e1b3-43f6-8dbe-074865b63a02",
   "metadata": {},
   "outputs": [
    {
     "name": "stdout",
     "output_type": "stream",
     "text": [
      "**************************************************\n",
      "\t\tCoding Temple, Inc.\n",
      "\t\t283 Franklin St.\n",
      "\t\tBoston, MA\n",
      "==================================================\n",
      "\tProduct Name\tProduct Price\n",
      "\tBooks\t\t$49.95\n",
      "\tComputer\t\t$579.99\n",
      "\tMonitor\t\t$124.89\n"
     ]
    }
   ],
   "source": [
    "# create a product and price for three items\n",
    "p1_name, p1_price = 'Books', 49.95\n",
    "p2_name, p2_price = 'Computer', 579.99\n",
    "p3_name, p3_price = 'Monitor', 124.89\n",
    "\n",
    "# create a company name and information\n",
    "company_name = 'coding temple, inc.'\n",
    "company_address = '283 Franklin St.'\n",
    "company_city = 'Boston, MA'\n",
    "\n",
    "# declare ending message\n",
    "message = 'Thanks for shopping with us today!'\n",
    "\n",
    "# create a top border\n",
    "print('*' * 50)\n",
    "\n",
    "# print company information first, using format\n",
    "print( '\\t\\t{}'.format( company_name.title() ) )\n",
    "print( '\\t\\t{}'.format(company_address) )\n",
    "print( '\\t\\t{}'.format(company_city) )\n",
    "\n",
    "# print a line between sections\n",
    "print( '=' * 50 )\n",
    "\n",
    "# print out header for section of items\n",
    "print('\\tProduct Name\\tProduct Price')\n",
    "\n",
    "# create a print statement for each product\n",
    "print( '\\t{}\\t\\t${}'.format(p1_name.title(), p1_price) )\n",
    "print( '\\t{}\\t\\t${}'.format(p2_name.title(), p2_price) )\n",
    "print( '\\t{}\\t\\t${}'.format(p3_name.title(), p3_price) )"
   ]
  },
  {
   "cell_type": "code",
   "execution_count": 37,
   "id": "ad484669-dce9-45fe-83a1-2691f6b54b90",
   "metadata": {},
   "outputs": [
    {
     "name": "stdout",
     "output_type": "stream",
     "text": [
      "**************************************************\n",
      "\t\tCoding Temple, Inc.\n",
      "\t\t283 Franklin St.\n",
      "\t\tBoston, MA\n",
      "==================================================\n",
      "\tProduct Name\tProduct Price\n",
      "\tBooks\t\t$49.95\n",
      "\tComputer\t$579.99\n",
      "\tMonitor\t\t$124.89\n"
     ]
    }
   ],
   "source": [
    "# create a product and price for three items\n",
    "p1_name, p1_price = 'Books', 49.95\n",
    "p2_name, p2_price = 'Computer', 579.99\n",
    "p3_name, p3_price = 'Monitor', 124.89\n",
    "\n",
    "# create a company name and information\n",
    "company_name = 'coding temple, inc.'\n",
    "company_address = '283 Franklin St.'\n",
    "company_city = 'Boston, MA'\n",
    "\n",
    "# declare ending message\n",
    "message = 'Thanks for shopping with us today!'\n",
    "\n",
    "# create a top border\n",
    "print('*' * 50)\n",
    "\n",
    "# print company information first, using format\n",
    "print( '\\t\\t{}'.format( company_name.title() ) )\n",
    "print( '\\t\\t{}'.format(company_address) )\n",
    "print( '\\t\\t{}'.format(company_city) )\n",
    "\n",
    "# print a line between sections\n",
    "print( '=' * 50 )\n",
    "\n",
    "# print out header for section of items\n",
    "print('\\tProduct Name\\tProduct Price')\n",
    "\n",
    "# create a print statement for each product\n",
    "print( '\\t{}\\t\\t${}'.format(p1_name.title(), p1_price) )\n",
    "print( '\\t{}\\t${}'.format(p2_name.title(), p2_price) )\n",
    "print( '\\t{}\\t\\t${}'.format(p3_name.title(), p3_price) )"
   ]
  },
  {
   "cell_type": "code",
   "execution_count": 38,
   "id": "680b57c8-b380-4e4f-85db-c66769ccb961",
   "metadata": {},
   "outputs": [
    {
     "name": "stdout",
     "output_type": "stream",
     "text": [
      "**************************************************\n",
      "\t\tCoding Temple, Inc.\n",
      "\t\t283 Franklin St.\n",
      "\t\tBoston, MA\n",
      "==================================================\n",
      "\tProduct Name\tProduct Price\n",
      "\tBooks\t\t$49.95\n",
      "\tComputer\t\t$579.99\n",
      "\tMonitor\t\t$124.89\n"
     ]
    }
   ],
   "source": [
    "# create a product and price for three items\n",
    "p1_name, p1_price = 'Books', 49.95\n",
    "p2_name, p2_price = 'Computer', 579.99\n",
    "p3_name, p3_price = 'Monitor', 124.89\n",
    "\n",
    "# create a company name and information\n",
    "company_name = 'coding temple, inc.'\n",
    "company_address = '283 Franklin St.'\n",
    "company_city = 'Boston, MA'\n",
    "\n",
    "# declare ending message\n",
    "message = 'Thanks for shopping with us today!'\n",
    "\n",
    "# create a top border\n",
    "print('*' * 50)\n",
    "\n",
    "# print company information first, using format\n",
    "print( '\\t\\t{}'.format( company_name.title() ) )\n",
    "print( '\\t\\t{}'.format(company_address) )\n",
    "print( '\\t\\t{}'.format(company_city) )\n",
    "\n",
    "# print a line between sections\n",
    "print( '=' * 50 )\n",
    "\n",
    "# print out header for section of items\n",
    "print('\\tProduct Name\\tProduct Price')\n",
    "\n",
    "# create a print statement for each product\n",
    "print( '\\t{}\\t\\t${}'.format(p1_name.title(), p1_price) )\n",
    "print( '\\t{}\\t\\t${}'.format(p2_name.title(), p2_price) )\n",
    "print( '\\t{}\\t\\t${}'.format(p3_name.title(), p3_price) )"
   ]
  },
  {
   "cell_type": "code",
   "execution_count": 39,
   "id": "e4059a57-daf5-4d68-87c3-96fc0a15fda0",
   "metadata": {},
   "outputs": [
    {
     "name": "stdout",
     "output_type": "stream",
     "text": [
      "**************************************************\n",
      "\t\tCoding Temple, Inc.\n",
      "\t\t283 Franklin St.\n",
      "\t\tBoston, MA\n",
      "==================================================\n",
      "\tProduct Name\tProduct Price\n",
      "\tBooks\t\t$49.95\n",
      "\tComputer\t$579.99\n",
      "\tMonitor\t\t$124.89\n"
     ]
    }
   ],
   "source": [
    "# create a product and price for three items\n",
    "p1_name, p1_price = 'Books', 49.95\n",
    "p2_name, p2_price = 'Computer', 579.99\n",
    "p3_name, p3_price = 'Monitor', 124.89\n",
    "\n",
    "# create a company name and information\n",
    "company_name = 'coding temple, inc.'\n",
    "company_address = '283 Franklin St.'\n",
    "company_city = 'Boston, MA'\n",
    "\n",
    "# declare ending message\n",
    "message = 'Thanks for shopping with us today!'\n",
    "\n",
    "# create a top border\n",
    "print('*' * 50)\n",
    "\n",
    "# print company information first, using format\n",
    "print( '\\t\\t{}'.format( company_name.title() ) )\n",
    "print( '\\t\\t{}'.format(company_address) )\n",
    "print( '\\t\\t{}'.format(company_city) )\n",
    "\n",
    "# print a line between sections\n",
    "print( '=' * 50 )\n",
    "\n",
    "# print out header for section of items\n",
    "print('\\tProduct Name\\tProduct Price')\n",
    "\n",
    "# create a print statement for each product\n",
    "print( '\\t{}\\t\\t${}'.format(p1_name.title(), p1_price) )\n",
    "print( '\\t{}\\t${}'.format(p2_name.title(), p2_price) )\n",
    "print( '\\t{}\\t\\t${}'.format(p3_name.title(), p3_price) )"
   ]
  },
  {
   "cell_type": "code",
   "execution_count": 40,
   "id": "1dc919b4-40a3-45a1-a0fd-dc823da62311",
   "metadata": {},
   "outputs": [
    {
     "name": "stdout",
     "output_type": "stream",
     "text": [
      "**************************************************\n",
      "\t\tCoding Temple, Inc.\n",
      "\t\t283 Franklin St.\n",
      "\t\tBoston, MA\n",
      "==================================================\n",
      "\tProduct Name\tProduct Price\n",
      "\tBooks\t\t$49.95\n",
      "\tComputer\t$579.99\n",
      "\tMonitor\t\t$124.89\n",
      "==================================================\n"
     ]
    }
   ],
   "source": [
    "# create a product and price for three items\n",
    "p1_name, p1_price = 'Books', 49.95\n",
    "p2_name, p2_price = 'Computer', 579.99\n",
    "p3_name, p3_price = 'Monitor', 124.89\n",
    "\n",
    "# create a company name and information\n",
    "company_name = 'coding temple, inc.'\n",
    "company_address = '283 Franklin St.'\n",
    "company_city = 'Boston, MA'\n",
    "\n",
    "# declare ending message\n",
    "message = 'Thanks for shopping with us today!'\n",
    "\n",
    "# create a top border\n",
    "print('*' * 50)\n",
    "\n",
    "# print company information first, using format\n",
    "print( '\\t\\t{}'.format( company_name.title() ) )\n",
    "print( '\\t\\t{}'.format(company_address) )\n",
    "print( '\\t\\t{}'.format(company_city) )\n",
    "\n",
    "# print a line between sections\n",
    "print( '=' * 50 )\n",
    "\n",
    "# print out header for section of items\n",
    "print('\\tProduct Name\\tProduct Price')\n",
    "\n",
    "# create a print statement for each product\n",
    "print( '\\t{}\\t\\t${}'.format(p1_name.title(), p1_price) )\n",
    "print( '\\t{}\\t${}'.format(p2_name.title(), p2_price) )\n",
    "print( '\\t{}\\t\\t${}'.format(p3_name.title(), p3_price) )\n",
    "\n",
    "# print a line between sections\n",
    "print('=' * 50)"
   ]
  },
  {
   "cell_type": "code",
   "execution_count": 41,
   "id": "f6f6377f-318b-493e-afa1-a00ef147915a",
   "metadata": {},
   "outputs": [
    {
     "name": "stdout",
     "output_type": "stream",
     "text": [
      "**************************************************\n",
      "\t\tCoding Temple, Inc.\n",
      "\t\t283 Franklin St.\n",
      "\t\tBoston, MA\n",
      "==================================================\n",
      "\tProduct Name\tProduct Price\n",
      "\tBooks\t\t$49.95\n",
      "\tComputer\t$579.99\n",
      "\tMonitor\t\t$124.89\n",
      "==================================================\n",
      "\t\t\tTotal\n"
     ]
    }
   ],
   "source": [
    "# create a product and price for three items\n",
    "p1_name, p1_price = 'Books', 49.95\n",
    "p2_name, p2_price = 'Computer', 579.99\n",
    "p3_name, p3_price = 'Monitor', 124.89\n",
    "\n",
    "# create a company name and information\n",
    "company_name = 'coding temple, inc.'\n",
    "company_address = '283 Franklin St.'\n",
    "company_city = 'Boston, MA'\n",
    "\n",
    "# declare ending message\n",
    "message = 'Thanks for shopping with us today!'\n",
    "\n",
    "# create a top border\n",
    "print('*' * 50)\n",
    "\n",
    "# print company information first, using format\n",
    "print( '\\t\\t{}'.format( company_name.title() ) )\n",
    "print( '\\t\\t{}'.format(company_address) )\n",
    "print( '\\t\\t{}'.format(company_city) )\n",
    "\n",
    "# print a line between sections\n",
    "print( '=' * 50 )\n",
    "\n",
    "# print out header for section of items\n",
    "print('\\tProduct Name\\tProduct Price')\n",
    "\n",
    "# create a print statement for each product\n",
    "print( '\\t{}\\t\\t${}'.format(p1_name.title(), p1_price) )\n",
    "print( '\\t{}\\t${}'.format(p2_name.title(), p2_price) )\n",
    "print( '\\t{}\\t\\t${}'.format(p3_name.title(), p3_price) )\n",
    "\n",
    "# print a line between sections\n",
    "print('=' * 50)\n",
    "\n",
    "# print out header for section of total\n",
    "print('\\t\\t\\tTotal')"
   ]
  },
  {
   "cell_type": "code",
   "execution_count": 42,
   "id": "6116a9dc-23fc-4e98-9e86-e2a1fa357f8c",
   "metadata": {},
   "outputs": [
    {
     "name": "stdout",
     "output_type": "stream",
     "text": [
      "**************************************************\n",
      "\t\tCoding Temple, Inc.\n",
      "\t\t283 Franklin St.\n",
      "\t\tBoston, MA\n",
      "==================================================\n",
      "\tProduct Name\tProduct Price\n",
      "\tBooks\t\t$49.95\n",
      "\tComputer\t$579.99\n",
      "\tMonitor\t\t$124.89\n",
      "==================================================\n",
      "\t\t\tTotal\n",
      "\t\t\t$754.83\n"
     ]
    }
   ],
   "source": [
    "# create a product and price for three items\n",
    "p1_name, p1_price = 'Books', 49.95\n",
    "p2_name, p2_price = 'Computer', 579.99\n",
    "p3_name, p3_price = 'Monitor', 124.89\n",
    "\n",
    "# create a company name and information\n",
    "company_name = 'coding temple, inc.'\n",
    "company_address = '283 Franklin St.'\n",
    "company_city = 'Boston, MA'\n",
    "\n",
    "# declare ending message\n",
    "message = 'Thanks for shopping with us today!'\n",
    "\n",
    "# create a top border\n",
    "print('*' * 50)\n",
    "\n",
    "# print company information first, using format\n",
    "print( '\\t\\t{}'.format( company_name.title() ) )\n",
    "print( '\\t\\t{}'.format(company_address) )\n",
    "print( '\\t\\t{}'.format(company_city) )\n",
    "\n",
    "# print a line between sections\n",
    "print( '=' * 50 )\n",
    "\n",
    "# print out header for section of items\n",
    "print('\\tProduct Name\\tProduct Price')\n",
    "\n",
    "# create a print statement for each product\n",
    "print( '\\t{}\\t\\t${}'.format(p1_name.title(), p1_price) )\n",
    "print( '\\t{}\\t${}'.format(p2_name.title(), p2_price) )\n",
    "print( '\\t{}\\t\\t${}'.format(p3_name.title(), p3_price) )\n",
    "\n",
    "# print a line between sections\n",
    "print('=' * 50)\n",
    "\n",
    "# print out header for section of total\n",
    "print('\\t\\t\\tTotal')\n",
    "\n",
    "# calculate total price and print out\n",
    "total = p1_price + p2_price + p3_price\n",
    "print( '\\t\\t\\t${}'.format(total) )"
   ]
  },
  {
   "cell_type": "code",
   "execution_count": 43,
   "id": "d8896652-5811-455d-b6f6-0ed2ca88578b",
   "metadata": {},
   "outputs": [
    {
     "name": "stdout",
     "output_type": "stream",
     "text": [
      "**************************************************\n",
      "\t\tCoding Temple, Inc.\n",
      "\t\t283 Franklin St.\n",
      "\t\tBoston, MA\n",
      "==================================================\n",
      "\tProduct Name\tProduct Price\n",
      "\tBooks\t\t$49.95\n",
      "\tComputer\t$579.99\n",
      "\tMonitor\t\t$124.89\n",
      "==================================================\n",
      "\t\t\tTotal\n",
      "\t\t\t$754.83\n",
      "==================================================\n"
     ]
    }
   ],
   "source": [
    "# create a product and price for three items\n",
    "p1_name, p1_price = 'Books', 49.95\n",
    "p2_name, p2_price = 'Computer', 579.99\n",
    "p3_name, p3_price = 'Monitor', 124.89\n",
    "\n",
    "# create a company name and information\n",
    "company_name = 'coding temple, inc.'\n",
    "company_address = '283 Franklin St.'\n",
    "company_city = 'Boston, MA'\n",
    "\n",
    "# declare ending message\n",
    "message = 'Thanks for shopping with us today!'\n",
    "\n",
    "# create a top border\n",
    "print('*' * 50)\n",
    "\n",
    "# print company information first, using format\n",
    "print( '\\t\\t{}'.format( company_name.title() ) )\n",
    "print( '\\t\\t{}'.format(company_address) )\n",
    "print( '\\t\\t{}'.format(company_city) )\n",
    "\n",
    "# print a line between sections\n",
    "print( '=' * 50 )\n",
    "\n",
    "# print out header for section of items\n",
    "print('\\tProduct Name\\tProduct Price')\n",
    "\n",
    "# create a print statement for each product\n",
    "print( '\\t{}\\t\\t${}'.format(p1_name.title(), p1_price) )\n",
    "print( '\\t{}\\t${}'.format(p2_name.title(), p2_price) )\n",
    "print( '\\t{}\\t\\t${}'.format(p3_name.title(), p3_price) )\n",
    "\n",
    "# print a line between sections\n",
    "print('=' * 50)\n",
    "\n",
    "# print out header for section of total\n",
    "print('\\t\\t\\tTotal')\n",
    "\n",
    "# calculate total price and print out\n",
    "total = p1_price + p2_price + p3_price\n",
    "print( '\\t\\t\\t${}'.format(total) )\n",
    "\n",
    "# print a line between sections\n",
    "print( '=' * 50)"
   ]
  },
  {
   "cell_type": "code",
   "execution_count": 44,
   "id": "41e3699e-c729-41e2-86ca-fbeacdcb330f",
   "metadata": {},
   "outputs": [
    {
     "name": "stdout",
     "output_type": "stream",
     "text": [
      "**************************************************\n",
      "\t\tCoding Temple, Inc.\n",
      "\t\t283 Franklin St.\n",
      "\t\tBoston, MA\n",
      "==================================================\n",
      "\tProduct Name\tProduct Price\n",
      "\tBooks\t\t$49.95\n",
      "\tComputer\t$579.99\n",
      "\tMonitor\t\t$124.89\n",
      "==================================================\n",
      "\t\t\tTotal\n",
      "\t\t\t$754.83\n",
      "==================================================\n",
      "n\tThanks for shopping with us today!\n",
      "\n"
     ]
    }
   ],
   "source": [
    "# create a product and price for three items\n",
    "p1_name, p1_price = 'Books', 49.95\n",
    "p2_name, p2_price = 'Computer', 579.99\n",
    "p3_name, p3_price = 'Monitor', 124.89\n",
    "\n",
    "# create a company name and information\n",
    "company_name = 'coding temple, inc.'\n",
    "company_address = '283 Franklin St.'\n",
    "company_city = 'Boston, MA'\n",
    "\n",
    "# declare ending message\n",
    "message = 'Thanks for shopping with us today!'\n",
    "\n",
    "# create a top border\n",
    "print('*' * 50)\n",
    "\n",
    "# print company information first, using format\n",
    "print( '\\t\\t{}'.format( company_name.title() ) )\n",
    "print( '\\t\\t{}'.format(company_address) )\n",
    "print( '\\t\\t{}'.format(company_city) )\n",
    "\n",
    "# print a line between sections\n",
    "print( '=' * 50 )\n",
    "\n",
    "# print out header for section of items\n",
    "print('\\tProduct Name\\tProduct Price')\n",
    "\n",
    "# create a print statement for each product\n",
    "print( '\\t{}\\t\\t${}'.format(p1_name.title(), p1_price) )\n",
    "print( '\\t{}\\t${}'.format(p2_name.title(), p2_price) )\n",
    "print( '\\t{}\\t\\t${}'.format(p3_name.title(), p3_price) )\n",
    "\n",
    "# print a line between sections\n",
    "print('=' * 50)\n",
    "\n",
    "# print out header for section of total\n",
    "print('\\t\\t\\tTotal')\n",
    "\n",
    "# calculate total price and print out\n",
    "total = p1_price + p2_price + p3_price\n",
    "print( '\\t\\t\\t${}'.format(total) )\n",
    "\n",
    "# print a line between sections\n",
    "print( '=' * 50)\n",
    "\n",
    "# output thank you message\n",
    "print( 'n\\t{}\\n'.format(message) )"
   ]
  },
  {
   "cell_type": "code",
   "execution_count": 45,
   "id": "94c4ef79-1296-4bd6-a19d-39377976f596",
   "metadata": {},
   "outputs": [
    {
     "name": "stdout",
     "output_type": "stream",
     "text": [
      "**************************************************\n",
      "\t\tCoding Temple, Inc.\n",
      "\t\t283 Franklin St.\n",
      "\t\tBoston, MA\n",
      "==================================================\n",
      "\tProduct Name\tProduct Price\n",
      "\tBooks\t\t$49.95\n",
      "\tComputer\t$579.99\n",
      "\tMonitor\t\t$124.89\n",
      "==================================================\n",
      "\t\t\tTotal\n",
      "\t\t\t$754.83\n",
      "==================================================\n",
      "\n",
      "\tThanks for shopping with us today!\n",
      "\n"
     ]
    }
   ],
   "source": [
    "# create a product and price for three items\n",
    "p1_name, p1_price = 'Books', 49.95\n",
    "p2_name, p2_price = 'Computer', 579.99\n",
    "p3_name, p3_price = 'Monitor', 124.89\n",
    "\n",
    "# create a company name and information\n",
    "company_name = 'coding temple, inc.'\n",
    "company_address = '283 Franklin St.'\n",
    "company_city = 'Boston, MA'\n",
    "\n",
    "# declare ending message\n",
    "message = 'Thanks for shopping with us today!'\n",
    "\n",
    "# create a top border\n",
    "print('*' * 50)\n",
    "\n",
    "# print company information first, using format\n",
    "print( '\\t\\t{}'.format( company_name.title() ) )\n",
    "print( '\\t\\t{}'.format(company_address) )\n",
    "print( '\\t\\t{}'.format(company_city) )\n",
    "\n",
    "# print a line between sections\n",
    "print( '=' * 50 )\n",
    "\n",
    "# print out header for section of items\n",
    "print('\\tProduct Name\\tProduct Price')\n",
    "\n",
    "# create a print statement for each product\n",
    "print( '\\t{}\\t\\t${}'.format(p1_name.title(), p1_price) )\n",
    "print( '\\t{}\\t${}'.format(p2_name.title(), p2_price) )\n",
    "print( '\\t{}\\t\\t${}'.format(p3_name.title(), p3_price) )\n",
    "\n",
    "# print a line between sections\n",
    "print('=' * 50)\n",
    "\n",
    "# print out header for section of total\n",
    "print('\\t\\t\\tTotal')\n",
    "\n",
    "# calculate total price and print out\n",
    "total = p1_price + p2_price + p3_price\n",
    "print( '\\t\\t\\t${}'.format(total) )\n",
    "\n",
    "# print a line between sections\n",
    "print( '=' * 50)\n",
    "\n",
    "# output thank you message\n",
    "print( '\\n\\t{}\\n'.format(message) )"
   ]
  },
  {
   "cell_type": "code",
   "execution_count": 46,
   "id": "7577b056-ee80-458f-b5ea-e21dce40e61a",
   "metadata": {},
   "outputs": [
    {
     "name": "stdout",
     "output_type": "stream",
     "text": [
      "**************************************************\n",
      "\t\tCoding Temple, Inc.\n",
      "\t\t283 Franklin St.\n",
      "\t\tBoston, MA\n",
      "==================================================\n",
      "\tProduct Name\tProduct Price\n",
      "\tBooks\t\t$49.95\n",
      "\tComputer\t$579.99\n",
      "\tMonitor\t\t$124.89\n",
      "==================================================\n",
      "\t\t\tTotal\n",
      "\t\t\t$754.83\n",
      "==================================================\n",
      "\n",
      "\tThanks for shopping with us today!\n",
      "\n",
      "**************************************************\n"
     ]
    }
   ],
   "source": [
    "# create a product and price for three items\n",
    "p1_name, p1_price = 'Books', 49.95\n",
    "p2_name, p2_price = 'Computer', 579.99\n",
    "p3_name, p3_price = 'Monitor', 124.89\n",
    "\n",
    "# create a company name and information\n",
    "company_name = 'coding temple, inc.'\n",
    "company_address = '283 Franklin St.'\n",
    "company_city = 'Boston, MA'\n",
    "\n",
    "# declare ending message\n",
    "message = 'Thanks for shopping with us today!'\n",
    "\n",
    "# create a top border\n",
    "print('*' * 50)\n",
    "\n",
    "# print company information first, using format\n",
    "print( '\\t\\t{}'.format( company_name.title() ) )\n",
    "print( '\\t\\t{}'.format(company_address) )\n",
    "print( '\\t\\t{}'.format(company_city) )\n",
    "\n",
    "# print a line between sections\n",
    "print( '=' * 50 )\n",
    "\n",
    "# print out header for section of items\n",
    "print('\\tProduct Name\\tProduct Price')\n",
    "\n",
    "# create a print statement for each product\n",
    "print( '\\t{}\\t\\t${}'.format(p1_name.title(), p1_price) )\n",
    "print( '\\t{}\\t${}'.format(p2_name.title(), p2_price) )\n",
    "print( '\\t{}\\t\\t${}'.format(p3_name.title(), p3_price) )\n",
    "\n",
    "# print a line between sections\n",
    "print('=' * 50)\n",
    "\n",
    "# print out header for section of total\n",
    "print('\\t\\t\\tTotal')\n",
    "\n",
    "# calculate total price and print out\n",
    "total = p1_price + p2_price + p3_price\n",
    "print( '\\t\\t\\t${}'.format(total) )\n",
    "\n",
    "# print a line between sections\n",
    "print( '=' * 50)\n",
    "\n",
    "# output thank you message\n",
    "print( '\\n\\t{}\\n'.format(message) )\n",
    "\n",
    "# create a bottom border\n",
    "print('*' * 50)"
   ]
  },
  {
   "cell_type": "code",
   "execution_count": 47,
   "id": "c36840ac-01f6-4f17-ba7d-7e31fae92f22",
   "metadata": {},
   "outputs": [
    {
     "ename": "SyntaxError",
     "evalue": "invalid syntax. Perhaps you forgot a comma? (2632175409.py, line 18)",
     "output_type": "error",
     "traceback": [
      "\u001b[1;36m  Cell \u001b[1;32mIn[47], line 18\u001b[1;36m\u001b[0m\n\u001b[1;33m    print( '*','\\t\\t{}'.format( company_name.title() )'*')\u001b[0m\n\u001b[1;37m               ^\u001b[0m\n\u001b[1;31mSyntaxError\u001b[0m\u001b[1;31m:\u001b[0m invalid syntax. Perhaps you forgot a comma?\n"
     ]
    }
   ],
   "source": [
    "# create a product and price for three items\n",
    "p1_name, p1_price = 'Books', 49.95\n",
    "p2_name, p2_price = 'Computer', 579.99\n",
    "p3_name, p3_price = 'Monitor', 124.89\n",
    "\n",
    "# create a company name and information\n",
    "company_name = 'coding temple, inc.'\n",
    "company_address = '283 Franklin St.'\n",
    "company_city = 'Boston, MA'\n",
    "\n",
    "# declare ending message\n",
    "message = 'Thanks for shopping with us today!'\n",
    "\n",
    "# create a top border\n",
    "print('*' * 52)\n",
    "\n",
    "# print company information first, using format\n",
    "print( '*','\\t\\t{}'.format( company_name.title() )'*')\n",
    "print( '\\t\\t{}'.format(company_address) )\n",
    "print( '\\t\\t{}'.format(company_city) )\n",
    "\n",
    "# print a line between sections\n",
    "print( '=' * 50 )\n",
    "\n",
    "# print out header for section of items\n",
    "print('\\tProduct Name\\tProduct Price')\n",
    "\n",
    "# create a print statement for each product\n",
    "print( '\\t{}\\t\\t${}'.format(p1_name.title(), p1_price) )\n",
    "print( '\\t{}\\t${}'.format(p2_name.title(), p2_price) )\n",
    "print( '\\t{}\\t\\t${}'.format(p3_name.title(), p3_price) )\n",
    "\n",
    "# print a line between sections\n",
    "print('=' * 50)\n",
    "\n",
    "# print out header for section of total\n",
    "print('\\t\\t\\tTotal')\n",
    "\n",
    "# calculate total price and print out\n",
    "total = p1_price + p2_price + p3_price\n",
    "print( '\\t\\t\\t${}'.format(total) )\n",
    "\n",
    "# print a line between sections\n",
    "print( '=' * 50)\n",
    "\n",
    "# output thank you message\n",
    "print( '\\n\\t{}\\n'.format(message) )\n",
    "\n",
    "# create a bottom border\n",
    "print('*' * 52)"
   ]
  },
  {
   "cell_type": "code",
   "execution_count": 48,
   "id": "b48b0c5c-e217-4453-9b6d-d7f090c76138",
   "metadata": {},
   "outputs": [
    {
     "name": "stdout",
     "output_type": "stream",
     "text": [
      "****************************************************\n",
      "* \t\tCoding Temple, Inc. *\n",
      "\t\t283 Franklin St.\n",
      "\t\tBoston, MA\n",
      "==================================================\n",
      "\tProduct Name\tProduct Price\n",
      "\tBooks\t\t$49.95\n",
      "\tComputer\t$579.99\n",
      "\tMonitor\t\t$124.89\n",
      "==================================================\n",
      "\t\t\tTotal\n",
      "\t\t\t$754.83\n",
      "==================================================\n",
      "\n",
      "\tThanks for shopping with us today!\n",
      "\n",
      "****************************************************\n"
     ]
    }
   ],
   "source": [
    "# create a product and price for three items\n",
    "p1_name, p1_price = 'Books', 49.95\n",
    "p2_name, p2_price = 'Computer', 579.99\n",
    "p3_name, p3_price = 'Monitor', 124.89\n",
    "\n",
    "# create a company name and information\n",
    "company_name = 'coding temple, inc.'\n",
    "company_address = '283 Franklin St.'\n",
    "company_city = 'Boston, MA'\n",
    "\n",
    "# declare ending message\n",
    "message = 'Thanks for shopping with us today!'\n",
    "\n",
    "# create a top border\n",
    "print('*' * 52)\n",
    "\n",
    "# print company information first, using format\n",
    "print( '*','\\t\\t{}'.format( company_name.title() ),'*')\n",
    "print( '\\t\\t{}'.format(company_address) )\n",
    "print( '\\t\\t{}'.format(company_city) )\n",
    "\n",
    "# print a line between sections\n",
    "print( '=' * 50 )\n",
    "\n",
    "# print out header for section of items\n",
    "print('\\tProduct Name\\tProduct Price')\n",
    "\n",
    "# create a print statement for each product\n",
    "print( '\\t{}\\t\\t${}'.format(p1_name.title(), p1_price) )\n",
    "print( '\\t{}\\t${}'.format(p2_name.title(), p2_price) )\n",
    "print( '\\t{}\\t\\t${}'.format(p3_name.title(), p3_price) )\n",
    "\n",
    "# print a line between sections\n",
    "print('=' * 50)\n",
    "\n",
    "# print out header for section of total\n",
    "print('\\t\\t\\tTotal')\n",
    "\n",
    "# calculate total price and print out\n",
    "total = p1_price + p2_price + p3_price\n",
    "print( '\\t\\t\\t${}'.format(total) )\n",
    "\n",
    "# print a line between sections\n",
    "print( '=' * 50)\n",
    "\n",
    "# output thank you message\n",
    "print( '\\n\\t{}\\n'.format(message) )\n",
    "\n",
    "# create a bottom border\n",
    "print('*' * 52)"
   ]
  },
  {
   "cell_type": "code",
   "execution_count": 49,
   "id": "fd4a9fbd-19e1-4a62-a858-6fc595e3e514",
   "metadata": {},
   "outputs": [
    {
     "name": "stdout",
     "output_type": "stream",
     "text": [
      "****************************************************\n",
      "* \t\tCoding Temple, Inc. *\n",
      "* \t\t283 Franklin St. *\n",
      "* \t\tBoston, MA *\n",
      "* ================================================== *\n",
      "\tProduct Name\tProduct Price *\n",
      "* \tBooks\t\t$49.95 *\n",
      "* \tComputer\t$579.99 *\n",
      "* \tMonitor\t\t$124.89 *\n",
      "* ================================================== *\n",
      "* \t\t\tTotal *\n",
      "* \t\t\t$754.83 *\n",
      "* ================================================== *\n",
      "* \n",
      "\tThanks for shopping with us today!\n",
      " *\n",
      "****************************************************\n"
     ]
    }
   ],
   "source": [
    "# create a product and price for three items\n",
    "p1_name, p1_price = 'Books', 49.95\n",
    "p2_name, p2_price = 'Computer', 579.99\n",
    "p3_name, p3_price = 'Monitor', 124.89\n",
    "\n",
    "# create a company name and information\n",
    "company_name = 'coding temple, inc.'\n",
    "company_address = '283 Franklin St.'\n",
    "company_city = 'Boston, MA'\n",
    "\n",
    "# declare ending message\n",
    "message = 'Thanks for shopping with us today!'\n",
    "\n",
    "# create a top border\n",
    "print('*' * 52)\n",
    "\n",
    "# print company information first, using format\n",
    "print( '*','\\t\\t{}'.format( company_name.title() ),'*')\n",
    "print( '*','\\t\\t{}'.format(company_address),'*' )\n",
    "print( '*','\\t\\t{}'.format(company_city),'*' )\n",
    "\n",
    "# print a line between sections\n",
    "print( '*','=' * 50,'*' )\n",
    "\n",
    "# print out header for section of items\n",
    "print('\\tProduct Name\\tProduct Price','*')\n",
    "\n",
    "# create a print statement for each product\n",
    "print( '*','\\t{}\\t\\t${}'.format(p1_name.title(), p1_price),'*' )\n",
    "print( '*','\\t{}\\t${}'.format(p2_name.title(), p2_price),'*' )\n",
    "print( '*','\\t{}\\t\\t${}'.format(p3_name.title(), p3_price),'*' )\n",
    "\n",
    "# print a line between sections\n",
    "print('*','=' * 50,'*')\n",
    "\n",
    "# print out header for section of total\n",
    "print('*','\\t\\t\\tTotal','*')\n",
    "\n",
    "# calculate total price and print out\n",
    "total = p1_price + p2_price + p3_price\n",
    "print( '*','\\t\\t\\t${}'.format(total),'*' )\n",
    "\n",
    "# print a line between sections\n",
    "print( '*','=' * 50,'*')\n",
    "\n",
    "# output thank you message\n",
    "print( '*','\\n\\t{}\\n'.format(message),'*' )\n",
    "\n",
    "# create a bottom border\n",
    "print('*' * 52)"
   ]
  },
  {
   "cell_type": "code",
   "execution_count": 50,
   "id": "7de2cefa-e9a0-47b4-8081-a5d6b80c32af",
   "metadata": {},
   "outputs": [
    {
     "name": "stdout",
     "output_type": "stream",
     "text": [
      "****************************************************\n",
      "* \t\tCoding Temple, Inc. \t\t*\n",
      "* \t\t283 Franklin St. \t\t*\n",
      "* \t\tBoston, MA \t\t*\n",
      "* ================================================== *\n",
      "* \tProduct Name\tProduct Price \t\t*\n",
      "* \tBooks\t\t$49.95 \t\t\t*\n",
      "* \tComputer\t$579.99 \t\t*\n",
      "* \tMonitor\t\t$124.89 \t\t\t*\n",
      "* ================================================== *\n",
      "* \t\t\tTotal \t\t\t*\n",
      "* \t\t\t$754.83 \t\t\t*\n",
      "* ================================================== *\n",
      "* \n",
      "*\tThanks for shopping with us today!\n",
      "* *\n",
      "****************************************************\n"
     ]
    }
   ],
   "source": [
    "# create a product and price for three items\n",
    "p1_name, p1_price = 'Books', 49.95\n",
    "p2_name, p2_price = 'Computer', 579.99\n",
    "p3_name, p3_price = 'Monitor', 124.89\n",
    "\n",
    "# create a company name and information\n",
    "company_name = 'coding temple, inc.'\n",
    "company_address = '283 Franklin St.'\n",
    "company_city = 'Boston, MA'\n",
    "\n",
    "# declare ending message\n",
    "message = 'Thanks for shopping with us today!'\n",
    "\n",
    "# create a top border\n",
    "print('*' * 52)\n",
    "\n",
    "# print company information first, using format\n",
    "print( '*','\\t\\t{}'.format( company_name.title() ),'\\t\\t*')\n",
    "print( '*','\\t\\t{}'.format(company_address),'\\t\\t*' )\n",
    "print( '*','\\t\\t{}'.format(company_city),'\\t\\t*' )\n",
    "\n",
    "# print a line between sections\n",
    "print( '*','=' * 50,'*' )\n",
    "\n",
    "# print out header for section of items\n",
    "print('*','\\tProduct Name\\tProduct Price','\\t\\t*')\n",
    "\n",
    "# create a print statement for each product\n",
    "print( '*','\\t{}\\t\\t${}'.format(p1_name.title(), p1_price),'\\t\\t\\t*' )\n",
    "print( '*','\\t{}\\t${}'.format(p2_name.title(), p2_price),'\\t\\t*' )\n",
    "print( '*','\\t{}\\t\\t${}'.format(p3_name.title(), p3_price),'\\t\\t\\t*' )\n",
    "\n",
    "# print a line between sections\n",
    "print('*','=' * 50,'*')\n",
    "\n",
    "# print out header for section of total\n",
    "print('*','\\t\\t\\tTotal','\\t\\t\\t*')\n",
    "\n",
    "# calculate total price and print out\n",
    "total = p1_price + p2_price + p3_price\n",
    "print( '*','\\t\\t\\t${}'.format(total),'\\t\\t\\t*' )\n",
    "\n",
    "# print a line between sections\n",
    "print( '*','=' * 50,'*')\n",
    "\n",
    "# output thank you message\n",
    "print( '*','\\n*\\t{}\\n*'.format(message),'*' )\n",
    "\n",
    "# create a bottom border\n",
    "print('*' * 52)"
   ]
  },
  {
   "cell_type": "code",
   "execution_count": 51,
   "id": "cf36a64d-c0ab-499d-81ea-d555481be842",
   "metadata": {},
   "outputs": [
    {
     "name": "stdout",
     "output_type": "stream",
     "text": [
      "**************************************************\n",
      "* \t\tCoding Temple, Inc. \t\t*\n",
      "* \t\t283 Franklin St. \t\t*\n",
      "* \t\tBoston, MA \t\t\t*\n",
      "==================================================\n",
      "* \tProduct Name\tProduct Price \t\t*\n",
      "* \tBooks\t\t$49.95 \t\t\t*\n",
      "* \tComputer\t$579.99 \t\t*\n",
      "* \tMonitor\t\t$124.89 \t\t*\n",
      "==================================================\n",
      "* \t\t\tTotal \t\t\t*\n",
      "* \t\t\t$754.83 \t\t*\n",
      "==================================================\n",
      "* \n",
      "*\tThanks for shopping with us today!\n",
      " *\n",
      "**************************************************\n"
     ]
    }
   ],
   "source": [
    "# create a product and price for three items\n",
    "p1_name, p1_price = 'Books', 49.95\n",
    "p2_name, p2_price = 'Computer', 579.99\n",
    "p3_name, p3_price = 'Monitor', 124.89\n",
    "\n",
    "# create a company name and information\n",
    "company_name = 'coding temple, inc.'\n",
    "company_address = '283 Franklin St.'\n",
    "company_city = 'Boston, MA'\n",
    "\n",
    "# declare ending message\n",
    "message = 'Thanks for shopping with us today!'\n",
    "\n",
    "# create a top border\n",
    "print('*' * 50)\n",
    "\n",
    "# print company information first, using format\n",
    "print( '*','\\t\\t{}'.format( company_name.title() ),'\\t\\t*')\n",
    "print( '*','\\t\\t{}'.format(company_address),'\\t\\t*' )\n",
    "print( '*','\\t\\t{}'.format(company_city),'\\t\\t\\t*' )\n",
    "\n",
    "# print a line between sections\n",
    "print( '=' * 50 )\n",
    "\n",
    "# print out header for section of items\n",
    "print('*','\\tProduct Name\\tProduct Price','\\t\\t*')\n",
    "\n",
    "# create a print statement for each product\n",
    "print( '*','\\t{}\\t\\t${}'.format(p1_name.title(), p1_price),'\\t\\t\\t*' )\n",
    "print( '*','\\t{}\\t${}'.format(p2_name.title(), p2_price),'\\t\\t*' )\n",
    "print( '*','\\t{}\\t\\t${}'.format(p3_name.title(), p3_price),'\\t\\t*' )\n",
    "\n",
    "# print a line between sections\n",
    "print('=' * 50)\n",
    "\n",
    "# print out header for section of total\n",
    "print('*','\\t\\t\\tTotal','\\t\\t\\t*')\n",
    "\n",
    "# calculate total price and print out\n",
    "total = p1_price + p2_price + p3_price\n",
    "print( '*','\\t\\t\\t${}'.format(total),'\\t\\t*' )\n",
    "\n",
    "# print a line between sections\n",
    "print( '=' * 50 )\n",
    "\n",
    "# output thank you message\n",
    "print( '*','\\n*\\t{}\\n'.format(message),'*' )\n",
    "\n",
    "# create a bottom border\n",
    "print('*' * 50)"
   ]
  },
  {
   "cell_type": "code",
   "execution_count": 60,
   "id": "da2b0e0f-ca8c-472b-981c-11afc3ae4cf9",
   "metadata": {},
   "outputs": [
    {
     "name": "stdout",
     "output_type": "stream",
     "text": [
      "*************************************************\n",
      "* \t\tCoding Temple, Inc. \t\t*\n",
      "* \t\t283 Franklin St. \t\t*\n",
      "* \t\tBoston, MA \t\t\t*\n",
      "=================================================\n",
      "* \tProduct Name\tProduct Price \t\t*\n",
      "* \tBooks\t\t$49.95 \t\t\t*\n",
      "* \tComputer\t$579.99 \t\t*\n",
      "* \tMonitor\t\t$124.89 \t\t*\n",
      "=================================================\n",
      "* \t\t\tTotal \t\t\t*\n",
      "* \t\t\t$754.83 \t\t*\n",
      "=================================================\n",
      "* \t\t\t\t\t\t*\n",
      "*\tThanks for shopping with us today!\t*\n",
      "*\t\t\t\t\t\t*\n",
      "*************************************************\n"
     ]
    }
   ],
   "source": [
    "# create a product and price for three items\n",
    "p1_name, p1_price = 'Books', 49.95\n",
    "p2_name, p2_price = 'Computer', 579.99\n",
    "p3_name, p3_price = 'Monitor', 124.89\n",
    "\n",
    "# create a company name and information\n",
    "company_name = 'coding temple, inc.'\n",
    "company_address = '283 Franklin St.'\n",
    "company_city = 'Boston, MA'\n",
    "\n",
    "# declare ending message\n",
    "message = 'Thanks for shopping with us today!'\n",
    "\n",
    "# create a top border\n",
    "print('*' * 49)\n",
    "\n",
    "# print company information first, using format\n",
    "print( '*','\\t\\t{}'.format( company_name.title() ),'\\t\\t*')\n",
    "print( '*','\\t\\t{}'.format(company_address),'\\t\\t*' )\n",
    "print( '*','\\t\\t{}'.format(company_city),'\\t\\t\\t*' )\n",
    "\n",
    "# print a line between sections\n",
    "print( '=' * 49 )\n",
    "\n",
    "# print out header for section of items\n",
    "print('*','\\tProduct Name\\tProduct Price','\\t\\t*')\n",
    "\n",
    "# create a print statement for each product\n",
    "print( '*','\\t{}\\t\\t${}'.format(p1_name.title(), p1_price),'\\t\\t\\t*' )\n",
    "print( '*','\\t{}\\t${}'.format(p2_name.title(), p2_price),'\\t\\t*' )\n",
    "print( '*','\\t{}\\t\\t${}'.format(p3_name.title(), p3_price),'\\t\\t*' )\n",
    "\n",
    "# print a line between sections\n",
    "print('=' * 49)\n",
    "\n",
    "# print out header for section of total\n",
    "print('*','\\t\\t\\tTotal','\\t\\t\\t*')\n",
    "\n",
    "# calculate total price and print out\n",
    "total = p1_price + p2_price + p3_price\n",
    "print( '*','\\t\\t\\t${}'.format(total),'\\t\\t*' )\n",
    "\n",
    "# print a line between sections\n",
    "print( '=' * 49 )\n",
    "\n",
    "# output thank you message\n",
    "print( '*','\\t\\t\\t\\t\\t\\t*\\n*\\t{}\\t*\\n*\\t\\t\\t\\t\\t\\t*'.format(message) )\n",
    "\n",
    "# create a bottom border\n",
    "print('*' * 49)"
   ]
  },
  {
   "cell_type": "code",
   "execution_count": 63,
   "id": "642ad7d5-c073-4d17-bc8b-2f25c9d929ad",
   "metadata": {},
   "outputs": [
    {
     "ename": "SyntaxError",
     "evalue": "invalid syntax (3598556927.py, line 2)",
     "output_type": "error",
     "traceback": [
      "\u001b[1;36m  Cell \u001b[1;32mIn[63], line 2\u001b[1;36m\u001b[0m\n\u001b[1;33m    print( word,[4 : 3 : 2 : 1 : 0] )\u001b[0m\n\u001b[1;37m                   ^\u001b[0m\n\u001b[1;31mSyntaxError\u001b[0m\u001b[1;31m:\u001b[0m invalid syntax\n"
     ]
    }
   ],
   "source": [
    "word = 'Hello'\n",
    "print( word,[4 : 3 : 2 : 1 : 0] )"
   ]
  },
  {
   "cell_type": "code",
   "execution_count": 65,
   "id": "acfb66d9-4c42-41f2-b192-b910dd301b94",
   "metadata": {},
   "outputs": [
    {
     "ename": "SyntaxError",
     "evalue": "invalid syntax (2325505365.py, line 2)",
     "output_type": "error",
     "traceback": [
      "\u001b[1;36m  Cell \u001b[1;32mIn[65], line 2\u001b[1;36m\u001b[0m\n\u001b[1;33m    print( word[ 4 : 3 : 2 : 1 : 0 ] )\u001b[0m\n\u001b[1;37m                           ^\u001b[0m\n\u001b[1;31mSyntaxError\u001b[0m\u001b[1;31m:\u001b[0m invalid syntax\n"
     ]
    }
   ],
   "source": [
    "word = 'Hello'\n",
    "print( word[ 4 : 3 : 2 : 1 : 0 ] )"
   ]
  },
  {
   "cell_type": "code",
   "execution_count": 66,
   "id": "63ad1c7f-c2fe-40d2-9356-6c4ae5a23d1e",
   "metadata": {},
   "outputs": [
    {
     "ename": "SyntaxError",
     "evalue": "invalid syntax (3041447432.py, line 2)",
     "output_type": "error",
     "traceback": [
      "\u001b[1;36m  Cell \u001b[1;32mIn[66], line 2\u001b[1;36m\u001b[0m\n\u001b[1;33m    print( word[ 4 : 3 : 2 : 1 ] )\u001b[0m\n\u001b[1;37m                           ^\u001b[0m\n\u001b[1;31mSyntaxError\u001b[0m\u001b[1;31m:\u001b[0m invalid syntax\n"
     ]
    }
   ],
   "source": [
    "word = 'Hello'\n",
    "print( word[ 4 : 3 : 2 : 1 ] )"
   ]
  },
  {
   "cell_type": "code",
   "execution_count": 68,
   "id": "db6d8b17-bd90-4b80-8bdc-735fef1f2300",
   "metadata": {},
   "outputs": [
    {
     "name": "stdout",
     "output_type": "stream",
     "text": [
      "o\n"
     ]
    }
   ],
   "source": [
    "word = 'Hello'\n",
    "print( word[ 4 : 5 : 1 ] )"
   ]
  },
  {
   "cell_type": "code",
   "execution_count": 69,
   "id": "b16b0bf1-887e-4a40-9098-a479a5bdee2d",
   "metadata": {},
   "outputs": [
    {
     "name": "stdout",
     "output_type": "stream",
     "text": [
      "\n"
     ]
    }
   ],
   "source": [
    "word = 'Hello'\n",
    "print( word[ 4 : 4 : 1 ] )"
   ]
  },
  {
   "cell_type": "code",
   "execution_count": 70,
   "id": "d4e998d9-1911-4900-bcdb-b5b9ab0bdfb3",
   "metadata": {},
   "outputs": [
    {
     "name": "stdout",
     "output_type": "stream",
     "text": [
      "\n"
     ]
    }
   ],
   "source": [
    "word = 'Hello'\n",
    "print( word[ 4 : 3 : 1 ] )"
   ]
  },
  {
   "cell_type": "code",
   "execution_count": 71,
   "id": "d151839a-91a3-408d-adab-13bdb89e17b7",
   "metadata": {},
   "outputs": [
    {
     "name": "stdout",
     "output_type": "stream",
     "text": [
      "o\n"
     ]
    }
   ],
   "source": [
    "word = 'Hello'\n",
    "print( word[ 4 : 5 : 2 ] )"
   ]
  },
  {
   "cell_type": "code",
   "execution_count": 72,
   "id": "608fbe54-63fb-4f85-9f25-b566889ac346",
   "metadata": {},
   "outputs": [
    {
     "name": "stdout",
     "output_type": "stream",
     "text": [
      "l\n"
     ]
    }
   ],
   "source": [
    "word = 'Hello'\n",
    "print( word[ 3 : 5 : 2 ] )"
   ]
  },
  {
   "cell_type": "code",
   "execution_count": 73,
   "id": "b5bf1d73-e2c5-4056-b282-98cacf2bddbb",
   "metadata": {},
   "outputs": [
    {
     "name": "stdout",
     "output_type": "stream",
     "text": [
      "\n"
     ]
    }
   ],
   "source": [
    "word = 'Hello'\n",
    "print( word[ 4 : 1 ] )"
   ]
  },
  {
   "cell_type": "code",
   "execution_count": 74,
   "id": "cd6437ab-79e7-4ea8-9f2d-5accd615ddb5",
   "metadata": {},
   "outputs": [
    {
     "name": "stdout",
     "output_type": "stream",
     "text": [
      "o\n"
     ]
    }
   ],
   "source": [
    "word = 'Hello'\n",
    "print( word[ 4 : 5 : 4 ] )"
   ]
  },
  {
   "cell_type": "code",
   "execution_count": 75,
   "id": "7df29c79-5605-446e-9594-f3dc87d9eb3f",
   "metadata": {},
   "outputs": [
    {
     "name": "stdout",
     "output_type": "stream",
     "text": [
      "o\n"
     ]
    }
   ],
   "source": [
    "word = 'Hello'\n",
    "print( word[ -1 : 5 : 4 ] )"
   ]
  },
  {
   "cell_type": "code",
   "execution_count": 76,
   "id": "041b9140-5ef9-4a08-beee-cc40865a45e9",
   "metadata": {},
   "outputs": [
    {
     "name": "stdout",
     "output_type": "stream",
     "text": [
      "o\n"
     ]
    }
   ],
   "source": [
    "word = 'Hello'\n",
    "print( word[ -1 : -5 : -5 ] )"
   ]
  },
  {
   "cell_type": "code",
   "execution_count": 77,
   "id": "63b66b83-b2a8-401f-9fb1-9424a11c580c",
   "metadata": {},
   "outputs": [
    {
     "name": "stdout",
     "output_type": "stream",
     "text": [
      "olle\n"
     ]
    }
   ],
   "source": [
    "word = 'Hello'\n",
    "print( word[ -1 : -5 : -1 ] )"
   ]
  },
  {
   "cell_type": "code",
   "execution_count": 78,
   "id": "e7154eb2-3b0c-4368-98c4-d1d39204a0e2",
   "metadata": {},
   "outputs": [
    {
     "ename": "ValueError",
     "evalue": "slice step cannot be zero",
     "output_type": "error",
     "traceback": [
      "\u001b[1;31m---------------------------------------------------------------------------\u001b[0m",
      "\u001b[1;31mValueError\u001b[0m                                Traceback (most recent call last)",
      "Cell \u001b[1;32mIn[78], line 2\u001b[0m\n\u001b[0;32m      1\u001b[0m word \u001b[38;5;241m=\u001b[39m \u001b[38;5;124m'\u001b[39m\u001b[38;5;124mHello\u001b[39m\u001b[38;5;124m'\u001b[39m\n\u001b[1;32m----> 2\u001b[0m \u001b[38;5;28mprint\u001b[39m( word[ \u001b[38;5;241m-\u001b[39m\u001b[38;5;241m1\u001b[39m : \u001b[38;5;241m-\u001b[39m\u001b[38;5;241m5\u001b[39m : \u001b[38;5;241m0\u001b[39m ] )\n",
      "\u001b[1;31mValueError\u001b[0m: slice step cannot be zero"
     ]
    }
   ],
   "source": [
    "word = 'Hello'\n",
    "print( word[ -1 : -5 : 0 ] )"
   ]
  },
  {
   "cell_type": "code",
   "execution_count": 79,
   "id": "9558b378-aa33-4666-b933-883ffaec37f8",
   "metadata": {},
   "outputs": [
    {
     "name": "stdout",
     "output_type": "stream",
     "text": [
      "lle\n"
     ]
    }
   ],
   "source": [
    "word = 'Hello'\n",
    "print( word[ -2 : -5 : -1 ] )"
   ]
  },
  {
   "cell_type": "code",
   "execution_count": 80,
   "id": "28d577ad-63ed-4ce0-a8d2-f5d98d7c1ac1",
   "metadata": {},
   "outputs": [
    {
     "name": "stdout",
     "output_type": "stream",
     "text": [
      "olleH\n"
     ]
    }
   ],
   "source": [
    "word = ' Hello'\n",
    "print( word[ -1 : -6 : -1 ] )"
   ]
  },
  {
   "cell_type": "code",
   "execution_count": 81,
   "id": "aa215ecd-9785-4581-ad82-85a28cb310bf",
   "metadata": {},
   "outputs": [
    {
     "name": "stdout",
     "output_type": "stream",
     "text": [
      "olleH\n"
     ]
    }
   ],
   "source": [
    "word = 'Hello' [::-1]\n",
    "print(word)"
   ]
  },
  {
   "cell_type": "code",
   "execution_count": 82,
   "id": "258f6e91-517c-4d23-a7a9-f83d4ee537d6",
   "metadata": {},
   "outputs": [
    {
     "name": "stdout",
     "output_type": "stream",
     "text": [
      " H\n"
     ]
    }
   ],
   "source": [
    "word = ' Hello'\n",
    "print( word[ 0 : 2 ] )"
   ]
  },
  {
   "cell_type": "code",
   "execution_count": 83,
   "id": "c534a398-8491-4e4f-8224-31260ffa23db",
   "metadata": {},
   "outputs": [
    {
     "name": "stdout",
     "output_type": "stream",
     "text": [
      " He\n"
     ]
    }
   ],
   "source": [
    "word = ' Hello'\n",
    "print( word[ 0 : 3 ] )"
   ]
  },
  {
   "cell_type": "code",
   "execution_count": 84,
   "id": "c5086f8b-43e4-46cb-b0f4-42aacd9f42ef",
   "metadata": {},
   "outputs": [
    {
     "name": "stdout",
     "output_type": "stream",
     "text": [
      "Hel\n"
     ]
    }
   ],
   "source": [
    "word = 'Hello'\n",
    "print( word[ 0 : 3 ] )"
   ]
  },
  {
   "cell_type": "code",
   "execution_count": 85,
   "id": "b611e204-4060-4fb1-90fd-b96b80dea443",
   "metadata": {},
   "outputs": [
    {
     "name": "stdout",
     "output_type": "stream",
     "text": [
      "Hello\n"
     ]
    }
   ],
   "source": [
    "word = 'Hello'\n",
    "print( word[ 0 :] )"
   ]
  },
  {
   "cell_type": "code",
   "execution_count": 86,
   "id": "c5a708b1-a0be-46fb-bc5c-4b863b01ea94",
   "metadata": {},
   "outputs": [
    {
     "name": "stdout",
     "output_type": "stream",
     "text": [
      "Hello\n"
     ]
    }
   ],
   "source": [
    "word = 'Hello'\n",
    "print( word[:5] )"
   ]
  },
  {
   "cell_type": "code",
   "execution_count": 87,
   "id": "f390089c-360f-4518-8640-51baa7633dfe",
   "metadata": {},
   "outputs": [
    {
     "name": "stdout",
     "output_type": "stream",
     "text": [
      "Hell\n"
     ]
    }
   ],
   "source": [
    "word = 'Hello'\n",
    "print( word[:4] )"
   ]
  },
  {
   "cell_type": "code",
   "execution_count": 91,
   "id": "c9aa10cf-a4e4-4368-9944-840fda05be92",
   "metadata": {},
   "outputs": [
    {
     "name": "stdout",
     "output_type": "stream",
     "text": [
      "H\n"
     ]
    }
   ],
   "source": [
    "word = 'Hello'\n",
    "print( word[0:4:4] )"
   ]
  },
  {
   "cell_type": "code",
   "execution_count": null,
   "id": "a185b9fa-024e-43ef-bffa-4f6606c92a0e",
   "metadata": {},
   "outputs": [],
   "source": []
  }
 ],
 "metadata": {
  "kernelspec": {
   "display_name": "Python 3 (ipykernel)",
   "language": "python",
   "name": "python3"
  },
  "language_info": {
   "codemirror_mode": {
    "name": "ipython",
    "version": 3
   },
   "file_extension": ".py",
   "mimetype": "text/x-python",
   "name": "python",
   "nbconvert_exporter": "python",
   "pygments_lexer": "ipython3",
   "version": "3.12.7"
  }
 },
 "nbformat": 4,
 "nbformat_minor": 5
}
