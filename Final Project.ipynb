{
 "cells": [
  {
   "cell_type": "markdown",
   "id": "abab5448",
   "metadata": {},
   "source": [
    "# Final Project\n",
    "### Database of protein localization"
   ]
  },
  {
   "cell_type": "code",
   "execution_count": null,
   "id": "c6b72df0",
   "metadata": {},
   "outputs": [],
   "source": [
    "protein = [\"MDM2\", 'VHL', 'CRBN', 'KEAP1', 'KLHDL2', 'DCAF1', 'DCAF15', 'DCAF11', 'RNF114', 'ZNRF1', 'TRIM63', 'TOPORS', 'SMURF1', 'MEKK1', 'HECW2', 'CHIP', 'APC/C']\n",
    "localization = [\"nucleus\", \"cytoplasm\", \"endoplasmic reticulum\", \"primary cilium\"]\n",
    "data = {\n",
    "    \"MDM2\" : \"nucleus\"\n",
    "    \"VHL\" : \"\"\n",
    "}\n",
    "    # source: https://www.cellsignal.com/learn-and-support/reference-tables/ubiquitin-ligase-table\n",
    "# source: https://esbl.nhlbi.nih.gov/Databases/KSBP2/Targets/Lists/E3-ligases/\n",
    "\n",
    "class proteinList():\n",
    "    def __init__(self, localization):\n",
    "        self.localization = 'cytoplasm'\n",
    "\n",
    "        for x in self.localization:\n"
   ]
  }
 ],
 "metadata": {
  "kernelspec": {
   "display_name": "bootcamp",
   "language": "python",
   "name": "python3"
  },
  "language_info": {
   "codemirror_mode": {
    "name": "ipython",
    "version": 3
   },
   "file_extension": ".py",
   "mimetype": "text/x-python",
   "name": "python",
   "nbconvert_exporter": "python",
   "pygments_lexer": "ipython3",
   "version": "3.10.16"
  }
 },
 "nbformat": 4,
 "nbformat_minor": 5
}
