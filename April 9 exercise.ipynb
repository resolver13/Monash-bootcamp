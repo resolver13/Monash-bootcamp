{
 "cells": [
  {
   "cell_type": "markdown",
   "id": "53baf00e",
   "metadata": {},
   "source": [
    "# April 9, 2025\n"
   ]
  },
  {
   "cell_type": "markdown",
   "id": "7af9eafa",
   "metadata": {},
   "source": [
    "# Swapping variables"
   ]
  },
  {
   "cell_type": "code",
   "execution_count": 10,
   "id": "851b3d76",
   "metadata": {},
   "outputs": [
    {
     "name": "stdout",
     "output_type": "stream",
     "text": [
      "x = 10\n",
      "y = 20\n",
      "(20, 10)\n"
     ]
    }
   ],
   "source": [
    "x, y = 10, 20\n",
    "# x, y = y, x         # x has become y, and y has become x. The order matters.\n",
    "print( 'x =', x)      # the new x is y\n",
    "print( 'y =', y)      # the new y is x\n",
    "t = y, x\n",
    "print(t)              # using a temporary variable"
   ]
  },
  {
   "cell_type": "markdown",
   "id": "c8d8c3a7",
   "metadata": {},
   "source": [
    "# Updating variables"
   ]
  },
  {
   "cell_type": "code",
   "execution_count": 13,
   "id": "b020bb3a",
   "metadata": {},
   "outputs": [
    {
     "name": "stdout",
     "output_type": "stream",
     "text": [
      "32\n",
      "37\n"
     ]
    }
   ],
   "source": [
    "current_age = 32\n",
    "print(\"{}\".format(current_age))\n",
    "new_age = current_age + 5\n",
    "print(\"{}\".format(new_age))"
   ]
  },
  {
   "cell_type": "markdown",
   "id": "102d9368",
   "metadata": {},
   "source": [
    "# Basic variable assignment and output"
   ]
  },
  {
   "cell_type": "code",
   "execution_count": 16,
   "id": "b4eae0b1",
   "metadata": {},
   "outputs": [
    {
     "name": "stdout",
     "output_type": "stream",
     "text": [
      "Hello, my name is Kevin and I am 32 years old.\n"
     ]
    }
   ],
   "source": [
    "name = \"Kevin\"\n",
    "age = 32\n",
    "print('Hello, my name is {} and I am {} years old.'.format(name, age))"
   ]
  },
  {
   "cell_type": "markdown",
   "id": "c707b541",
   "metadata": {},
   "source": [
    "# Variable types"
   ]
  },
  {
   "cell_type": "code",
   "execution_count": 6,
   "id": "2420af43",
   "metadata": {},
   "outputs": [
    {
     "name": "stdout",
     "output_type": "stream",
     "text": [
      "<class 'str'>\n",
      "<class 'int'>\n",
      "<class 'float'>\n",
      "<class 'bool'>\n",
      "What up?? I was born in 2002, and I am 177.0 cm tall. Also, it's True that Kevin is a student.\n"
     ]
    }
   ],
   "source": [
    "greeting = \"What up?\"\n",
    "year_born = 2002\n",
    "height_in_meters = 177.0\n",
    "is_student = True\n",
    "print( type(greeting))\n",
    "print( type(year_born))\n",
    "print( type(height_in_meters))\n",
    "print( type(is_student))\n",
    "print(\"{}? I was born in {}, and I am {} cm tall. Also, it's {} that Kevin is a student.\".format(greeting, year_born, height_in_meters, is_student))"
   ]
  },
  {
   "cell_type": "markdown",
   "id": "2a4e3569",
   "metadata": {},
   "source": [
    "# Variable naming and arithmatic operation"
   ]
  },
  {
   "cell_type": "code",
   "execution_count": 2,
   "id": "22becc96",
   "metadata": {},
   "outputs": [
    {
     "name": "stdout",
     "output_type": "stream",
     "text": [
      "The total cost for 50 apples is 25.0 dollars.\n"
     ]
    }
   ],
   "source": [
    "price_apple = 0.50\n",
    "num_apples = 50\n",
    "total_cost = price_apple * num_apples\n",
    "print(\"The total cost for {} apples is {} dollars.\".format(num_apples, total_cost))\n"
   ]
  }
 ],
 "metadata": {
  "kernelspec": {
   "display_name": "bootcamp",
   "language": "python",
   "name": "python3"
  },
  "language_info": {
   "codemirror_mode": {
    "name": "ipython",
    "version": 3
   },
   "file_extension": ".py",
   "mimetype": "text/x-python",
   "name": "python",
   "nbconvert_exporter": "python",
   "pygments_lexer": "ipython3",
   "version": "3.10.16"
  }
 },
 "nbformat": 4,
 "nbformat_minor": 5
}
