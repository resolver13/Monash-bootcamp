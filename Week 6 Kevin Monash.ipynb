{
 "cells": [
  {
   "cell_type": "markdown",
   "id": "2738d8d8",
   "metadata": {},
   "source": [
    "# Data Collections and Files"
   ]
  },
  {
   "cell_type": "markdown",
   "id": "ab218d4c",
   "metadata": {},
   "source": [
    "### dictionaries, sets, tuples, and frozensets are covered "
   ]
  },
  {
   "cell_type": "code",
   "execution_count": null,
   "id": "92861e83",
   "metadata": {},
   "outputs": [],
   "source": [
    "# Dictionary = collection of unordered data, stored in key-value pairs\n",
    "# unordered = accessed through a key\n",
    "# key = word and value = definition\n",
    "\n",
    "# In short, dictionaries are good for working with large/mapped data, CSV files, APIs, sending or receiving data, and etc."
   ]
  },
  {
   "cell_type": "code",
   "execution_count": 1,
   "id": "3458dd5f",
   "metadata": {},
   "outputs": [
    {
     "name": "stdout",
     "output_type": "stream",
     "text": [
      "{'name': 'Morty', 'age': 26}\n",
      "John Smith\n"
     ]
    }
   ],
   "source": [
    "# how to declare a dictionary variable\n",
    "empty = {}     # empty dictionary\n",
    "person = { \"name\": \"John Smith\" } # created a dictionary with one key/value pair\n",
    "customer = {\n",
    "    \"name\": \"Morty\",\n",
    "    \"age\": 26\n",
    "}                                 # created a dictionary with 2 key/value pairs ('name' & 'age' as keys and 'Morty' and '26' as values)\n",
    "print(customer)                   # all key/value pairs need to be separated by a comma\n",
    "print(person[ 'name' ])\n",
    "# dict() = empty dictionary"
   ]
  },
  {
   "cell_type": "code",
   "execution_count": 2,
   "id": "924eea90",
   "metadata": {},
   "outputs": [
    {
     "name": "stdout",
     "output_type": "stream",
     "text": [
      "John\n"
     ]
    }
   ],
   "source": [
    "# how to access dictionary information through keys\n",
    "person = { \"name\": \"John\" }\n",
    "print( person[ 'name' ] )     # access information through the key"
   ]
  },
  {
   "cell_type": "code",
   "execution_count": 3,
   "id": "68e75f96",
   "metadata": {},
   "outputs": [
    {
     "name": "stdout",
     "output_type": "stream",
     "text": [
      "John\n",
      "Age is not available.\n"
     ]
    }
   ],
   "source": [
    "# using the get method to access dictionary information\n",
    "person = { \"name\": 'John' }\n",
    "print( person.get('name') )            # retrieves value of name key as before\n",
    "print( person.get(\"age\", \"Age is not available.\") )   # get is a secure way to retrieve info"
   ]
  },
  {
   "cell_type": "code",
   "execution_count": 4,
   "id": "560aeda0",
   "metadata": {},
   "outputs": [
    {
     "name": "stdout",
     "output_type": "stream",
     "text": [
      "baseball\n"
     ]
    }
   ],
   "source": [
    "# storing a list within a dictionary and accessing it\n",
    "data = { \"sports\": ['baseball', 'football', 'hockey', 'soccer'] }\n",
    "print( data['sports'][0] )   # first access the key, then the index (should give baseball)"
   ]
  },
  {
   "cell_type": "code",
   "execution_count": 9,
   "id": "c07f18fd",
   "metadata": {},
   "outputs": [
    {
     "ename": "NameError",
     "evalue": "name 'sports' is not defined",
     "output_type": "error",
     "traceback": [
      "\u001b[1;31m---------------------------------------------------------------------------\u001b[0m",
      "\u001b[1;31mNameError\u001b[0m                                 Traceback (most recent call last)",
      "Cell \u001b[1;32mIn[9], line 5\u001b[0m\n\u001b[0;32m      2\u001b[0m sports: {\u001b[38;5;124m'\u001b[39m\u001b[38;5;124mbaseball\u001b[39m\u001b[38;5;124m'\u001b[39m, \u001b[38;5;124m'\u001b[39m\u001b[38;5;124mfootball\u001b[39m\u001b[38;5;124m'\u001b[39m, \u001b[38;5;124m'\u001b[39m\u001b[38;5;124mhockey\u001b[39m\u001b[38;5;124m'\u001b[39m, \u001b[38;5;124m'\u001b[39m\u001b[38;5;124msoccer\u001b[39m\u001b[38;5;124m'\u001b[39m}\n\u001b[0;32m      3\u001b[0m \u001b[38;5;66;03m#sports_dict = dict(sports)         # will produce error b/c there is no key for the list\u001b[39;00m\n\u001b[0;32m      4\u001b[0m \u001b[38;5;66;03m# proper storage => sports_dict = dict( { \"sports\" : sports } )\u001b[39;00m\n\u001b[1;32m----> 5\u001b[0m sports_dict \u001b[38;5;241m=\u001b[39m \u001b[38;5;28mdict\u001b[39m( {\u001b[38;5;124m\"\u001b[39m\u001b[38;5;124msports\u001b[39m\u001b[38;5;124m\"\u001b[39m:\u001b[43msports\u001b[49m})\n",
      "\u001b[1;31mNameError\u001b[0m: name 'sports' is not defined"
     ]
    }
   ],
   "source": [
    "# improperly storing a list within a dictionary\n",
    "sports: {'baseball', 'football', 'hockey', 'soccer'}\n",
    "#sports_dict = dict(sports)         # will produce error b/c there is no key for the list\n",
    "# proper storage => sports_dict = dict( { \"sports\" : sports } )\n",
    "sports_dict = dict( {\"sports\":sports})"
   ]
  },
  {
   "cell_type": "code",
   "execution_count": 3,
   "id": "4d3fc813",
   "metadata": {},
   "outputs": [
    {
     "name": "stdout",
     "output_type": "stream",
     "text": [
      "{'name': 'Kirsten'}\n",
      "Kirsten\n"
     ]
    }
   ],
   "source": [
    "# storing a dictionary within a list and accessing it\n",
    "data = [\"John\", \"Dennis\", {\"name\": \"Kirsten\"}]\n",
    "print(data[2])        # the dictionary is in index 2\n",
    "print(data[2]['name'])   # first access the index and then the key\n",
    "# take caution when using numbers for keys"
   ]
  },
  {
   "cell_type": "code",
   "execution_count": 10,
   "id": "38b3dc8d",
   "metadata": {},
   "outputs": [
    {
     "name": "stdout",
     "output_type": "stream",
     "text": [
      "{'2018': 108, '2017': 93}\n",
      "108\n"
     ]
    }
   ],
   "source": [
    "# storing a dictionary within a dictionary and accessing it\n",
    "data = {\n",
    "    'team': \"Boston Red Sox\",\n",
    "    'wins': { \"2018\": 108, \"2017\": 93}\n",
    "}\n",
    "print(data['wins'])            # will output the dictionary within the wins key\n",
    "print(data['wins']['2018'])    # first access the key and then the next key"
   ]
  },
  {
   "cell_type": "markdown",
   "id": "409e44e1",
   "metadata": {},
   "source": [
    "### Exercise 1"
   ]
  },
  {
   "cell_type": "code",
   "execution_count": 11,
   "id": "ff5e3b83",
   "metadata": {},
   "outputs": [
    {
     "name": "stdout",
     "output_type": "stream",
     "text": [
      "{'name': 'Kevin', 'age': 23}\n"
     ]
    }
   ],
   "source": [
    "name = input(\"Please enter your name:\")\n",
    "age = int(input(\"Please enter your age: \"))\n",
    "\n",
    "info = { \"name\": name, \"age\": age}\n",
    "print(info)"
   ]
  },
  {
   "cell_type": "code",
   "execution_count": 1,
   "id": "071d40d8",
   "metadata": {},
   "outputs": [
    {
     "name": "stdout",
     "output_type": "stream",
     "text": [
      "cheese\n",
      "sausage\n",
      "peppers\n"
     ]
    }
   ],
   "source": [
    "pizza = {\n",
    "    'ingredients': ['cheese', 'sausage', 'peppers']\n",
    "}\n",
    "for toppings in pizza['ingredients']:\n",
    "    print(toppings)    # only having pizza will output a word 'ingredients', a key in the dictionary"
   ]
  },
  {
   "cell_type": "markdown",
   "id": "21205d7e",
   "metadata": {},
   "source": [
    "## Working with Dictionaries"
   ]
  },
  {
   "cell_type": "code",
   "execution_count": 13,
   "id": "26642f7a",
   "metadata": {},
   "outputs": [
    {
     "name": "stdout",
     "output_type": "stream",
     "text": [
      "Year: 2018 \t Color: Blue\n"
     ]
    }
   ],
   "source": [
    "# adding new key/value pairs to a dictionary\n",
    "car = { 'year': 2018 }\n",
    "car[\"color\"] = \"Blue\"\n",
    "print( \"Year: {} \\t Color: {}\".format( car['year'], car['color']))"
   ]
  },
  {
   "cell_type": "code",
   "execution_count": null,
   "id": "ccf1097b",
   "metadata": {},
   "outputs": [],
   "source": [
    "# updating a value for a key/value pair that already exists\n",
    "car = {'year': 2018, 'color': \"Blue\"}\n",
    "car['color'] = 'Red'\n",
    "print('Year: {} \\t Color: {}'.format(car['year'], car['color']))"
   ]
  },
  {
   "cell_type": "code",
   "execution_count": null,
   "id": "a643d572",
   "metadata": {},
   "outputs": [],
   "source": [
    "# deleting a key/value pair from a dictionary\n",
    "car = {'year': 2018}\n",
    "try:\n",
    "    del car['year']\n",
    "    print(car)\n",
    "except:\n",
    "    print(\"That car does not exist\")  \n",
    "# when deleting key-value pairs, use a try/except to avoid crashing due to trying to remove non-existent pairs"
   ]
  },
  {
   "cell_type": "code",
   "execution_count": null,
   "id": "686bc830",
   "metadata": {},
   "outputs": [],
   "source": [
    "# looping over a dictionary via the .keys() method\n",
    "person = { 'name': 'John', \"age\": 26}\n",
    "for key in person.keys():\n",
    "    print(key)\n",
    "    print( person[key] )  # will output the value (all of them) at the current key"
   ]
  },
  {
   "cell_type": "code",
   "execution_count": null,
   "id": "0df33f33",
   "metadata": {},
   "outputs": [],
   "source": [
    "# looping over a dictionary via the .values() method\n",
    "person = {'name': 'John', 'age': 26}\n",
    "for value in person.values():\n",
    "    print(value)        # only value of the key/value pairs are displayed"
   ]
  },
  {
   "cell_type": "code",
   "execution_count": null,
   "id": "8eca57f1",
   "metadata": {},
   "outputs": [],
   "source": [
    "# looping over a dictionary via the key/value pair using .items() method\n",
    "person = {'name': \"John\", \"age\": 26}\n",
    "for key, value in person.items():\n",
    "    print(\"{}: {}\".format(key, value))  # in key/value pairs, not key, value, key, value list"
   ]
  },
  {
   "cell_type": "code",
   "execution_count": null,
   "id": "c2105cc5",
   "metadata": {},
   "outputs": [],
   "source": [
    "empty = {}\n",
    "name = input(\"What's your name?\")\n",
    "address = input(\"What's your address?\")\n",
    "number = input(\"What's your number?\")\n",
    "\n",
    "info = {'name': name, \"address\": address, \"number\": number}\n",
    "for key, value in info.items():\n",
    "    print(\"{}: {}\".format(key, value))"
   ]
  },
  {
   "cell_type": "code",
   "execution_count": null,
   "id": "3b7d988c",
   "metadata": {},
   "outputs": [],
   "source": [
    "person = {'name': 'John Smith'}\n",
    "print(person['name'])"
   ]
  },
  {
   "cell_type": "markdown",
   "id": "7bef0ef8",
   "metadata": {},
   "source": [
    "## Tuple, sets, frozensets"
   ]
  },
  {
   "cell_type": "markdown",
   "id": "5574a552",
   "metadata": {},
   "source": [
    "### tuple = list, but immutable\n",
    "### immutable = can't be altered once declared\n",
    "### tuples are good for storing info that you don't want to change"
   ]
  },
  {
   "cell_type": "code",
   "execution_count": null,
   "id": "8eb5605e",
   "metadata": {},
   "outputs": [],
   "source": [
    "# declare a tuple\n",
    "t1 = ('hello', 2, 'hello')  # with parenthesis\n",
    "t2 = True, 1                # without parenthesis\n",
    "print( type(t1), type(t2))  # both are tuples\n",
    "t1[0] = 1   # will crash, tuples are immutable once declared. The whole tuple needs be re-declared"
   ]
  },
  {
   "cell_type": "markdown",
   "id": "1b08b160",
   "metadata": {},
   "source": [
    "### sets = collection of info like a list, but can only contain unique values. Also unordered collection.\n",
    "### sets are accessed by values, not by index as a result of being unordered"
   ]
  },
  {
   "cell_type": "code",
   "execution_count": null,
   "id": "086d0af2",
   "metadata": {},
   "outputs": [],
   "source": [
    "# declaring a set using set([]) or {}\n",
    "s1 = set( [1, 2, 3, 1])        # uses the set keyword and square brackets\n",
    "s2 = {4, 4, 5}                 # uses curly brackets, like dictionary\n",
    "print(type(s1), type(s2))\n",
    "s1.add(5)       # using the add method to add new items to a set\n",
    "s1.remove(1)    # using the remove method to get rid of the value 1\n",
    "print(s1)       # notice when printed it removed the second \"1\" at the end and not the other due to unique value\n",
    "print(s2)"
   ]
  },
  {
   "cell_type": "markdown",
   "id": "20644e64",
   "metadata": {},
   "source": [
    "### Frozenset = combination of a set and a tuple\n",
    "### This is perfect for sensitive information such as bank account number"
   ]
  },
  {
   "cell_type": "code",
   "execution_count": null,
   "id": "8dc7d66c",
   "metadata": {},
   "outputs": [],
   "source": [
    "# declare a frozenset using frozenset([])\n",
    "fset = frozenset( [1, 2, 3, 4])\n",
    "print( type(fset))"
   ]
  },
  {
   "cell_type": "markdown",
   "id": "781a0188",
   "metadata": {},
   "source": [
    "## Exercise 3"
   ]
  },
  {
   "cell_type": "code",
   "execution_count": null,
   "id": "d66a2566",
   "metadata": {},
   "outputs": [],
   "source": [
    "accounts = []\n",
    "done = False\n",
    "\n",
    "while not done:\n",
    "    ans = input(\"Enter your bank account number or quit\").lower()\n",
    "\n",
    "    if ans == 'quit':\n",
    "        done = True\n",
    "\n",
    "        accounts = frozenset(accounts)\n",
    "        for acc in accounts:\n",
    "            print(\"Account number: {}\".format(acc))\n",
    "\n",
    "    else:\n",
    "        accounts.append(ans)"
   ]
  },
  {
   "cell_type": "code",
   "execution_count": null,
   "id": "4d302471",
   "metadata": {},
   "outputs": [],
   "source": [
    "nums = [3, 4, 3, 7, 10]\n",
    "print( type(nums) )\n",
    "\n",
    "s1 = set(nums)\n",
    "print(s1)"
   ]
  },
  {
   "cell_type": "markdown",
   "id": "f39fedc0",
   "metadata": {},
   "source": [
    "## Reading and Writing Files"
   ]
  },
  {
   "cell_type": "code",
   "execution_count": null,
   "id": "42fe352b",
   "metadata": {},
   "outputs": [],
   "source": [
    "# opening/creating and writing to a text file\n",
    "f = open('test.txt', 'w+')   # open file in writing and reading mode\n",
    "f.write('this is a test')\n",
    "f.close()\n",
    "# reading from a text file\n",
    "f = open('test.txt', \"r\")\n",
    "data = f.read()\n",
    "f.close()\n",
    "print(data)   # When you open a file, you must always close it."
   ]
  },
  {
   "cell_type": "code",
   "execution_count": null,
   "id": "a9ad8d25",
   "metadata": {},
   "outputs": [],
   "source": [
    "# opening/creating and writing to a csv file\n",
    "import csv\n",
    "with open(\"test.csv\", mode=\"w\", newline=\"\") as f:\n",
    "    writer = csv.writer(f, delimiter=\",\")\n",
    "    writer.writerow( [\"Name\", \"City\"] )\n",
    "    writer.writerow([\"Craig Lou\", \"Taiwan\"])   # write mode always overwrite any data that was in the file previously."
   ]
  },
  {
   "cell_type": "code",
   "execution_count": null,
   "id": "b3e5781b",
   "metadata": {},
   "outputs": [],
   "source": [
    "# reading from csv files\n",
    "with open(\"test.csv\", mode='r') as f:\n",
    "    reader = csv.reader(f, delimiter=\",\")\n",
    "    for row in reader:\n",
    "        print(row)"
   ]
  },
  {
   "cell_type": "markdown",
   "id": "59cd989b",
   "metadata": {},
   "source": [
    "##### w = opens file for writing. If file doesn't exist, it creates one.\n",
    "##### x = creates a new file. If file exists, the operation fails.\n",
    "##### a = open in append mode. If file doesn't exist, it creates one.\n",
    "##### b = open in binary mode.\n",
    "##### + = will open a file for reading and writing. Good for updating."
   ]
  },
  {
   "cell_type": "code",
   "execution_count": null,
   "id": "d76496d9",
   "metadata": {},
   "outputs": [],
   "source": [
    "# Exercise 4.1\n",
    "num = input(\"What is your favorite number?\")\n",
    "f = open('numbers.txt', 'w+')\n",
    "f.write('favorite number is {}'.format(num))\n",
    "f.close()"
   ]
  },
  {
   "cell_type": "code",
   "execution_count": 2,
   "id": "a6a3c362",
   "metadata": {},
   "outputs": [],
   "source": [
    "# Exercise 4.2\n",
    "data = {\n",
    "    'name': ['Dave', 'Dennis', 'Peter', 'Jess'],\n",
    "    'language': ['Python', 'C', 'Java', 'Python']\n",
    "}\n",
    "\n",
    "import csv\n",
    "with open('data.csv', mode='w', newline=\"\") as f:\n",
    "    writer = csv.writer(f, delimiter=',')\n",
    "    writer.writerow(data.keys())\n",
    "\n",
    "    for i in range(len(data['name'])):\n",
    "        writer.writerow([data['name'][i], data['language'][i]])"
   ]
  },
  {
   "cell_type": "markdown",
   "id": "37160ac2",
   "metadata": {},
   "source": [
    "### Creating a user database with CSV files"
   ]
  },
  {
   "cell_type": "markdown",
   "id": "431ce48f",
   "metadata": {},
   "source": [
    "#### Check to see if user is logged in\n",
    "    #### a) If logged in, ask if they would like to log out/quit.\n",
    "    ####     i. Either quit or log out and restart\n",
    "    #### b) Else, ask if they would like to log in/register/quit.\n",
    "    ####     i. If log in, ask user for email/password\n",
    "    ####        1. If correct, log user in and restart.\n",
    "    ####        2. Else, display error and restart.\n",
    "    ####     ii. If register, ask for email/password/password2\n",
    "    ####        1. If password match, save user and restart.\n",
    "    ####        2. Else, display error and restart.\n",
    "    ####     iii. If quit, say thank you and exit program. "
   ]
  },
  {
   "cell_type": "code",
   "execution_count": 15,
   "id": "cf1184a5",
   "metadata": {},
   "outputs": [
    {
     "ename": "KeyboardInterrupt",
     "evalue": "Interrupted by user",
     "output_type": "error",
     "traceback": [
      "\u001b[1;31m---------------------------------------------------------------------------\u001b[0m",
      "\u001b[1;31mKeyboardInterrupt\u001b[0m                         Traceback (most recent call last)",
      "Cell \u001b[1;32mIn[15], line 53\u001b[0m\n\u001b[0;32m     50\u001b[0m     \u001b[38;5;28;01melse\u001b[39;00m:\n\u001b[0;32m     51\u001b[0m         \u001b[38;5;28mprint\u001b[39m(\u001b[38;5;124m\"\u001b[39m\u001b[38;5;124m1. Login \u001b[39m\u001b[38;5;130;01m\\n\u001b[39;00m\u001b[38;5;124m2. Register \u001b[39m\u001b[38;5;130;01m\\n\u001b[39;00m\u001b[38;5;124m3. Quit\u001b[39m\u001b[38;5;124m\"\u001b[39m)\n\u001b[1;32m---> 53\u001b[0m     choice \u001b[38;5;241m=\u001b[39m \u001b[38;5;28;43minput\u001b[39;49m\u001b[43m(\u001b[49m\u001b[38;5;124;43m\"\u001b[39;49m\u001b[38;5;124;43mWhat would you like to do?\u001b[39;49m\u001b[38;5;124;43m\"\u001b[39;49m\u001b[43m)\u001b[49m\u001b[38;5;241m.\u001b[39mlower()\n\u001b[0;32m     55\u001b[0m clear_output()\n\u001b[0;32m     57\u001b[0m \u001b[38;5;28;01mif\u001b[39;00m choice \u001b[38;5;241m==\u001b[39m \u001b[38;5;124m'\u001b[39m\u001b[38;5;124mregister\u001b[39m\u001b[38;5;124m'\u001b[39m \u001b[38;5;129;01mand\u001b[39;00m logged_in \u001b[38;5;241m==\u001b[39m \u001b[38;5;28;01mFalse\u001b[39;00m:\n",
      "File \u001b[1;32mc:\\Users\\jkim0105\\AppData\\Local\\anaconda3\\envs\\bootcamp\\lib\\site-packages\\ipykernel\\kernelbase.py:1282\u001b[0m, in \u001b[0;36mKernel.raw_input\u001b[1;34m(self, prompt)\u001b[0m\n\u001b[0;32m   1280\u001b[0m     msg \u001b[38;5;241m=\u001b[39m \u001b[38;5;124m\"\u001b[39m\u001b[38;5;124mraw_input was called, but this frontend does not support input requests.\u001b[39m\u001b[38;5;124m\"\u001b[39m\n\u001b[0;32m   1281\u001b[0m     \u001b[38;5;28;01mraise\u001b[39;00m StdinNotImplementedError(msg)\n\u001b[1;32m-> 1282\u001b[0m \u001b[38;5;28;01mreturn\u001b[39;00m \u001b[38;5;28;43mself\u001b[39;49m\u001b[38;5;241;43m.\u001b[39;49m\u001b[43m_input_request\u001b[49m\u001b[43m(\u001b[49m\n\u001b[0;32m   1283\u001b[0m \u001b[43m    \u001b[49m\u001b[38;5;28;43mstr\u001b[39;49m\u001b[43m(\u001b[49m\u001b[43mprompt\u001b[49m\u001b[43m)\u001b[49m\u001b[43m,\u001b[49m\n\u001b[0;32m   1284\u001b[0m \u001b[43m    \u001b[49m\u001b[38;5;28;43mself\u001b[39;49m\u001b[38;5;241;43m.\u001b[39;49m\u001b[43m_parent_ident\u001b[49m\u001b[43m[\u001b[49m\u001b[38;5;124;43m\"\u001b[39;49m\u001b[38;5;124;43mshell\u001b[39;49m\u001b[38;5;124;43m\"\u001b[39;49m\u001b[43m]\u001b[49m\u001b[43m,\u001b[49m\n\u001b[0;32m   1285\u001b[0m \u001b[43m    \u001b[49m\u001b[38;5;28;43mself\u001b[39;49m\u001b[38;5;241;43m.\u001b[39;49m\u001b[43mget_parent\u001b[49m\u001b[43m(\u001b[49m\u001b[38;5;124;43m\"\u001b[39;49m\u001b[38;5;124;43mshell\u001b[39;49m\u001b[38;5;124;43m\"\u001b[39;49m\u001b[43m)\u001b[49m\u001b[43m,\u001b[49m\n\u001b[0;32m   1286\u001b[0m \u001b[43m    \u001b[49m\u001b[43mpassword\u001b[49m\u001b[38;5;241;43m=\u001b[39;49m\u001b[38;5;28;43;01mFalse\u001b[39;49;00m\u001b[43m,\u001b[49m\n\u001b[0;32m   1287\u001b[0m \u001b[43m\u001b[49m\u001b[43m)\u001b[49m\n",
      "File \u001b[1;32mc:\\Users\\jkim0105\\AppData\\Local\\anaconda3\\envs\\bootcamp\\lib\\site-packages\\ipykernel\\kernelbase.py:1325\u001b[0m, in \u001b[0;36mKernel._input_request\u001b[1;34m(self, prompt, ident, parent, password)\u001b[0m\n\u001b[0;32m   1322\u001b[0m \u001b[38;5;28;01mexcept\u001b[39;00m \u001b[38;5;167;01mKeyboardInterrupt\u001b[39;00m:\n\u001b[0;32m   1323\u001b[0m     \u001b[38;5;66;03m# re-raise KeyboardInterrupt, to truncate traceback\u001b[39;00m\n\u001b[0;32m   1324\u001b[0m     msg \u001b[38;5;241m=\u001b[39m \u001b[38;5;124m\"\u001b[39m\u001b[38;5;124mInterrupted by user\u001b[39m\u001b[38;5;124m\"\u001b[39m\n\u001b[1;32m-> 1325\u001b[0m     \u001b[38;5;28;01mraise\u001b[39;00m \u001b[38;5;167;01mKeyboardInterrupt\u001b[39;00m(msg) \u001b[38;5;28;01mfrom\u001b[39;00m \u001b[38;5;28;01mNone\u001b[39;00m\n\u001b[0;32m   1326\u001b[0m \u001b[38;5;28;01mexcept\u001b[39;00m \u001b[38;5;167;01mException\u001b[39;00m:\n\u001b[0;32m   1327\u001b[0m     \u001b[38;5;28mself\u001b[39m\u001b[38;5;241m.\u001b[39mlog\u001b[38;5;241m.\u001b[39mwarning(\u001b[38;5;124m\"\u001b[39m\u001b[38;5;124mInvalid Message:\u001b[39m\u001b[38;5;124m\"\u001b[39m, exc_info\u001b[38;5;241m=\u001b[39m\u001b[38;5;28;01mTrue\u001b[39;00m)\n",
      "\u001b[1;31mKeyboardInterrupt\u001b[0m: Interrupted by user"
     ]
    }
   ],
   "source": [
    "# import all necessary packages to be used\n",
    "import csv\n",
    "from IPython.display import clear_output\n",
    "\n",
    "# handle user registration and writing to csv\n",
    "def registerUser():\n",
    "    with open(\"users.csv\", mode='a', newline=\"\") as f:      # defined and opened a file called \"user.csv\" for storage\n",
    "        writer = csv.writer(f, delimiter=\",\")\n",
    "        \n",
    "        print(\"To register, please enter your info:\")\n",
    "        email = input(\"E-mail: \")\n",
    "        password = input(\"Password: \")\n",
    "        password2 = input(\"Confirm your password: \")\n",
    "        \n",
    "        clear_output()\n",
    "        \n",
    "        if password == password2:\n",
    "            writer.writerow([email, password])       # writes newly registered info and store into a database\n",
    "            print(\"You are now registered!\")\n",
    "        else:\n",
    "            print(\"Your password doesn't match. Please re-type.\")\n",
    "\n",
    "# ask for user info and return true to login or false if incorrect info\n",
    "def loginUser():\n",
    "    print(\"To login, please enter your info:\")\n",
    "    email = input(\"E-mail: \")\n",
    "    password = input('Password: ')\n",
    "\n",
    "    clear_output()\n",
    "\n",
    "    with open(\"user.csv\", mode='r') as f:\n",
    "        reader = csv.reader(f, delimiter=',')\n",
    "        \n",
    "        for row in reader:\n",
    "            if row == [email, password]:\n",
    "                print(\"You are now logged in!\")\n",
    "                return True\n",
    "        \n",
    "    print(\"Something went wrong. Try again.\")\n",
    "    return False\n",
    "\n",
    "# variables for main loop\n",
    "active = True\n",
    "logged_in = False\n",
    "\n",
    "# main loop\n",
    "while active:\n",
    "    if logged_in:\n",
    "        print(\"1. Logout\\n2. Quit\")\n",
    "    else:\n",
    "        print(\"1. Login \\n2. Register \\n3. Quit\")\n",
    "    \n",
    "    choice = input(\"What would you like to do?\").lower()\n",
    "\n",
    "clear_output()\n",
    "\n",
    "if choice == 'register' and logged_in == False:\n",
    "    registerUser()\n",
    "elif choice == 'login' and logged_in == False:\n",
    "    logged_in = loginUser()\n",
    "elif choice == 'quit':\n",
    "    active = False\n",
    "    print(\"Thanks for using out software!\")\n",
    "elif choice == 'logout' and logged_in == True:\n",
    "    logged_in = False\n",
    "    print('You are now logged out.')\n",
    "else:\n",
    "    print('Sorry, please try again!')"
   ]
  }
 ],
 "metadata": {
  "kernelspec": {
   "display_name": "bootcamp",
   "language": "python",
   "name": "python3"
  },
  "language_info": {
   "codemirror_mode": {
    "name": "ipython",
    "version": 3
   },
   "file_extension": ".py",
   "mimetype": "text/x-python",
   "name": "python",
   "nbconvert_exporter": "python",
   "pygments_lexer": "ipython3",
   "version": "3.10.16"
  }
 },
 "nbformat": 4,
 "nbformat_minor": 5
}
