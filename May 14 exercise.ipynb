{
 "cells": [
  {
   "cell_type": "code",
   "execution_count": 15,
   "id": "3fba6f22",
   "metadata": {},
   "outputs": [
    {
     "name": "stdout",
     "output_type": "stream",
     "text": [
      "Your shopping list:\n",
      "None\n",
      "cheese\n",
      "egg\n"
     ]
    }
   ],
   "source": [
    "# Challenge 2: Create a Python script that does the following:\n",
    "# 1. create an empty list named shopping_list\n",
    "# 2. use a loop to prompt the user to enter items until they type 'done'.\n",
    "# 3. Add each item to the shopping_list if it is not 'done'.\n",
    "# 4. After the user types 'done', remove 'done' from the list if it exists.\n",
    "# 5. print the final shopping list\n",
    "\n",
    "shopping_list = []\n",
    "while True:                    # asks for a list until typed 'done'\n",
    "    item = input(\"Enter the item:\")\n",
    "    if item.lower() == 'done':\n",
    "        break\n",
    "    shopping_list.append(item)\n",
    "print(\"Your shopping list:\")\n",
    "print(shopping_list.sort())    # in alphabetical order\n",
    "for item in shopping_list:     # for loop: printing the items 1 by 1\n",
    "    print(item)\n",
    "\n",
    "\n",
    "#def addItem(item):\n",
    "    #cart.append(item)\n",
    "\n",
    "#def  main():\n",
    "    #done = False\n",
    "\n",
    "    #while not done:\n",
    "        #ans = input(\"Add the item to the list: \")\n",
    "        \n",
    "        #if ans == 'done':\n",
    "            #print(item)\n",
    "            #showCart()\n",
    "            #done == True\n",
    "#main()"
   ]
  },
  {
   "cell_type": "code",
   "execution_count": 1,
   "id": "21cd813c",
   "metadata": {},
   "outputs": [
    {
     "name": "stdout",
     "output_type": "stream",
     "text": [
      "\n",
      "Student List:\n",
      "name: Kevin, grade: 56\n",
      "name: John, grade: 60\n",
      "name: Kay, grade: 70\n"
     ]
    }
   ],
   "source": [
    "# challenge 5\n",
    "students = []\n",
    "\n",
    "while True:\n",
    "    name = input(\"Enter\")\n",
    "    if name.lower() == 'done':\n",
    "        break\n",
    "    grade = input(\"Enter the grade for {name}: \")\n",
    "\n",
    "    student_info = {\n",
    "        \"name\" : name,\n",
    "        \"grade\": grade\n",
    "    }\n",
    "\n",
    "    students.append(student_info)\n",
    "\n",
    "print(\"\\nStudent List:\")\n",
    "for student in students:\n",
    "    print(f\"name: {student['name']}, grade: {student['grade']}\")"
   ]
  },
  {
   "cell_type": "code",
   "execution_count": 18,
   "id": "8d4bbf10",
   "metadata": {},
   "outputs": [
    {
     "ename": "AttributeError",
     "evalue": "'dict' object has no attribute 'append'",
     "output_type": "error",
     "traceback": [
      "\u001b[1;31m---------------------------------------------------------------------------\u001b[0m",
      "\u001b[1;31mAttributeError\u001b[0m                            Traceback (most recent call last)",
      "Cell \u001b[1;32mIn[18], line 13\u001b[0m\n\u001b[0;32m      7\u001b[0m     grade \u001b[38;5;241m=\u001b[39m \u001b[38;5;28minput\u001b[39m(\u001b[38;5;124m\"\u001b[39m\u001b[38;5;124mEnter the grade: \u001b[39m\u001b[38;5;124m\"\u001b[39m)\n\u001b[0;32m      9\u001b[0m     student_info \u001b[38;5;241m=\u001b[39m {\n\u001b[0;32m     10\u001b[0m         \u001b[38;5;124m\"\u001b[39m\u001b[38;5;124mname\u001b[39m\u001b[38;5;124m\"\u001b[39m: name,\n\u001b[0;32m     11\u001b[0m         \u001b[38;5;124m\"\u001b[39m\u001b[38;5;124mgrade\u001b[39m\u001b[38;5;124m\"\u001b[39m: grade\n\u001b[0;32m     12\u001b[0m     }\n\u001b[1;32m---> 13\u001b[0m     \u001b[43mstudent_info\u001b[49m\u001b[38;5;241;43m.\u001b[39;49m\u001b[43mappend\u001b[49m()\n\u001b[0;32m     15\u001b[0m \u001b[38;5;28mprint\u001b[39m(student_info)\n",
      "\u001b[1;31mAttributeError\u001b[0m: 'dict' object has no attribute 'append'"
     ]
    }
   ],
   "source": [
    "# Challenge 3\n",
    "student_grades = {}\n",
    "while True:\n",
    "    name = input(\"Enter the student's name:\")\n",
    "    if name.lower() == \"done\":\n",
    "        break\n",
    "    grade = input(\"Enter the grade: \")\n",
    "\n",
    "    student_info = {\n",
    "        \"name\": name,\n",
    "        \"grade\": grade\n",
    "    }\n",
    "    student_info.append()\n",
    "    \n",
    "print(student_info)"
   ]
  }
 ],
 "metadata": {
  "kernelspec": {
   "display_name": "bootcamp",
   "language": "python",
   "name": "python3"
  },
  "language_info": {
   "codemirror_mode": {
    "name": "ipython",
    "version": 3
   },
   "file_extension": ".py",
   "mimetype": "text/x-python",
   "name": "python",
   "nbconvert_exporter": "python",
   "pygments_lexer": "ipython3",
   "version": "3.10.16"
  }
 },
 "nbformat": 4,
 "nbformat_minor": 5
}
