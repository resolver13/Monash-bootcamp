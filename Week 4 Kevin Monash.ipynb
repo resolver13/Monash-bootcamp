{
 "cells": [
  {
   "cell_type": "markdown",
   "id": "0d6650c5",
   "metadata": {},
   "source": [
    "# Week 4: Lists and Loops"
   ]
  },
  {
   "cell_type": "markdown",
   "id": "0a1b71f7",
   "metadata": {},
   "source": [
    "### List = arrays in other computer languages\n",
    "### a type of data collection\n",
    "### list = data structure that isa mutable, ordered sequence of elements.\n"
   ]
  },
  {
   "cell_type": "code",
   "execution_count": 4,
   "id": "fcbfe1ee",
   "metadata": {},
   "outputs": [
    {
     "name": "stdout",
     "output_type": "stream",
     "text": [
      "[5, 10, 15.2, 20]\n"
     ]
    }
   ],
   "source": [
    "# declaring a list of numbers\n",
    "nums = [5, 10, 15.2, 20]\n",
    "print(nums)"
   ]
  },
  {
   "cell_type": "code",
   "execution_count": 6,
   "id": "08b730c8",
   "metadata": {},
   "outputs": [
    {
     "name": "stdout",
     "output_type": "stream",
     "text": [
      "10\n",
      "15.2\n"
     ]
    }
   ],
   "source": [
    "# accessing elements within a list\n",
    "print( nums[1] )           # will output the value at index 1 = 10\n",
    "num = nums[2]              # saves index value 2 into num\n",
    "print(num)                # prints value assigned to num"
   ]
  },
  {
   "cell_type": "code",
   "execution_count": 8,
   "id": "fff9af15",
   "metadata": {},
   "outputs": [
    {
     "name": "stdout",
     "output_type": "stream",
     "text": [
      "[4.3, 'word', True]\n"
     ]
    }
   ],
   "source": [
    "# declaring a list of mixed data types\n",
    "num = 4.3\n",
    "data = [num, \"word\", True]           # the power of data collection\n",
    "print(data)                          # note that 4.3 is stored as the value, not the variable"
   ]
  },
  {
   "cell_type": "code",
   "execution_count": 9,
   "id": "48af7146",
   "metadata": {},
   "outputs": [
    {
     "name": "stdout",
     "output_type": "stream",
     "text": [
      "[5, 'book', [34, 'hello'], True]\n",
      "[34, 'hello']\n"
     ]
    }
   ],
   "source": [
    "# understanding lists within lists\n",
    "data = [5, \"book\", [34, \"hello\"], True]      # lists can hold any type\n",
    "print(data)\n",
    "print( data[2] )"
   ]
  },
  {
   "cell_type": "code",
   "execution_count": 13,
   "id": "b040ae83",
   "metadata": {},
   "outputs": [
    {
     "name": "stdout",
     "output_type": "stream",
     "text": [
      "34\n",
      "hello\n"
     ]
    }
   ],
   "source": [
    "# using double bracket notation to access lists within lists\n",
    "print( data[2][0] )       # will output 34\n",
    "inner_list = data[2]      # inner list will equal [34, \"hello\"]\n",
    "print( inner_list[1] )    # will output \"hello\""
   ]
  },
  {
   "cell_type": "code",
   "execution_count": 15,
   "id": "cfae3e6e",
   "metadata": {},
   "outputs": [
    {
     "name": "stdout",
     "output_type": "stream",
     "text": [
      "b\n"
     ]
    }
   ],
   "source": [
    "print( data[1][0])    # strings and lists can be indexed again due to more selections\n",
    "                      # for example, string can have an alphabet while list may have more selections"
   ]
  },
  {
   "cell_type": "code",
   "execution_count": 18,
   "id": "131a5f71",
   "metadata": {},
   "outputs": [
    {
     "name": "stdout",
     "output_type": "stream",
     "text": [
      "[5, 10, 15, 20]\n",
      "[100, 10, 15, 20]\n"
     ]
    }
   ],
   "source": [
    "# changing values in a list through index\n",
    "data = [5, 10, 15, 20]\n",
    "print(data)\n",
    "data[0] = 100                    # change the value at index 0 - (5 to 100)\n",
    "print(data)"
   ]
  },
  {
   "cell_type": "code",
   "execution_count": 31,
   "id": "207e0e63",
   "metadata": {},
   "outputs": [
    {
     "name": "stdout",
     "output_type": "stream",
     "text": [
      "1613722102272\n"
     ]
    }
   ],
   "source": [
    "# id is to check the storage of values\n",
    "a = [5, 10]\n",
    "print( id(a) )           # large number represents location in memory"
   ]
  },
  {
   "cell_type": "code",
   "execution_count": 32,
   "id": "99456a7d",
   "metadata": {},
   "outputs": [
    {
     "name": "stdout",
     "output_type": "stream",
     "text": [
      "a: [5, 10]\t b: [5, 10]\n",
      "Location a[0]: 1613620642160\t Location b[0]: 1613620642160\n",
      "a: [20, 10]\t b: [20, 10]\n"
     ]
    }
   ],
   "source": [
    "# understanding how lists are stored\n",
    "a = [5, 10]\n",
    "b = a\n",
    "print( \"a: {}\\t b: {}\".format(a, b) )\n",
    "print( \"Location a[0]: {}\\t Location b[0]: {}\".format( id(a[0]), id(b[0]) ) )\n",
    "a[0] = 20                 # re-declaring the value of a[0] also changes b[0]\n",
    "print( \"a: {}\\t b: {}\".format(a, b) )"
   ]
  },
  {
   "cell_type": "code",
   "execution_count": 33,
   "id": "4a3f27fc",
   "metadata": {},
   "outputs": [
    {
     "name": "stdout",
     "output_type": "stream",
     "text": [
      "data: [50, 10, 15, 20]\t data_copy: [5, 10, 15, 20]\n"
     ]
    }
   ],
   "source": [
    "# using [:] to copy a list\n",
    "data = [5, 10, 15, 20]\n",
    "data_copy = data[ : ]        # a single colon copies the list\n",
    "data[0] = 50\n",
    "print( \"data: {}\\t data_copy: {}\".format(data, data_copy) )"
   ]
  },
  {
   "cell_type": "code",
   "execution_count": null,
   "id": "8847956b",
   "metadata": {},
   "outputs": [
    {
     "name": "stdout",
     "output_type": "stream",
     "text": [
      "data: [50, 10, 15, 20]\t data_copy: [5, 10, 15, 20]\n"
     ]
    }
   ],
   "source": [
    "# using .copy() to copy a list\n",
    "data = [5, 10, 15, 20]\n",
    "data_copy = data.copy()       # a single colon copies the list\n",
    "data[0] = 50\n",
    "print( \"data: {}\\t data_copy: {}\".format(data, data_copy) )"
   ]
  },
  {
   "cell_type": "markdown",
   "id": "f4f05726",
   "metadata": {},
   "source": [
    "## Monday exercises"
   ]
  },
  {
   "cell_type": "code",
   "execution_count": 6,
   "id": "de45a857",
   "metadata": {},
   "outputs": [
    {
     "name": "stdout",
     "output_type": "stream",
     "text": [
      "['I like to play volleyball', 'I like to play soccer', 'I like to play frisbee']\n"
     ]
    }
   ],
   "source": [
    "sports = [\"volleyball\", \"soccer\", \"frisbee\"]\n",
    "strs = [f\"I like to play {x}\" for x in sports]\n",
    "print(strs)"
   ]
  },
  {
   "cell_type": "code",
   "execution_count": 7,
   "id": "3f28139e",
   "metadata": {},
   "outputs": [
    {
     "name": "stdout",
     "output_type": "stream",
     "text": [
      "['I like playing volleyball', 'I like playing soccer', 'I like playing frisbee']\n"
     ]
    }
   ],
   "source": [
    "sports = [\"volleyball\", \"soccer\", \"frisbee\"]\n",
    "list_of_strings = []\n",
    "for sports in sports:\n",
    "    list_of_strings.append(f\"I like playing {sports}\")\n",
    "print(list_of_strings)"
   ]
  },
  {
   "cell_type": "code",
   "execution_count": 20,
   "id": "722a424f",
   "metadata": {},
   "outputs": [
    {
     "name": "stdout",
     "output_type": "stream",
     "text": [
      "J A S K\n"
     ]
    }
   ],
   "source": [
    "names = ['John','Abraham','Sam','Kelly']\n",
    "name = names[0][0]\n",
    "name1 = names[1][0]\n",
    "name2 = names[2][0]\n",
    "name3 = names[3][0]\n",
    "print(name, name1, name2, name3)"
   ]
  },
  {
   "cell_type": "markdown",
   "id": "b453cab1",
   "metadata": {},
   "source": [
    "# Loops"
   ]
  },
  {
   "cell_type": "markdown",
   "id": "d2a7866d",
   "metadata": {},
   "source": [
    "### try to condense the code to as few lines as possible for convenience\n"
   ]
  },
  {
   "cell_type": "code",
   "execution_count": 24,
   "id": "5d060f6f",
   "metadata": {},
   "outputs": [
    {
     "name": "stdout",
     "output_type": "stream",
     "text": [
      "Value: 0\n",
      "Value: 1\n",
      "Value: 2\n",
      "Value: 3\n",
      "Value: 4\n"
     ]
    }
   ],
   "source": [
    "# writing your first for loop using range\n",
    "for num in range(5):\n",
    "    print( \"Value: {}\".format(num) )        # range(5) is not inclusive of \"5\""
   ]
  },
  {
   "cell_type": "code",
   "execution_count": 25,
   "id": "15ec700b",
   "metadata": {},
   "outputs": [
    {
     "name": "stdout",
     "output_type": "stream",
     "text": [
      "Value: 2\n",
      "Value: 4\n",
      "Value: 6\n",
      "Value: 8\n"
     ]
    }
   ],
   "source": [
    "# providing the start, stop, and step for the range function\n",
    "for num in range(2, 10, 2):\n",
    "    print( \"Value: {}\".format(num) )    # will print all evens between 2 and 10"
   ]
  },
  {
   "cell_type": "code",
   "execution_count": 26,
   "id": "169d3362",
   "metadata": {},
   "outputs": [
    {
     "name": "stdout",
     "output_type": "stream",
     "text": [
      "Value: J\n",
      "Value: o\n",
      "Value: h\n",
      "Value: n\n",
      "Value:  \n",
      "Value: S\n",
      "Value: m\n",
      "Value: i\n",
      "Value: t\n",
      "Value: h\n"
     ]
    }
   ],
   "source": [
    "# printing all characters in a name using the 'in' keyword\n",
    "name = 'John Smith'\n",
    "for letter in name:\n",
    "    print( \"Value: {}\".format(letter) )"
   ]
  },
  {
   "cell_type": "code",
   "execution_count": null,
   "id": "30ad4160",
   "metadata": {},
   "outputs": [
    {
     "name": "stdout",
     "output_type": "stream",
     "text": [
      "0\n",
      "1\n",
      "2\n",
      "4\n"
     ]
    }
   ],
   "source": [
    "# using the continue statement within a for loop\n",
    "for num in range (5):\n",
    "    if num == 3:\n",
    "        continue\n",
    "    print(num)"
   ]
  },
  {
   "cell_type": "code",
   "execution_count": 2,
   "id": "b91db2d1",
   "metadata": {},
   "outputs": [
    {
     "name": "stdout",
     "output_type": "stream",
     "text": [
      "0\n",
      "1\n",
      "2\n"
     ]
    }
   ],
   "source": [
    "# breaking out of a loop using the 'break' keyword\n",
    "for num in range(5):\n",
    "    if num == 3:\n",
    "        break\n",
    "    print(num)"
   ]
  },
  {
   "cell_type": "code",
   "execution_count": 4,
   "id": "6e280f77",
   "metadata": {},
   "outputs": [],
   "source": [
    "# setting a placeholder using the 'pass' keyword\n",
    "for i in range(5):\n",
    "    # TODO: add code to print number\n",
    "    pass\n",
    "# This is to prevent the program from breaking\n"
   ]
  },
  {
   "cell_type": "markdown",
   "id": "8c31903c",
   "metadata": {},
   "source": [
    "### Exercise 2"
   ]
  },
  {
   "cell_type": "code",
   "execution_count": 12,
   "id": "0e7e437c",
   "metadata": {},
   "outputs": [
    {
     "name": "stdout",
     "output_type": "stream",
     "text": [
      "3\n",
      "6\n",
      "9\n",
      "12\n",
      "15\n",
      "18\n",
      "21\n",
      "24\n",
      "27\n",
      "30\n",
      "33\n",
      "36\n",
      "39\n",
      "42\n",
      "45\n",
      "48\n",
      "51\n",
      "54\n",
      "57\n",
      "60\n",
      "63\n",
      "66\n",
      "69\n",
      "72\n",
      "75\n",
      "78\n",
      "81\n",
      "84\n",
      "87\n",
      "90\n",
      "93\n",
      "96\n",
      "99\n"
     ]
    }
   ],
   "source": [
    "for num in range(1,100):\n",
    "    if num%3:\n",
    "        continue\n",
    "    print(num)"
   ]
  },
  {
   "cell_type": "code",
   "execution_count": 20,
   "id": "a0f3a7f4",
   "metadata": {},
   "outputs": [
    {
     "name": "stdout",
     "output_type": "stream",
     "text": [
      "e\n",
      "o\n"
     ]
    }
   ],
   "source": [
    "word = \"hello\"\n",
    "vowels = 'aeiouAEIOU'\n",
    "for letter in word:\n",
    "    if letter in vowels:\n",
    "        print(letter)"
   ]
  },
  {
   "cell_type": "markdown",
   "id": "7c662e6b",
   "metadata": {},
   "source": [
    "## While loop"
   ]
  },
  {
   "cell_type": "code",
   "execution_count": 24,
   "id": "5e9eeff2",
   "metadata": {},
   "outputs": [
    {
     "name": "stdout",
     "output_type": "stream",
     "text": [
      "10\n",
      "9\n",
      "8\n",
      "7\n",
      "6\n",
      "5\n",
      "4\n",
      "3\n",
      "2\n",
      "1\n"
     ]
    }
   ],
   "source": [
    "# writing your first while loop\n",
    "health = 10\n",
    "while health > 0:\n",
    "    print(health)\n",
    "    health -= 1      # forgetting this line will result in infinite loop\n",
    "    # This is decrementing by one. If not in place, it will keep outputing 10s."
   ]
  },
  {
   "cell_type": "markdown",
   "id": "0c187ff2",
   "metadata": {},
   "source": [
    "#### counting with FOR loops and conditions with WHILE loops."
   ]
  },
  {
   "cell_type": "code",
   "execution_count": 28,
   "id": "d45e6b4c",
   "metadata": {},
   "outputs": [],
   "source": [
    "# an example of infinite loop\n",
    "game_over = False\n",
    "while not game_over:\n",
    "    break               # added to prevent the infinite loop\n",
    "    print(game_over)\n",
    "    # game_over variable never becomes True and will run until it becomes True."
   ]
  },
  {
   "cell_type": "code",
   "execution_count": 30,
   "id": "971392b0",
   "metadata": {},
   "outputs": [
    {
     "name": "stdout",
     "output_type": "stream",
     "text": [
      "0 0\n",
      "0 1\n",
      "0 2\n",
      "1 0\n",
      "1 1\n",
      "1 2\n"
     ]
    }
   ],
   "source": [
    "# using two or more loops together is called a nested loop\n",
    "for i in range(2):      # outside loop\n",
    "    for j in range(3):       # inside loop\n",
    "        print(i,j)       # the inner loop runs from 0-3 and again due to the outside loop"
   ]
  },
  {
   "cell_type": "markdown",
   "id": "14974a27",
   "metadata": {},
   "source": [
    "#### Exercise 3"
   ]
  },
  {
   "cell_type": "code",
   "execution_count": 35,
   "id": "6040b012",
   "metadata": {},
   "outputs": [],
   "source": [
    "keep_going = True\n",
    "while keep_going:                 # will keep going due to stating it as true\n",
    "    name = input(\"Please type in a name, or type quit to exit\")\n",
    "    if name == 'quit':            # will terminate because the next line declares it false\n",
    "        keep_going = False"
   ]
  },
  {
   "cell_type": "code",
   "execution_count": 36,
   "id": "30415b5e",
   "metadata": {},
   "outputs": [
    {
     "name": "stdout",
     "output_type": "stream",
     "text": [
      "0\n",
      "1\n",
      "2\n"
     ]
    }
   ],
   "source": [
    "game_over = False\n",
    "while game_over != True:\n",
    "    for num in range(5):\n",
    "        if num == 3:\n",
    "            game_over = True\n",
    "            break\n",
    "        print(num)"
   ]
  },
  {
   "cell_type": "markdown",
   "id": "716d103c",
   "metadata": {},
   "source": [
    "## working with list"
   ]
  },
  {
   "cell_type": "code",
   "execution_count": 45,
   "id": "99130cdd",
   "metadata": {},
   "outputs": [
    {
     "name": "stdout",
     "output_type": "stream",
     "text": [
      "3\n"
     ]
    }
   ],
   "source": [
    "# checking the number of items within a list\n",
    "nums = [5, 10, 15]\n",
    "length = len(nums)        # len() returns an integer\n",
    "print(length)"
   ]
  },
  {
   "cell_type": "code",
   "execution_count": 47,
   "id": "9a2fb02e",
   "metadata": {},
   "outputs": [
    {
     "name": "stdout",
     "output_type": "stream",
     "text": [
      "[10, 15]\n",
      "[5, 10]\n",
      "[5, 15]\n",
      "[10, 15]\n"
     ]
    }
   ],
   "source": [
    "# accessing specific items of a list with slices\n",
    "print(nums[1:3])      # will output items in index 1 and 2\n",
    "print(nums[:2])       # will output items in index 0 and 1\n",
    "print(nums[::2])      # will print every other index - 0, 2, 4, etc.\n",
    "print(nums[-2:])      # will output last two items in list"
   ]
  },
  {
   "cell_type": "code",
   "execution_count": 49,
   "id": "00c2931e",
   "metadata": {},
   "outputs": [
    {
     "name": "stdout",
     "output_type": "stream",
     "text": [
      "[10, 20, 5]\n"
     ]
    }
   ],
   "source": [
    "# adding an item to the back of a list using append\n",
    "nums = [10, 20]\n",
    "nums.append(5)        # \"5\" will be at the back of the list\n",
    "print(nums)           # outputs [10, 20, 5]"
   ]
  },
  {
   "cell_type": "code",
   "execution_count": 52,
   "id": "a0b97891",
   "metadata": {},
   "outputs": [
    {
     "name": "stdout",
     "output_type": "stream",
     "text": [
      "['glove', 'ball', 'base']\n"
     ]
    }
   ],
   "source": [
    "# adding a value to the beginning of the list\n",
    "words = ['ball', 'base']\n",
    "words.insert(0, 'glove')     # first number is the index, second is the value\n",
    "print(words)"
   ]
  },
  {
   "cell_type": "code",
   "execution_count": 62,
   "id": "e9969f8f",
   "metadata": {},
   "outputs": [
    {
     "name": "stdout",
     "output_type": "stream",
     "text": [
      "5 \n",
      " ['ball']\n"
     ]
    }
   ],
   "source": [
    "# using pop to remove items and saving to a variable to use later\n",
    "items = [5, 'ball', True]\n",
    "items.pop()                    # by default removes the last item\n",
    "removed_item = items.pop(0)    # removes 5 and saves it into the variable\n",
    "print(removed_item, \"\\n\", items)"
   ]
  },
  {
   "cell_type": "code",
   "execution_count": 65,
   "id": "777fc126",
   "metadata": {},
   "outputs": [
    {
     "name": "stdout",
     "output_type": "stream",
     "text": [
      "['baseball', 'football', 'hockey']\n"
     ]
    }
   ],
   "source": [
    "# using the remove method with a try and except\n",
    "sports = [ 'baseball', 'soccer', 'football', 'hockey']\n",
    "try:\n",
    "    sports.remove('soccer')\n",
    "except:\n",
    "    print('That item does not exist in the list')\n",
    "print(sports)"
   ]
  },
  {
   "cell_type": "code",
   "execution_count": 67,
   "id": "c26bc110",
   "metadata": {},
   "outputs": [
    {
     "name": "stdout",
     "output_type": "stream",
     "text": [
      "3\n",
      "9\n",
      "17\n"
     ]
    }
   ],
   "source": [
    "# using min, max, and sum\n",
    "nums = [5, 3, 9]\n",
    "print(min(nums))         # will find the lowest number in the list\n",
    "print(max(nums))         # will find the highest number in the list\n",
    "print(sum(nums))         # will add all numbers in the list and return the sum"
   ]
  },
  {
   "cell_type": "code",
   "execution_count": 73,
   "id": "696215df",
   "metadata": {},
   "outputs": [
    {
     "name": "stdout",
     "output_type": "stream",
     "text": [
      "[5, 8, 0, 2] [0, 2, 5, 8]\n"
     ]
    }
   ],
   "source": [
    "# using sorted on lists for numerical and alphabetical data (can't mix numerical and alphabetical)\n",
    "nums = [5, 8, 0, 2]\n",
    "sorted_nums = sorted(nums)          # save to a new variable to use later (output in order)\n",
    "print(nums, sorted_nums)            # the original list is in tact"
   ]
  },
  {
   "cell_type": "code",
   "execution_count": 74,
   "id": "170d66cb",
   "metadata": {},
   "outputs": [
    {
     "name": "stdout",
     "output_type": "stream",
     "text": [
      "[0, 3, 5, 8]\n"
     ]
    }
   ],
   "source": [
    "# sorting a list with .sort() in-place\n",
    "nums = [5, 0, 8, 3]\n",
    "nums.sort()          # alters the original variable directly\n",
    "print(nums)"
   ]
  },
  {
   "cell_type": "code",
   "execution_count": 3,
   "id": "b49d19da",
   "metadata": {},
   "outputs": [
    {
     "name": "stdout",
     "output_type": "stream",
     "text": [
      "found\n",
      "not found\n"
     ]
    }
   ],
   "source": [
    "# using conditional statements on a list\n",
    "names = ['Jack', 'Robert', 'Mary']\n",
    "if 'Mary' in names:\n",
    "    print(\"found\")        # will run since Mary is in the list\n",
    "if 'Jimmy' not in names:\n",
    "    print(\"not found\")    # will run since Jimmy is not in the list"
   ]
  },
  {
   "cell_type": "code",
   "execution_count": 4,
   "id": "c2badb66",
   "metadata": {},
   "outputs": [
    {
     "name": "stdout",
     "output_type": "stream",
     "text": [
      "empty\n"
     ]
    }
   ],
   "source": [
    "# using conditionals to see if a list is empty\n",
    "nums = []\n",
    "if not nums:                # could also say 'if nums == []'\n",
    "    print('empty')"
   ]
  },
  {
   "cell_type": "code",
   "execution_count": 6,
   "id": "4750a284",
   "metadata": {},
   "outputs": [
    {
     "name": "stdout",
     "output_type": "stream",
     "text": [
      "Baseball\n",
      "Hockey\n",
      "Football\n",
      "Basketball\n"
     ]
    }
   ],
   "source": [
    "# using a for loop to print all items in a list\n",
    "sports = ['Baseball', 'Hockey', 'Football', \"Basketball\"]\n",
    "for sport in sports:\n",
    "    print(sport)"
   ]
  },
  {
   "cell_type": "code",
   "execution_count": 7,
   "id": "e213001a",
   "metadata": {},
   "outputs": [
    {
     "name": "stdout",
     "output_type": "stream",
     "text": [
      "['Jack', 'Rob', 'Robert']\n"
     ]
    }
   ],
   "source": [
    "# using the while loop to remove a certain value\n",
    "names = [\"Bob\", 'Jack', 'Rob', 'Bob', 'Robert']\n",
    "while 'Bob' in names:\n",
    "    names.remove('Bob')    # removes all instances of 'Bob'\n",
    "print(names)"
   ]
  },
  {
   "cell_type": "markdown",
   "id": "8643ba92",
   "metadata": {},
   "source": [
    "### Exercise 4"
   ]
  },
  {
   "cell_type": "code",
   "execution_count": 13,
   "id": "36184c09",
   "metadata": {},
   "outputs": [
    {
     "name": "stdout",
     "output_type": "stream",
     "text": [
      "['Amamda', 'Bob', 'Kenny']\n"
     ]
    }
   ],
   "source": [
    "names = ['Bob', 'Kenny', 'Amamda', 'Bob', 'Kenny']\n",
    "for name in names:\n",
    "    while names.count(name) > 1:\n",
    "        names.remove(name)\n",
    "print(names)"
   ]
  },
  {
   "cell_type": "markdown",
   "id": "2fe49567",
   "metadata": {},
   "source": [
    "## Last exercise for Week 4"
   ]
  },
  {
   "cell_type": "code",
   "execution_count": null,
   "id": "47b06c54",
   "metadata": {},
   "outputs": [
    {
     "name": "stdout",
     "output_type": "stream",
     "text": [
      "You guessed correctly!\n",
      "You guessed correctly!\n",
      "You guessed correctly!\n",
      "You guessed correctly!\n",
      "Incorrect, you lost a life.\n",
      "You guessed correctly!\n",
      "You guessed correctly!\n",
      "You guessed correctly!\n",
      "Thanks for playing.\n",
      "Word to guess: tree\n",
      "Lives: 6\n"
     ]
    }
   ],
   "source": [
    "# import additional functions\n",
    "from random import choice\n",
    "from IPython.display import clear_output\n",
    "\n",
    "# declare game variables\n",
    "words = [ 'tree', 'basket', 'chair', 'paper', 'python']\n",
    "word = choice(words)       # randomly chooses a word from words list\n",
    "guessed, lives, game_over = [], 7, False      # multi variable assignment\n",
    "\n",
    "# create a list of underscores to the length of the word\n",
    "guesses = ['_ '] * len(word)\n",
    "\n",
    "# create main game loop\n",
    "while not game_over:\n",
    "    ans = input(\"Type quit or guess a letter: \").lower()\n",
    "    if ans == 'quit':\n",
    "        print(\"Thanks for playing.\")\n",
    "        game_over = True                # need to declare true to stop the while loop\n",
    "\n",
    "        hidden_word = \"\".join(guesses)\n",
    "        print( \"Word to guess: {}\".format(hidden_word) )\n",
    "        print( \"Lives: {}\".format(lives) )\n",
    "        ans = input()\n",
    "\n",
    "    elif ans in word:        # check if letter in word\n",
    "        print(\"You guessed correctly!\")      # create a loop to change underscore to proper letter\n",
    "        for i in range( len(word) ):\n",
    "            if word[i] == ans:\n",
    "                guesses[i] = ans\n",
    "    else:\n",
    "        lives -= 1\n",
    "        print(\"Incorrect, you lost a life.\")\n",
    "        if lives <= 0:\n",
    "            print(\"You lost all your lives, you lost!\")\n",
    "            game_over = True\n",
    "\n",
    "            # will come back to this\n"
   ]
  }
 ],
 "metadata": {
  "kernelspec": {
   "display_name": "bootcamp",
   "language": "python",
   "name": "python3"
  },
  "language_info": {
   "codemirror_mode": {
    "name": "ipython",
    "version": 3
   },
   "file_extension": ".py",
   "mimetype": "text/x-python",
   "name": "python",
   "nbconvert_exporter": "python",
   "pygments_lexer": "ipython3",
   "version": "3.10.16"
  }
 },
 "nbformat": 4,
 "nbformat_minor": 5
}
