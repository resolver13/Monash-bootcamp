{
 "cells": [
  {
   "cell_type": "markdown",
   "id": "37c6f703",
   "metadata": {},
   "source": [
    "# Chapter 5: Functions"
   ]
  },
  {
   "cell_type": "markdown",
   "id": "933cfcad",
   "metadata": {},
   "source": [
    "## Creating and Calling Functions"
   ]
  },
  {
   "cell_type": "code",
   "execution_count": null,
   "id": "19ed9063",
   "metadata": {},
   "outputs": [],
   "source": [
    "# function syntax   defprintName(name):   def = Keyword  printName = function name  (name) = parameters\n",
    "# : = ending colon "
   ]
  },
  {
   "cell_type": "code",
   "execution_count": 2,
   "id": "94baf20f",
   "metadata": {},
   "outputs": [
    {
     "name": "stdout",
     "output_type": "stream",
     "text": [
      "Name: John Smith\n",
      "Age: 45\n",
      "Name: John Smith\n",
      "Age: 45\n"
     ]
    }
   ],
   "source": [
    "# writing your first function\n",
    "def printInfo():     # defines what the function does when called\n",
    "    print(\"Name: John Smith\")\n",
    "    print(\"Age: 45\")\n",
    "printInfo()          # calls the function to run\n",
    "printInfo()          # calls the function again and good for outputing the exact info multiple times\n"
   ]
  },
  {
   "cell_type": "markdown",
   "id": "20434330",
   "metadata": {},
   "source": [
    "## Function Call = SayHello()"
   ]
  },
  {
   "cell_type": "code",
   "execution_count": 4,
   "id": "44db65a4",
   "metadata": {},
   "outputs": [
    {
     "name": "stdout",
     "output_type": "stream",
     "text": [
      "15\n"
     ]
    }
   ],
   "source": [
    "# user-defined functions (UDFs)\n",
    "# performing a calculation in a function\n",
    "def calc():\n",
    "    x, y = 5, 10\n",
    "    print(x + y)\n",
    "calc()           # will run the block of code within calc and output 15"
   ]
  },
  {
   "cell_type": "code",
   "execution_count": 5,
   "id": "0cba7298",
   "metadata": {},
   "outputs": [
    {
     "name": "stdout",
     "output_type": "stream",
     "text": [
      "Kevin Kim\n"
     ]
    }
   ],
   "source": [
    "## Monday Exercise\n",
    "def myName():\n",
    "    print(\"Kevin Kim\")\n",
    "myName()"
   ]
  },
  {
   "cell_type": "code",
   "execution_count": 8,
   "id": "8160636a",
   "metadata": {},
   "outputs": [
    {
     "name": "stdout",
     "output_type": "stream",
     "text": [
      "tomato, olive, mushroom, mozarella\n",
      "tomato, olive, mushroom, mozarella\n",
      "tomato, olive, mushroom, mozarella\n"
     ]
    }
   ],
   "source": [
    "def pizzaToppings():\n",
    "    print(\"tomato, olive, mushroom, mozarella\")\n",
    "pizzaToppings()\n",
    "pizzaToppings()\n",
    "pizzaToppings()"
   ]
  },
  {
   "cell_type": "markdown",
   "id": "4f1e56cf",
   "metadata": {},
   "source": [
    "## Parameters"
   ]
  },
  {
   "cell_type": "code",
   "execution_count": 10,
   "id": "1e4556f8",
   "metadata": {},
   "outputs": [
    {
     "name": "stdout",
     "output_type": "stream",
     "text": [
      "Your name is: John Smith\n",
      "Your name is: Amanda\n"
     ]
    }
   ],
   "source": [
    "# passing a single parameter into a function\n",
    "def printName(full_name):\n",
    "    print( \"Your name is: {}\".format(full_name) )\n",
    "printName(\"John Smith\")\n",
    "printName(\"Amanda\")"
   ]
  },
  {
   "cell_type": "code",
   "execution_count": 11,
   "id": "a45de786",
   "metadata": {},
   "outputs": [
    {
     "name": "stdout",
     "output_type": "stream",
     "text": [
      "5 + 8 = 13\n",
      "3.5 + 5.5 = 9.0\n"
     ]
    }
   ],
   "source": [
    "# passing multiple parameters into a function\n",
    "def addNums(num1, num2):\n",
    "    result = num1 + num2\n",
    "    print(\"{} + {} = {}\".format(num1, num2, result))\n",
    "addNums(5, 8)       # will output 13\n",
    "addNums(3.5, 5.5)   # will output 9.0"
   ]
  },
  {
   "cell_type": "code",
   "execution_count": 13,
   "id": "0b4c2598",
   "metadata": {},
   "outputs": [
    {
     "name": "stdout",
     "output_type": "stream",
     "text": [
      "4\n",
      "16\n",
      "25\n",
      "100\n",
      "1\n",
      "9\n",
      "36\n"
     ]
    }
   ],
   "source": [
    "# passing a list\n",
    "# using a function to square all information\n",
    "numbers1 = [2, 4, 5, 10]\n",
    "numbers2 = [1, 3, 6]\n",
    "def squares(nums):\n",
    "    for num in nums:\n",
    "        print(num**2)\n",
    "squares(numbers1)\n",
    "squares(numbers2)         # saves trouble from writing a loop twice"
   ]
  },
  {
   "cell_type": "code",
   "execution_count": 16,
   "id": "e990a732",
   "metadata": {},
   "outputs": [
    {
     "name": "stdout",
     "output_type": "stream",
     "text": [
      "Area: 12.56\n"
     ]
    }
   ],
   "source": [
    "# setting default parameter values\n",
    "def calcArea(r, pi=3.14):\n",
    "    area = pi * (r**2)\n",
    "    print(\"Area: {}\".format(area))\n",
    "calcArea(2)      # assuming radius is the value of 2\n",
    "# default parameters (like pi=3.14) must always go after non-default parameters (like r)."
   ]
  },
  {
   "cell_type": "code",
   "execution_count": 17,
   "id": "03d46e21",
   "metadata": {},
   "outputs": [
    {
     "name": "stdout",
     "output_type": "stream",
     "text": [
      "John Smith\n",
      "John Paul Smith\n"
     ]
    }
   ],
   "source": [
    "# setting default parameter values\n",
    "def printName(first, last, middle=\"\"):\n",
    "    if middle:\n",
    "        print(\"{} {} {}\".format(first, middle, last))\n",
    "    else:\n",
    "        print(\"{} {}\".format(first, last))\n",
    "printName(\"John\", \"Smith\")\n",
    "printName(\"John\", \"Smith\", \"Paul\")        # will output with middle name"
   ]
  },
  {
   "cell_type": "code",
   "execution_count": 20,
   "id": "a284e9cc",
   "metadata": {},
   "outputs": [
    {
     "name": "stdout",
     "output_type": "stream",
     "text": [
      "2.5\n",
      "6\n"
     ]
    }
   ],
   "source": [
    "# explicity assigning values to parameters by referencing the name\n",
    "def addNums(num1, num2):\n",
    "    print(num2)\n",
    "    print(num1)\n",
    "addNums(6, num2 = 2.5)  # num2 = 2.5 is set as a default in this block"
   ]
  },
  {
   "cell_type": "code",
   "execution_count": 1,
   "id": "22143478",
   "metadata": {},
   "outputs": [
    {
     "name": "stdout",
     "output_type": "stream",
     "text": [
      "<class 'tuple'>\n",
      "5\n",
      "True\n",
      "Jess\n"
     ]
    }
   ],
   "source": [
    "# *args = argument (dafault)\n",
    "# using args parameter to take in a tuple of arbitrary values\n",
    "def outputData(name, *args):\n",
    "    print( type(args) )\n",
    "    for arg in args:\n",
    "        print(arg)\n",
    "outputData(\"John Smith\", 5, True, \"Jess\")"
   ]
  },
  {
   "cell_type": "code",
   "execution_count": 3,
   "id": "02754b37",
   "metadata": {},
   "outputs": [
    {
     "name": "stdout",
     "output_type": "stream",
     "text": [
      "<class 'dict'>\n",
      "John Smith\n",
      "5\n"
     ]
    }
   ],
   "source": [
    "# **kwargs = keyword arguments (works as a dictionary)\n",
    "# using kwargs parameter to take in a dictionary of arbitrary values\n",
    "def outputData(**kwargs):\n",
    "    print( type(kwargs) )\n",
    "    print( kwargs[ \"name\" ] )\n",
    "    print( kwargs[ \"num\" ] )\n",
    "outputData(name = \"John Smith\", num = 5, b = True)"
   ]
  },
  {
   "cell_type": "code",
   "execution_count": 6,
   "id": "728079fb",
   "metadata": {},
   "outputs": [
    {
     "name": "stdout",
     "output_type": "stream",
     "text": [
      "False\n"
     ]
    }
   ],
   "source": [
    "# Exercise\n",
    "def checkUppercase(word):\n",
    "    if word[0] == word[0].upper():\n",
    "        print(True)\n",
    "    else:\n",
    "        print(False)\n",
    "\n",
    "ans = input(\"Type in a word: \")\n",
    "checkUppercase(ans)"
   ]
  },
  {
   "cell_type": "code",
   "execution_count": 8,
   "id": "73970aea",
   "metadata": {},
   "outputs": [
    {
     "name": "stdout",
     "output_type": "stream",
     "text": [
      "No name passed in.\n",
      "Kevin \n",
      "Kevin Kim\n"
     ]
    }
   ],
   "source": [
    "# Exercise 2\n",
    "def namePass(first_name='', last_name=''):\n",
    "    \n",
    "    if not first_name and not last_name:\n",
    "        print(\"No name passed in.\")\n",
    "    else:\n",
    "        print(first_name, last_name)\n",
    "\n",
    "namePass()\n",
    "namePass(\"Kevin\")\n",
    "namePass(\"Kevin\", \"Kim\")"
   ]
  },
  {
   "cell_type": "markdown",
   "id": "666512d7",
   "metadata": {},
   "source": [
    "## Using return"
   ]
  },
  {
   "cell_type": "code",
   "execution_count": 12,
   "id": "d3bf316a",
   "metadata": {},
   "outputs": [
    {
     "name": "stdout",
     "output_type": "stream",
     "text": [
      "10.0\n",
      "20\n"
     ]
    }
   ],
   "source": [
    "# using return keyword to return the sum of two numbers\n",
    "\n",
    "def addNums(num1, num2):\n",
    "    return num1 + num2\n",
    "num = addNums(5.5, 4.5)     #saves returned value into num\n",
    "print(num)\n",
    "print( addNums(10, 10) )    # doesn't save returned value"
   ]
  },
  {
   "cell_type": "code",
   "execution_count": 13,
   "id": "5f69c602",
   "metadata": {},
   "outputs": [
    {
     "name": "stdout",
     "output_type": "stream",
     "text": [
      "True\n"
     ]
    }
   ],
   "source": [
    "# shorthand syntax using a ternary operator\n",
    "def searchList(aList, el):\n",
    "    return True if el in aList else False\n",
    "result = searchList([\"one\", 2, \"three\"], 2)     # result = True\n",
    "print(result)"
   ]
  },
  {
   "cell_type": "code",
   "execution_count": 18,
   "id": "9e7147dc",
   "metadata": {},
   "outputs": [
    {
     "data": {
      "text/plain": [
       "'Kevin Kim'"
      ]
     },
     "execution_count": 18,
     "metadata": {},
     "output_type": "execute_result"
    }
   ],
   "source": [
    "# Exercise\n",
    "\n",
    "def fullName(first, last):\n",
    "    return first + \" \" + last\n",
    "fullName(\"Kevin\", \"Kim\")       # consider return as numbers, not strings\n"
   ]
  },
  {
   "cell_type": "code",
   "execution_count": 19,
   "id": "db7f75f4",
   "metadata": {},
   "outputs": [
    {
     "name": "stdout",
     "output_type": "stream",
     "text": [
      "Hi\n"
     ]
    }
   ],
   "source": [
    "def userInput():\n",
    "    return input(\"Enter a word: \")\n",
    "word = userInput()\n",
    "print(word)"
   ]
  },
  {
   "cell_type": "markdown",
   "id": "30d65abb",
   "metadata": {},
   "source": [
    "## Scope"
   ]
  },
  {
   "cell_type": "markdown",
   "id": "88d17864",
   "metadata": {},
   "source": [
    "#### Scope has different classes\n",
    "#### global = declare a variable for access to an entire file or application\n",
    "#### Avoid global in writing your own program, but it's all right in Jupyter\n",
    "#### Function scope = reference to variables being declared and accessible only within functions"
   ]
  },
  {
   "cell_type": "code",
   "execution_count": 23,
   "id": "a772b98c",
   "metadata": {},
   "outputs": [
    {
     "ename": "UnboundLocalError",
     "evalue": "local variable 'number' referenced before assignment",
     "output_type": "error",
     "traceback": [
      "\u001b[1;31m---------------------------------------------------------------------------\u001b[0m",
      "\u001b[1;31mUnboundLocalError\u001b[0m                         Traceback (most recent call last)",
      "Cell \u001b[1;32mIn[23], line 5\u001b[0m\n\u001b[0;32m      3\u001b[0m \u001b[38;5;28;01mdef\u001b[39;00m \u001b[38;5;21mscopeTest\u001b[39m():\n\u001b[0;32m      4\u001b[0m     number \u001b[38;5;241m+\u001b[39m\u001b[38;5;241m=\u001b[39m \u001b[38;5;241m1\u001b[39m     \u001b[38;5;66;03m# not accessible due to function level scope\u001b[39;00m\n\u001b[1;32m----> 5\u001b[0m \u001b[43mscopeTest\u001b[49m\u001b[43m(\u001b[49m\u001b[43m)\u001b[49m\n",
      "Cell \u001b[1;32mIn[23], line 4\u001b[0m, in \u001b[0;36mscopeTest\u001b[1;34m()\u001b[0m\n\u001b[0;32m      3\u001b[0m \u001b[38;5;28;01mdef\u001b[39;00m \u001b[38;5;21mscopeTest\u001b[39m():\n\u001b[1;32m----> 4\u001b[0m     number \u001b[38;5;241m+\u001b[39m\u001b[38;5;241m=\u001b[39m \u001b[38;5;241m1\u001b[39m\n",
      "\u001b[1;31mUnboundLocalError\u001b[0m: local variable 'number' referenced before assignment"
     ]
    }
   ],
   "source": [
    "# where global variables can be accessed\n",
    "number = 5\n",
    "def scopeTest():\n",
    "    number += 1     # not accessible due to function level scope\n",
    "scopeTest()"
   ]
  },
  {
   "cell_type": "code",
   "execution_count": 1,
   "id": "81bbd4a0",
   "metadata": {},
   "outputs": [
    {
     "name": "stdout",
     "output_type": "stream",
     "text": [
      "function\n"
     ]
    }
   ],
   "source": [
    "# accessing variables defined in a function\n",
    "def scopeTest():\n",
    "    word = \"function\"\n",
    "    return word\n",
    "value = scopeTest()\n",
    "print(value)"
   ]
  },
  {
   "cell_type": "code",
   "execution_count": 2,
   "id": "42fd01d5",
   "metadata": {},
   "outputs": [
    {
     "name": "stdout",
     "output_type": "stream",
     "text": [
      "Before Altering: ['baseball', 'football', 'hockey', 'basketball']\n",
      "After Altering: ['soccer', 'football', 'hockey', 'basketball']\n"
     ]
    }
   ],
   "source": [
    "# changing list item values by index\n",
    "sports = [ 'baseball', 'football', 'hockey', 'basketball' ]\n",
    "def change(aList):\n",
    "    aList[0] = 'soccer'\n",
    "print(\"Before Altering: {}\".format(sports))\n",
    "change(sports)\n",
    "print(\"After Altering: {}\".format(sports))"
   ]
  },
  {
   "cell_type": "code",
   "execution_count": null,
   "id": "e417f1cc",
   "metadata": {},
   "outputs": [
    {
     "name": "stdout",
     "output_type": "stream",
     "text": [
      "Before Altering: ['Bob', 'Rich', 'Amanda']\n",
      "After Altering: ['Bob', 'Bill', 'Amanda']\n"
     ]
    }
   ],
   "source": [
    "## Exercise\n",
    "\n",
    "names = ['Bob', 'Rich', 'Amanda']\n",
    "def changeValue(aList, name, index):         #aList refers to names for this exercise\n",
    "    aList[index] = name\n",
    "print(\"Before Altering: {}\".format(names))\n",
    "changeValue(names, \"Bill\", 1)\n",
    "print(\"After Altering: {}\".format(names))"
   ]
  },
  {
   "cell_type": "code",
   "execution_count": null,
   "id": "0473bb47",
   "metadata": {},
   "outputs": [
    {
     "name": "stdout",
     "output_type": "stream",
     "text": [
      "Your cart is empty.\n",
      "Sorry that was not an option\n",
      "Sorry that was not an option\n"
     ]
    }
   ],
   "source": [
    "# import necessary functions\n",
    "from IPython.display import clear_output\n",
    "\n",
    "# global list variable\n",
    "cart = []\n",
    "\n",
    "# create function to add items to cart\n",
    "def addItem(item):\n",
    "    clear_output()\n",
    "    cart.append(item)\n",
    "    print(\"{} has been added\".format(item))\n",
    "\n",
    "# create function to remove items from cart\n",
    "def removeItem(item):\n",
    "    clear_output()\n",
    "    try:\n",
    "        cart.remove(item)\n",
    "        print(\"{} has been removed\".format(item))\n",
    "    except:\n",
    "        print(\"Sorry we could not remove that item.\")  \n",
    "# having a try and except in this case is necessary because if attempting to remove \n",
    "# an item that doesn't exist, the program would crash.\n",
    "\n",
    "# create a function to show items in cart\n",
    "def showCart():\n",
    "    clear_output()\n",
    "    if cart:\n",
    "        print(\"Here is your cart:\")\n",
    "        for item in cart:\n",
    "            print(\"- {}\".format(item))\n",
    "        else:\n",
    "            print(\"Your cart is empty.\")\n",
    "\n",
    "# create function to clear items from cart\n",
    "def clearCart():\n",
    "    clear_output()\n",
    "    cart.clear()\n",
    "    print(\"Your cart is empty.\")      # No main loop at this point\n",
    "\n",
    "# create main function that loops until the user quits\n",
    "def main():\n",
    "    done = False\n",
    "\n",
    "    while not done:\n",
    "        ans = input(\"quit/add/remove/show/clear: \").lower()\n",
    "        \n",
    "        # base case\n",
    "        if ans == \"quit\":\n",
    "            print(\"Thanks for using our program.\")\n",
    "            showCart()\n",
    "            done = True\n",
    "        elif ans == \"add\":\n",
    "            item = input(\"What would you like to add? \").title()\n",
    "            addItem(item)\n",
    "        elif ans == \"remove\":\n",
    "            showCart()\n",
    "            item = input(\"What item would you like to remove? \").title()\n",
    "            removeItem(item)\n",
    "        elif ans == \"show\":\n",
    "            showCart()\n",
    "        elif ans == 'clear':\n",
    "            clearCart()\n",
    "        else:\n",
    "            print(\"Sorry that was not an option\")\n",
    "main()      # run the program"
   ]
  }
 ],
 "metadata": {
  "kernelspec": {
   "display_name": "bootcamp",
   "language": "python",
   "name": "python3"
  },
  "language_info": {
   "codemirror_mode": {
    "name": "ipython",
    "version": 3
   },
   "file_extension": ".py",
   "mimetype": "text/x-python",
   "name": "python",
   "nbconvert_exporter": "python",
   "pygments_lexer": "ipython3",
   "version": "3.10.16"
  }
 },
 "nbformat": 4,
 "nbformat_minor": 5
}
