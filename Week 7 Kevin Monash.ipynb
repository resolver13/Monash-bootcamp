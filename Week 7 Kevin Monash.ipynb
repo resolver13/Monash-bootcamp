{
 "cells": [
  {
   "cell_type": "markdown",
   "id": "3c3522a8",
   "metadata": {},
   "source": [
    "# Class = lessens the code length by allowing the building of blueprint"
   ]
  },
  {
   "cell_type": "code",
   "execution_count": 3,
   "id": "92953ff0",
   "metadata": {},
   "outputs": [],
   "source": [
    "# creating your first class\n",
    "class Car():\n",
    "    pass    # simply using as a placeholder until we add more code tomorrow"
   ]
  },
  {
   "cell_type": "code",
   "execution_count": 5,
   "id": "c8992bb3",
   "metadata": {},
   "outputs": [
    {
     "name": "stdout",
     "output_type": "stream",
     "text": [
      "<__main__.Car object at 0x0000020EC2A48F10>\n"
     ]
    }
   ],
   "source": [
    "# instantiating an object from a class\n",
    "class Car():          # parens are optional here\n",
    "    pass\n",
    "ford = Car()          # this creates an instance of a Car class and stores into the variable ford\n",
    "print(ford)           # the instance of the Car object is stored at a specific location listed below"
   ]
  },
  {
   "cell_type": "code",
   "execution_count": 6,
   "id": "0073769e",
   "metadata": {},
   "outputs": [
    {
     "name": "stdout",
     "output_type": "stream",
     "text": [
      "141401148185\n",
      "141401148074\n"
     ]
    }
   ],
   "source": [
    "#instantiating multiple objects from the same class\n",
    "class Car():\n",
    "    pass\n",
    "ford = Car()\n",
    "subaru = Car()     # creates another object from the car class\n",
    "print(hash(ford))\n",
    "print(hash(subaru))    # hash outputs a numerical representation of the location in memory for the variable"
   ]
  },
  {
   "cell_type": "code",
   "execution_count": 7,
   "id": "5e4d25b9",
   "metadata": {},
   "outputs": [
    {
     "name": "stdout",
     "output_type": "stream",
     "text": [
      "141401147480\n",
      "141401148170\n"
     ]
    }
   ],
   "source": [
    "# Exercise 1\n",
    "class Animals():\n",
    "    pass\n",
    "lion = Animals()\n",
    "tiger = Animals()\n",
    "print(hash(lion))\n",
    "print(hash(tiger))"
   ]
  },
  {
   "cell_type": "code",
   "execution_count": 9,
   "id": "ef27839d",
   "metadata": {},
   "outputs": [],
   "source": [
    "#Exercise 2\n",
    "class Bus():            # parenthesis missing. Can be optional if already established\n",
    "    pass\n",
    "school_bus = Bus()"
   ]
  },
  {
   "cell_type": "code",
   "execution_count": 12,
   "id": "8913ce29",
   "metadata": {},
   "outputs": [
    {
     "name": "stdout",
     "output_type": "stream",
     "text": [
      "red\n",
      "beep\n"
     ]
    }
   ],
   "source": [
    "# how to define a class attribute\n",
    "class Car():\n",
    "    sound = \"beep\"   # all car objects will have this sound attribute and its value\n",
    "    color = \"red\"    # all car objects will have this color attribute and its value\n",
    "\n",
    "ford = Car()\n",
    "print(ford.color)    # known as dot syntax (because there is a dot to separate the variable ford from a class attribute)\n",
    "print(ford.sound)"
   ]
  },
  {
   "cell_type": "code",
   "execution_count": 1,
   "id": "a22d55e9",
   "metadata": {},
   "outputs": [
    {
     "name": "stdout",
     "output_type": "stream",
     "text": [
      "beep\n",
      "BEEEEEEP!\n"
     ]
    }
   ],
   "source": [
    "# changing the value of an attribute\n",
    "class Car():\n",
    "    sound = \"beep\"\n",
    "    color = \"red\"\n",
    "ford = Car()\n",
    "print(ford.sound)    #will output beep\n",
    "ford.sound = \"BEEEEEEP!\"    # this replaces the previous attribute of \"beep\"\n",
    "print(ford.sound)"
   ]
  },
  {
   "cell_type": "code",
   "execution_count": 8,
   "id": "d56e3717",
   "metadata": {},
   "outputs": [
    {
     "name": "stdout",
     "output_type": "stream",
     "text": [
      "blue\n"
     ]
    }
   ],
   "source": [
    "# using the init method to give instances personalized attributes upon creation\n",
    "class Car():\n",
    "    def __init__(self, color): # two underscores each (this is a must)\n",
    "        self.color = color     # sets the attribute color to the value passed in\n",
    "\n",
    "ford = Car(\"blue\")      # instantiating a Car class with the color blue\n",
    "print(ford.color)"
   ]
  },
  {
   "cell_type": "code",
   "execution_count": 11,
   "id": "dcea92e3",
   "metadata": {},
   "outputs": [
    {
     "name": "stdout",
     "output_type": "stream",
     "text": [
      "blue 2016\n",
      "red 2018\n"
     ]
    }
   ],
   "source": [
    "# defining different values for multiple instances\n",
    "class Car():\n",
    "    def __init__(self, color, year):    # self is for the class \"Car\"\n",
    "        self.color = color     # sets the attribute color to the value passed in\n",
    "\n",
    "        self.year = year\n",
    "ford = Car(\"blue\", 2016)\n",
    "subaru = Car(\"red\", 2018)\n",
    "print(ford.color, ford.year)\n",
    "print(subaru.color, subaru.year)"
   ]
  },
  {
   "cell_type": "code",
   "execution_count": 15,
   "id": "6a01991e",
   "metadata": {},
   "outputs": [
    {
     "name": "stdout",
     "output_type": "stream",
     "text": [
      "beep\n",
      "honk blue\n"
     ]
    }
   ],
   "source": [
    "# using and accessing global class attributes\n",
    "class Car():\n",
    "    sound = \"beep\"     # global attribute, which is accessible through the class itself\n",
    "    def __init__(self, sound, color):\n",
    "        self.color = \"blue\"    # instance specific attribute, which is not accessible through the class itself\n",
    "        self.sound = \"honk\"\n",
    "print(Car.sound)\n",
    "# print(Car.color) won't work, as color is only available to instances of the Car class, not the class itself\n",
    "\n",
    "ford = Car(\"honk\", \"blue\")\n",
    "print(ford.sound, ford.color)     #color will work as this is an instance\n",
    "# must have init method in order to have a specific attribute if you want to change the attribute"
   ]
  },
  {
   "cell_type": "code",
   "execution_count": 17,
   "id": "140f3d74",
   "metadata": {},
   "outputs": [
    {
     "name": "stdout",
     "output_type": "stream",
     "text": [
      "Husky Sammi\n",
      "Chocolate Lab Casey\n"
     ]
    }
   ],
   "source": [
    "class Dog():\n",
    "    species = \"Canine\"\n",
    "    def __init__(self, breed, name):\n",
    "        self.name = name\n",
    "        self.breed = breed\n",
    "\n",
    "dog1 = Dog(\"Husky\", \"Sammi\")\n",
    "dog2 = Dog(\"Chocolate Lab\", \"Casey\")\n",
    "\n",
    "print(dog1.breed, dog1.name); print(dog2.breed, dog2.name)"
   ]
  },
  {
   "cell_type": "code",
   "execution_count": 19,
   "id": "c1d9550a",
   "metadata": {},
   "outputs": [
    {
     "name": "stdout",
     "output_type": "stream",
     "text": [
      "Kevin\n"
     ]
    }
   ],
   "source": [
    "class Person():\n",
    "    def __init__(self, name):\n",
    "        name1 = input(\"Please enter your name: \")\n",
    "        self.name = name1\n",
    "\n",
    "ans = Person(\"name1\")\n",
    "print(ans.name)"
   ]
  },
  {
   "cell_type": "markdown",
   "id": "e289dd74",
   "metadata": {},
   "source": [
    "## Method"
   ]
  },
  {
   "cell_type": "code",
   "execution_count": 23,
   "id": "96f1efee",
   "metadata": {},
   "outputs": [
    {
     "name": "stdout",
     "output_type": "stream",
     "text": [
      "bark\n"
     ]
    }
   ],
   "source": [
    "# defining and calling our first class method\n",
    "class Dog():\n",
    "    def makeSound(self):\n",
    "        print(\"bark\")\n",
    "sam = Dog()\n",
    "sam.makeSound()"
   ]
  },
  {
   "cell_type": "code",
   "execution_count": 24,
   "id": "1d7c3a81",
   "metadata": {},
   "outputs": [
    {
     "name": "stdout",
     "output_type": "stream",
     "text": [
      "bark\n"
     ]
    }
   ],
   "source": [
    "# using the self keyword to access attributes within class methods\n",
    "class Dog():\n",
    "    sound = \"bark\"\n",
    "    def makeSound(self):\n",
    "        print(self.sound)      # self required to access attributes defined in the class\n",
    "\n",
    "sam = Dog()\n",
    "sam.makeSound()"
   ]
  },
  {
   "cell_type": "code",
   "execution_count": 25,
   "id": "3e44b54d",
   "metadata": {},
   "outputs": [
    {
     "name": "stdout",
     "output_type": "stream",
     "text": [
      "I am a dog.\n",
      "bark\n"
     ]
    }
   ],
   "source": [
    "# understanding which methods are accessible via the class itself and class instances\n",
    "class Dog():\n",
    "    sound = \"bark\"\n",
    "    def makeSound(self):\n",
    "        print(self.sound)\n",
    "    def printInfo():\n",
    "        print(\"I am a dog.\")\n",
    "Dog.printInfo()        # able to run printInfo method because it does not include self parameter\n",
    "# Dog.makeSound() would produce error, self is in reference to instances only\n",
    "sam = Dog()\n",
    "sam.makeSound()      # able to access, self can reference the instance of sam \n",
    "# sam.printInfo() will produce error, instances require the self parameter to access methods"
   ]
  },
  {
   "cell_type": "code",
   "execution_count": 26,
   "id": "bd36edae",
   "metadata": {},
   "outputs": [
    {
     "name": "stdout",
     "output_type": "stream",
     "text": [
      "6\n"
     ]
    }
   ],
   "source": [
    "# writing methods that accept parameters\n",
    "class Dog():\n",
    "    def showAge(self, age):\n",
    "        print(age)      # does not need self, age is referencing the parameter, not an attribute\n",
    "\n",
    "sam = Dog()\n",
    "sam.showAge(6)        # passing the integer 6 as an argument to the showAge method"
   ]
  },
  {
   "cell_type": "code",
   "execution_count": null,
   "id": "962162e6",
   "metadata": {},
   "outputs": [
    {
     "name": "stdout",
     "output_type": "stream",
     "text": [
      "Sammi\n"
     ]
    }
   ],
   "source": [
    "# using methods to set or return attribute values, proper programming practice (getter and setter methods)\n",
    "\n",
    "class Dog():\n",
    "    name = '' # would normally use init method to declare, this is for testing purposes\n",
    "\n",
    "    def setName(self, new_name):\n",
    "        self.name = new_name     # declares the new value for the name attribute\n",
    "\n",
    "    def getName(self):\n",
    "        return self.name         # returns the value of the name attribute\n",
    "\n",
    "sam = Dog()\n",
    "sam.setName(\"Sammi\")\n",
    "print(sam.getName())      # prints the returned value of self.name"
   ]
  },
  {
   "cell_type": "code",
   "execution_count": 29,
   "id": "0947a216",
   "metadata": {},
   "outputs": [
    {
     "name": "stdout",
     "output_type": "stream",
     "text": [
      "6\n"
     ]
    }
   ],
   "source": [
    "# incrementing/decrementing attribute values with methods, best programming practice\n",
    "class Dog():\n",
    "    age = 5\n",
    "    def happyBirthday(self):\n",
    "        self.age += 1\n",
    "sam = Dog()\n",
    "sam.happyBirthday()    # calls method to increment value by one\n",
    "print(sam.age)      # better practice use getters; this is for testing purposes"
   ]
  },
  {
   "cell_type": "code",
   "execution_count": 30,
   "id": "f323075d",
   "metadata": {},
   "outputs": [
    {
     "name": "stdout",
     "output_type": "stream",
     "text": [
      "Puppy!\n"
     ]
    }
   ],
   "source": [
    "# calling a class method from another method\n",
    "class Dog():\n",
    "    age = 6\n",
    "    def getAge(self):\n",
    "        return self.age\n",
    "    def printInfo(self):\n",
    "        if self.getAge() < 10:         # need self to call other method for an instance\n",
    "            print(\"Puppy!\")\n",
    "\n",
    "sam = Dog()\n",
    "sam.printInfo()"
   ]
  },
  {
   "cell_type": "code",
   "execution_count": 32,
   "id": "03971b77",
   "metadata": {},
   "outputs": [
    {
     "name": "stdout",
     "output_type": "stream",
     "text": [
      "This is a dog class\n"
     ]
    }
   ],
   "source": [
    "# using magic methods\n",
    "class Dog():\n",
    "    def __str__(self):\n",
    "        return \"This is a dog class\"\n",
    "sam = Dog()\n",
    "print(sam)     # will print the return of the string magic method"
   ]
  },
  {
   "cell_type": "code",
   "execution_count": 34,
   "id": "b0dc98a2",
   "metadata": {},
   "outputs": [
    {
     "data": {
      "text/plain": [
       "'Feline'"
      ]
     },
     "execution_count": 34,
     "metadata": {},
     "output_type": "execute_result"
    }
   ],
   "source": [
    "# Exercise 1\n",
    "class animal():\n",
    "    def __init__(self):\n",
    "        species = ''\n",
    "\n",
    "    def setSpecies(self, species):\n",
    "        self.species = species\n",
    "    \n",
    "    def getSpecies(self):\n",
    "        return self.species\n",
    "    \n",
    "lion = animal()\n",
    "lion.setSpecies('Feline')\n",
    "lion.getSpecies()"
   ]
  },
  {
   "cell_type": "code",
   "execution_count": 35,
   "id": "c9a6b5c2",
   "metadata": {},
   "outputs": [
    {
     "name": "stdout",
     "output_type": "stream",
     "text": [
      "You are 64 years old.\n"
     ]
    }
   ],
   "source": [
    "#Exercise 2\n",
    "class Person():\n",
    "    def __init__(self, name):\n",
    "        self.name = name\n",
    "        self.age = 0\n",
    "\n",
    "    def setAge(self, age):\n",
    "        self.age = age\n",
    "\n",
    "    def getAge(self):\n",
    "        return self.age\n",
    "    \n",
    "p = Person(\"Kevin\")\n",
    "\n",
    "num = input(\"How old are you?\")\n",
    "\n",
    "p.setAge(num)\n",
    "\n",
    "print(\"You are {} years old.\".format(p.getAge()))"
   ]
  },
  {
   "cell_type": "markdown",
   "id": "88b5c601",
   "metadata": {},
   "source": [
    "### inheritance = write two virtually similar codes into one if attributes, code, and methods are nearly identical"
   ]
  },
  {
   "cell_type": "code",
   "execution_count": 38,
   "id": "59a85efa",
   "metadata": {},
   "outputs": [
    {
     "name": "stdout",
     "output_type": "stream",
     "text": [
      "roar\n"
     ]
    }
   ],
   "source": [
    "# inheriting a class and accessing the inherited method\n",
    "class Animal():\n",
    "    def makeSound(self):\n",
    "        print(\"roar\")\n",
    "class Dog(Animal):       # inheriting Animal class\n",
    "    species = \"Canine\"\n",
    "sam = Dog()\n",
    "sam.makeSound()          # accessible through inheritance\n",
    "lion = Animal()\n",
    "# lion.species not accessible, inheritance does not work backwards"
   ]
  },
  {
   "cell_type": "code",
   "execution_count": 39,
   "id": "f9a2b2b2",
   "metadata": {},
   "outputs": [
    {
     "name": "stdout",
     "output_type": "stream",
     "text": [
      "Canine\n"
     ]
    }
   ],
   "source": [
    "# using the super() method to declare inherited attributes\n",
    "class Animal():\n",
    "    def __init__(self, species):\n",
    "        self.species = species\n",
    "class Dog(Animal):\n",
    "    def __init__(self, species, name):\n",
    "        self.name = name\n",
    "        super().__init__(species)       # using super to declare the species attribute defined in Animal\n",
    "\n",
    "sam = Dog(\"Canine\", \"Sammi\")\n",
    "print(sam.species)"
   ]
  },
  {
   "cell_type": "code",
   "execution_count": 40,
   "id": "04734bea",
   "metadata": {},
   "outputs": [
    {
     "name": "stdout",
     "output_type": "stream",
     "text": [
      "bark\n",
      "roar\n"
     ]
    }
   ],
   "source": [
    "# overriding methods defined in the superclass\n",
    "class Animal():\n",
    "    def makeSound(self):\n",
    "        print(\"roar\")\n",
    "class Dog(Animal):\n",
    "    def makeSound(self):\n",
    "        print(\"bark\")\n",
    "sam, lion = Dog(), Animal()    # declaring multiple variables on a single line\n",
    "sam.makeSound()                # overriding will call the makeSound method in Dog\n",
    "lion.makeSound()               # no overriding occurs as Animal does not inherit anything"
   ]
  },
  {
   "cell_type": "code",
   "execution_count": 41,
   "id": "08df5372",
   "metadata": {},
   "outputs": [
    {
     "name": "stdout",
     "output_type": "stream",
     "text": [
      "9.8 Ford\n"
     ]
    }
   ],
   "source": [
    "# how to inherit multiple classes\n",
    "class Physics():\n",
    "    gravity = 9.8\n",
    "\n",
    "class Automobile():\n",
    "    def __init__(self, make, model, year):\n",
    "        self.make, self.model, self.year = make, model, year  # declaring all attributes in one line\n",
    "\n",
    "class Ford(Physics, Automobile):                   # able to access Physics and Automobile attributes and methods\n",
    "    def __init__(self, model, year):\n",
    "        Automobile.__init__(self, \"Ford\", model, year) # super does not work with multiple\n",
    "\n",
    "truck = Ford(\"F-150\", 2018)\n",
    "print(truck.gravity, truck.make) # output both attributes"
   ]
  },
  {
   "cell_type": "code",
   "execution_count": 42,
   "id": "91cfa471",
   "metadata": {},
   "outputs": [
    {
     "name": "stdout",
     "output_type": "stream",
     "text": [
      "Hello, my name is Max and I on the good guys\n",
      "Hello, my name is Tony and I on the bad guys\n"
     ]
    }
   ],
   "source": [
    "# Exercise 1\n",
    "class Characters():\n",
    "    def __init__(self, name, team, height, weight):\n",
    "        self.name, self.team, self.height, self.weight = name, team, height, weight\n",
    "\n",
    "    def sayHello(self):\n",
    "        print(\"Hello, my name is {} and I on the {} guys\".format(self.name, self.team))\n",
    "\n",
    "class Good(Characters):\n",
    "    def __init__(self, name, height, weight):\n",
    "        super().__init__(name, 'good', height, weight)\n",
    "\n",
    "class Bad(Characters):\n",
    "    def __init__(self, name, height, weight):\n",
    "        super().__init__(name, 'bad', height, weight)\n",
    "\n",
    "char1 = Good('Max', '5\\'11', 183)\n",
    "char2 = Bad('Tony', '6\\'3', 201)\n",
    "\n",
    "char1.sayHello()\n",
    "char2.sayHello()"
   ]
  },
  {
   "cell_type": "code",
   "execution_count": 112,
   "id": "b63e68c7",
   "metadata": {},
   "outputs": [
    {
     "name": "stdout",
     "output_type": "stream",
     "text": [
      "\n",
      "Kevin\n",
      "===========\n",
      "7 of Clubs\n",
      "6 of Diamonds\n",
      "4 of Clubs\n",
      "Total = 17\n",
      "\n",
      "Dealer\n",
      "===========\n",
      "10 of Hearts\n",
      "6 of Clubs\n",
      "3 of Spades\n",
      "Total = 19\n",
      "Dealer has higher cards, you lose!\n"
     ]
    }
   ],
   "source": [
    "# importing necessary functions\n",
    "from random import randint    # for random number\n",
    "from IPython.display import clear_output\n",
    "\n",
    "# create the blackjack class, which will hold all game methods and attributes\n",
    "class Blackjack():\n",
    "    def __init__(self):\n",
    "        self.deck = []     # set to an empty list\n",
    "        self.suits = (\"Spades\", \"Hearts\", \"Diamonds\", \"Clubs\")\n",
    "        self.values = (2, 3, 4, 5, 6, 7, 8, 9, 10, \"J\", \"Q\", \"K\", \"A\")\n",
    "\n",
    "    # create a method that creates a deck of 52 cards, each card should be a tuple with a value and suit\n",
    "    def makeDeck(self):\n",
    "        for suit in self.suits:\n",
    "            for value in self.values:\n",
    "                self.deck.append((value, suit))      # ex: (7, \"Hearts\")\n",
    "\n",
    "# method to pop a card from deck using a random index value\n",
    "    def pullCard(self):\n",
    "        return self.deck.pop( randint(0, len(self.deck) - 1) )\n",
    "\n",
    "# create a class for the dealer and player objects\n",
    "class Player():\n",
    "    def __init__(self, name):\n",
    "        self.name = name\n",
    "        self.hand = []\n",
    "\n",
    "# take in a tuple and append it to the hand\n",
    "    def addCard(self, card):\n",
    "        self.hand.append(card)\n",
    "\n",
    "# if not dealer's turn, then only show one of his cards, otherwise show all cards\n",
    "    def showHand(self, dealer_start=True):\n",
    "        print(\"\\n{}\".format(self.name))\n",
    "        print(\"===========\")\n",
    "\n",
    "        for i in range(len(self.hand)):\n",
    "            if self.name == 'Dealer' and i == 0 and dealer_start:\n",
    "                print('- of -')    # hide first card\n",
    "            else:\n",
    "                card = self.hand[i]\n",
    "                print(\"{} of {}\".format(card[0], card[1]))\n",
    "        print(\"Total = {}\".format(self.calcHand(dealer_start)))\n",
    "\n",
    "# if not dealer's turn then only give back total of second card\n",
    "    def calcHand(self, dealer_start=True):\n",
    "        total = 0\n",
    "        aces = 0    # calculate aces afterwards\n",
    "        card_values = {1:1, 2:2, 3:3, 4:4, 5:5, 6:6, 7:7, 8:8, 9:9, 10:10, 'J':10, 'Q':10, 'K':10, 'A':11}\n",
    "\n",
    "        if self.name == 'Dealer' and dealer_start:\n",
    "            card = self.hand[1]\n",
    "            return card_values[card[0]]\n",
    "        \n",
    "        for card in self.hand:\n",
    "            if card[0] == 'A':\n",
    "                aces += 1\n",
    "            else:\n",
    "                total += card_values[card[0]]\n",
    "\n",
    "        for i in range(aces):\n",
    "            if total + 11 > 21:\n",
    "                total += 1\n",
    "            else:\n",
    "                total += 11\n",
    "\n",
    "        return total\n",
    "    \n",
    "game = Blackjack()\n",
    "game.makeDeck()\n",
    "\n",
    "name = input(\"What is your name?\")\n",
    "player = Player(name)\n",
    "dealer = Player('Dealer')\n",
    "\n",
    "# add two cards to the dealer and player hand\n",
    "for i in range(2):\n",
    "    player.addCard(game.pullCard())\n",
    "    dealer.addCard(game.pullCard())\n",
    "\n",
    "# show both hands using method\n",
    "player.showHand()\n",
    "dealer.showHand()\n",
    "\n",
    "player_bust = False\n",
    "\n",
    "while input('Would you like to stay or hit?').lower() != 'stay':\n",
    "    clear_output()\n",
    "\n",
    "    # pull card and put into player's hand\n",
    "    player.addCard(game.pullCard())\n",
    "\n",
    "    # show both hands using method\n",
    "    player.showHand()\n",
    "    dealer.showHand()\n",
    "\n",
    "    # check if over 21\n",
    "    if player.calcHand() > 21:\n",
    "        player_bust = True\n",
    "        break\n",
    "\n",
    "# handling the dealer's turn, only run if player didn't bust\n",
    "dealer_bust = False\n",
    "\n",
    "if not player_bust:\n",
    "    while dealer.calcHand(False) < 17:\n",
    "        #pull card and put into player's hand\n",
    "        dealer.addCard(game.pullCard())\n",
    "\n",
    "    # check if over 21\n",
    "        if player.calcHand() > 21:\n",
    "            player_bust = True\n",
    "            break\n",
    "\n",
    "clear_output()\n",
    "\n",
    "# show both hands using method\n",
    "player.showHand()\n",
    "dealer.showHand(False)\n",
    "\n",
    "# calculate a winner\n",
    "if player_bust:\n",
    "    print('You busted, better luck next time!')\n",
    "elif dealer_bust:\n",
    "    print('The dealer busted, you win!')\n",
    "elif dealer.calcHand(False) > player.calcHand():\n",
    "    print('Dealer has higher cards, you lose!')\n",
    "elif dealer.calcHand(False) < player.calcHand():\n",
    "    print('You beat the dealer! Congrats!')\n",
    "else:\n",
    "    print(\"You pushed, no one wins!\")"
   ]
  }
 ],
 "metadata": {
  "kernelspec": {
   "display_name": "bootcamp",
   "language": "python",
   "name": "python3"
  },
  "language_info": {
   "codemirror_mode": {
    "name": "ipython",
    "version": 3
   },
   "file_extension": ".py",
   "mimetype": "text/x-python",
   "name": "python",
   "nbconvert_exporter": "python",
   "pygments_lexer": "ipython3",
   "version": "3.10.16"
  }
 },
 "nbformat": 4,
 "nbformat_minor": 5
}
